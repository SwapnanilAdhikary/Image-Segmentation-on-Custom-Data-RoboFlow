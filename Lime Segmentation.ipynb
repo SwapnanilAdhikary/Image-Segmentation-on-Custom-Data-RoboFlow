{
 "cells": [
  {
   "cell_type": "code",
   "execution_count": 1,
   "id": "2229af47-2b17-4983-ac8f-080a4df3dbe8",
   "metadata": {
    "scrolled": true
   },
   "outputs": [
    {
     "name": "stdout",
     "output_type": "stream",
     "text": [
      "Ultralytics 8.3.0  Python-3.12.4 torch-2.4.1+cpu CPU (12th Gen Intel Core(TM) i7-12650H)\n",
      "\u001b[34m\u001b[1mengine\\trainer: \u001b[0mtask=detect, mode=train, model=yolov8n.pt, data=C:\\Users\\adhik\\Downloads\\Lime\\data.yaml, epochs=50, time=None, patience=100, batch=16, imgsz=640, save=True, save_period=-1, cache=False, device=None, workers=8, project=None, name=train4, exist_ok=False, pretrained=True, optimizer=auto, verbose=True, seed=0, deterministic=True, single_cls=False, rect=False, cos_lr=False, close_mosaic=10, resume=False, amp=True, fraction=1.0, profile=False, freeze=None, multi_scale=False, overlap_mask=True, mask_ratio=4, dropout=0.0, val=True, split=val, save_json=False, save_hybrid=False, conf=None, iou=0.7, max_det=300, half=False, dnn=False, plots=True, source=None, vid_stride=1, stream_buffer=False, visualize=False, augment=False, agnostic_nms=False, classes=None, retina_masks=False, embed=None, show=False, save_frames=False, save_txt=False, save_conf=False, save_crop=False, show_labels=True, show_conf=True, show_boxes=True, line_width=None, format=torchscript, keras=False, optimize=False, int8=False, dynamic=False, simplify=True, opset=None, workspace=4, nms=False, lr0=0.01, lrf=0.01, momentum=0.937, weight_decay=0.0005, warmup_epochs=3.0, warmup_momentum=0.8, warmup_bias_lr=0.1, box=7.5, cls=0.5, dfl=1.5, pose=12.0, kobj=1.0, label_smoothing=0.0, nbs=64, hsv_h=0.015, hsv_s=0.7, hsv_v=0.4, degrees=0.0, translate=0.1, scale=0.5, shear=0.0, perspective=0.0, flipud=0.0, fliplr=0.5, bgr=0.0, mosaic=1.0, mixup=0.0, copy_paste=0.0, copy_paste_mode=flip, auto_augment=randaugment, erasing=0.4, crop_fraction=1.0, cfg=None, tracker=botsort.yaml, save_dir=C:\\Users\\adhik\\runs\\detect\\train4\n",
      "Overriding model.yaml nc=80 with nc=1\n",
      "\n",
      "                   from  n    params  module                                       arguments                     \n",
      "  0                  -1  1       464  ultralytics.nn.modules.conv.Conv             [3, 16, 3, 2]                 \n",
      "  1                  -1  1      4672  ultralytics.nn.modules.conv.Conv             [16, 32, 3, 2]                \n",
      "  2                  -1  1      7360  ultralytics.nn.modules.block.C2f             [32, 32, 1, True]             \n",
      "  3                  -1  1     18560  ultralytics.nn.modules.conv.Conv             [32, 64, 3, 2]                \n",
      "  4                  -1  2     49664  ultralytics.nn.modules.block.C2f             [64, 64, 2, True]             \n",
      "  5                  -1  1     73984  ultralytics.nn.modules.conv.Conv             [64, 128, 3, 2]               \n",
      "  6                  -1  2    197632  ultralytics.nn.modules.block.C2f             [128, 128, 2, True]           \n",
      "  7                  -1  1    295424  ultralytics.nn.modules.conv.Conv             [128, 256, 3, 2]              \n",
      "  8                  -1  1    460288  ultralytics.nn.modules.block.C2f             [256, 256, 1, True]           \n",
      "  9                  -1  1    164608  ultralytics.nn.modules.block.SPPF            [256, 256, 5]                 \n",
      " 10                  -1  1         0  torch.nn.modules.upsampling.Upsample         [None, 2, 'nearest']          \n",
      " 11             [-1, 6]  1         0  ultralytics.nn.modules.conv.Concat           [1]                           \n",
      " 12                  -1  1    148224  ultralytics.nn.modules.block.C2f             [384, 128, 1]                 \n",
      " 13                  -1  1         0  torch.nn.modules.upsampling.Upsample         [None, 2, 'nearest']          \n",
      " 14             [-1, 4]  1         0  ultralytics.nn.modules.conv.Concat           [1]                           \n",
      " 15                  -1  1     37248  ultralytics.nn.modules.block.C2f             [192, 64, 1]                  \n",
      " 16                  -1  1     36992  ultralytics.nn.modules.conv.Conv             [64, 64, 3, 2]                \n",
      " 17            [-1, 12]  1         0  ultralytics.nn.modules.conv.Concat           [1]                           \n",
      " 18                  -1  1    123648  ultralytics.nn.modules.block.C2f             [192, 128, 1]                 \n",
      " 19                  -1  1    147712  ultralytics.nn.modules.conv.Conv             [128, 128, 3, 2]              \n",
      " 20             [-1, 9]  1         0  ultralytics.nn.modules.conv.Concat           [1]                           \n",
      " 21                  -1  1    493056  ultralytics.nn.modules.block.C2f             [384, 256, 1]                 \n",
      " 22        [15, 18, 21]  1    430867  ultralytics.nn.modules.head.Detect           [1, [64, 128, 256]]           \n",
      "Model summary: 249 layers, 2,690,403 parameters, 2,690,387 gradients, 6.9 GFLOPs\n",
      "\n",
      "Transferred 313/391 items from pretrained weights\n",
      "\u001b[34m\u001b[1mTensorBoard: \u001b[0mStart with 'tensorboard --logdir C:\\Users\\adhik\\runs\\detect\\train4', view at http://localhost:6006/\n"
     ]
    },
    {
     "name": "stderr",
     "output_type": "stream",
     "text": [
      "wandb: Currently logged in as: adhikaryswapnanil (adhikaryswapnanil-none). Use `wandb login --relogin` to force relogin\n"
     ]
    },
    {
     "data": {
      "text/html": [
       "wandb version 0.18.2 is available!  To upgrade, please run:\n",
       " $ pip install wandb --upgrade"
      ],
      "text/plain": [
       "<IPython.core.display.HTML object>"
      ]
     },
     "metadata": {},
     "output_type": "display_data"
    },
    {
     "data": {
      "text/html": [
       "Tracking run with wandb version 0.17.4"
      ],
      "text/plain": [
       "<IPython.core.display.HTML object>"
      ]
     },
     "metadata": {},
     "output_type": "display_data"
    },
    {
     "data": {
      "text/html": [
       "Run data is saved locally in <code>C:\\Users\\adhik\\wandb\\run-20240930_141742-628mainl</code>"
      ],
      "text/plain": [
       "<IPython.core.display.HTML object>"
      ]
     },
     "metadata": {},
     "output_type": "display_data"
    },
    {
     "data": {
      "text/html": [
       "Syncing run <strong><a href='https://wandb.ai/adhikaryswapnanil-none/YOLOv8/runs/628mainl' target=\"_blank\">train4</a></strong> to <a href='https://wandb.ai/adhikaryswapnanil-none/YOLOv8' target=\"_blank\">Weights & Biases</a> (<a href='https://wandb.me/run' target=\"_blank\">docs</a>)<br/>"
      ],
      "text/plain": [
       "<IPython.core.display.HTML object>"
      ]
     },
     "metadata": {},
     "output_type": "display_data"
    },
    {
     "data": {
      "text/html": [
       " View project at <a href='https://wandb.ai/adhikaryswapnanil-none/YOLOv8' target=\"_blank\">https://wandb.ai/adhikaryswapnanil-none/YOLOv8</a>"
      ],
      "text/plain": [
       "<IPython.core.display.HTML object>"
      ]
     },
     "metadata": {},
     "output_type": "display_data"
    },
    {
     "data": {
      "text/html": [
       " View run at <a href='https://wandb.ai/adhikaryswapnanil-none/YOLOv8/runs/628mainl' target=\"_blank\">https://wandb.ai/adhikaryswapnanil-none/YOLOv8/runs/628mainl</a>"
      ],
      "text/plain": [
       "<IPython.core.display.HTML object>"
      ]
     },
     "metadata": {},
     "output_type": "display_data"
    },
    {
     "name": "stdout",
     "output_type": "stream",
     "text": [
      "Freezing layer 'model.22.dfl.conv.weight'\n"
     ]
    },
    {
     "name": "stderr",
     "output_type": "stream",
     "text": [
      "train: Scanning C:\\Users\\adhik\\Downloads\\Lime\\train\\labels.cache... 115 images, 1 backgrounds, 0 corrupt: 100%|████████Scanning C:\\Users\\adhik\\Downloads\\Lime\\train\\labels.cache... 115 images, 1 backgrounds, 0 corrupt: 100%|████████\n",
      "val: Scanning C:\\Users\\adhik\\Downloads\\Lime\\valid\\labels.cache... 33 images, 2 backgrounds, 0 corrupt: 100%|██████████|Scanning C:\\Users\\adhik\\Downloads\\Lime\\valid\\labels.cache... 33 images, 2 backgrounds, 0 corrupt: 100%|██████████|\n"
     ]
    },
    {
     "name": "stdout",
     "output_type": "stream",
     "text": [
      "Plotting labels to C:\\Users\\adhik\\runs\\detect\\train4\\labels.jpg... \n",
      "\u001b[34m\u001b[1moptimizer:\u001b[0m 'optimizer=auto' found, ignoring 'lr0=0.01' and 'momentum=0.937' and determining best 'optimizer', 'lr0' and 'momentum' automatically... \n",
      "\u001b[34m\u001b[1moptimizer:\u001b[0m AdamW(lr=0.002, momentum=0.9) with parameter groups 63 weight(decay=0.0), 70 weight(decay=0.0005), 69 bias(decay=0.0)\n",
      "\u001b[34m\u001b[1mTensorBoard: \u001b[0mmodel graph visualization added \n",
      "Image sizes 640 train, 640 val\n",
      "Using 0 dataloader workers\n",
      "Logging results to \u001b[1mC:\\Users\\adhik\\runs\\detect\\train4\u001b[0m\n",
      "Starting training for 50 epochs...\n",
      "\n",
      "      Epoch    GPU_mem   box_loss   cls_loss   dfl_loss  Instances       Size\n"
     ]
    },
    {
     "name": "stderr",
     "output_type": "stream",
     "text": [
      "       1/50         0G     0.9369      3.644      1.205          7        640: 100%|██████████| 8/8 [00:46<00:00,  5.83\n",
      "                 Class     Images  Instances      Box(P          R      mAP50  mAP50-95): 100%|██████████| 2/2 [00:05<0\n"
     ]
    },
    {
     "name": "stdout",
     "output_type": "stream",
     "text": [
      "                   all         33         43    0.00384      0.884      0.118     0.0607\n",
      "\n",
      "      Epoch    GPU_mem   box_loss   cls_loss   dfl_loss  Instances       Size\n"
     ]
    },
    {
     "name": "stderr",
     "output_type": "stream",
     "text": [
      "       2/50         0G      0.924      3.112      1.086         12        640: 100%|██████████| 8/8 [00:46<00:00,  5.83\n",
      "                 Class     Images  Instances      Box(P          R      mAP50  mAP50-95): 100%|██████████| 2/2 [00:04<0\n"
     ]
    },
    {
     "name": "stdout",
     "output_type": "stream",
     "text": [
      "                   all         33         43    0.00394      0.907      0.439      0.265\n",
      "\n",
      "      Epoch    GPU_mem   box_loss   cls_loss   dfl_loss  Instances       Size\n"
     ]
    },
    {
     "name": "stderr",
     "output_type": "stream",
     "text": [
      "       3/50         0G      1.005       2.51      1.067          3        640: 100%|██████████| 8/8 [00:46<00:00,  5.79\n",
      "                 Class     Images  Instances      Box(P          R      mAP50  mAP50-95): 100%|██████████| 2/2 [00:04<0\n"
     ]
    },
    {
     "name": "stdout",
     "output_type": "stream",
     "text": [
      "                   all         33         43    0.00374       0.86      0.597      0.387\n",
      "\n",
      "      Epoch    GPU_mem   box_loss   cls_loss   dfl_loss  Instances       Size\n"
     ]
    },
    {
     "name": "stderr",
     "output_type": "stream",
     "text": [
      "       4/50         0G      1.065      2.213      1.089          5        640: 100%|██████████| 8/8 [00:45<00:00,  5.71\n",
      "                 Class     Images  Instances      Box(P          R      mAP50  mAP50-95): 100%|██████████| 2/2 [00:04<0\n"
     ]
    },
    {
     "name": "stdout",
     "output_type": "stream",
     "text": [
      "                   all         33         43    0.00323      0.744      0.118     0.0487\n",
      "\n",
      "      Epoch    GPU_mem   box_loss   cls_loss   dfl_loss  Instances       Size\n"
     ]
    },
    {
     "name": "stderr",
     "output_type": "stream",
     "text": [
      "       5/50         0G      1.108      1.698      1.086          8        640: 100%|██████████| 8/8 [00:45<00:00,  5.69\n",
      "                 Class     Images  Instances      Box(P          R      mAP50  mAP50-95): 100%|██████████| 2/2 [00:04<0\n"
     ]
    },
    {
     "name": "stdout",
     "output_type": "stream",
     "text": [
      "                   all         33         43    0.00333      0.767      0.124     0.0853\n",
      "\n",
      "      Epoch    GPU_mem   box_loss   cls_loss   dfl_loss  Instances       Size\n"
     ]
    },
    {
     "name": "stderr",
     "output_type": "stream",
     "text": [
      "       6/50         0G      1.039      1.649      1.048          9        640: 100%|██████████| 8/8 [00:46<00:00,  5.77\n",
      "                 Class     Images  Instances      Box(P          R      mAP50  mAP50-95): 100%|██████████| 2/2 [00:04<0\n"
     ]
    },
    {
     "name": "stdout",
     "output_type": "stream",
     "text": [
      "                   all         33         43    0.00394      0.907      0.458      0.345\n",
      "\n",
      "      Epoch    GPU_mem   box_loss   cls_loss   dfl_loss  Instances       Size\n"
     ]
    },
    {
     "name": "stderr",
     "output_type": "stream",
     "text": [
      "       7/50         0G        1.1      1.759      1.125          7        640: 100%|██████████| 8/8 [00:45<00:00,  5.64\n",
      "                 Class     Images  Instances      Box(P          R      mAP50  mAP50-95): 100%|██████████| 2/2 [00:03<0\n"
     ]
    },
    {
     "name": "stdout",
     "output_type": "stream",
     "text": [
      "                   all         33         43    0.00404       0.93      0.548      0.389\n",
      "\n",
      "      Epoch    GPU_mem   box_loss   cls_loss   dfl_loss  Instances       Size\n"
     ]
    },
    {
     "name": "stderr",
     "output_type": "stream",
     "text": [
      "       8/50         0G      1.072       1.73       1.13          5        640: 100%|██████████| 8/8 [00:45<00:00,  5.63\n",
      "                 Class     Images  Instances      Box(P          R      mAP50  mAP50-95): 100%|██████████| 2/2 [00:04<0\n"
     ]
    },
    {
     "name": "stdout",
     "output_type": "stream",
     "text": [
      "                   all         33         43    0.00404       0.93      0.597      0.406\n",
      "\n",
      "      Epoch    GPU_mem   box_loss   cls_loss   dfl_loss  Instances       Size\n"
     ]
    },
    {
     "name": "stderr",
     "output_type": "stream",
     "text": [
      "       9/50         0G      1.078      1.576      1.173          4        640: 100%|██████████| 8/8 [00:47<00:00,  5.88\n",
      "                 Class     Images  Instances      Box(P          R      mAP50  mAP50-95): 100%|██████████| 2/2 [00:04<0\n"
     ]
    },
    {
     "name": "stdout",
     "output_type": "stream",
     "text": [
      "                   all         33         43    0.00404       0.93      0.458      0.321\n",
      "\n",
      "      Epoch    GPU_mem   box_loss   cls_loss   dfl_loss  Instances       Size\n"
     ]
    },
    {
     "name": "stderr",
     "output_type": "stream",
     "text": [
      "      10/50         0G      1.047      1.455      1.133          4        640: 100%|██████████| 8/8 [00:48<00:00,  6.03\n",
      "                 Class     Images  Instances      Box(P          R      mAP50  mAP50-95): 100%|██████████| 2/2 [00:04<0\n"
     ]
    },
    {
     "name": "stdout",
     "output_type": "stream",
     "text": [
      "                   all         33         43          1      0.262      0.614      0.402\n",
      "\n",
      "      Epoch    GPU_mem   box_loss   cls_loss   dfl_loss  Instances       Size\n"
     ]
    },
    {
     "name": "stderr",
     "output_type": "stream",
     "text": [
      "      11/50         0G      1.004      1.426      1.108         10        640: 100%|██████████| 8/8 [00:47<00:00,  5.91\n",
      "                 Class     Images  Instances      Box(P          R      mAP50  mAP50-95): 100%|██████████| 2/2 [00:04<0\n"
     ]
    },
    {
     "name": "stdout",
     "output_type": "stream",
     "text": [
      "                   all         33         43    0.00568      0.767      0.432      0.302\n",
      "\n",
      "      Epoch    GPU_mem   box_loss   cls_loss   dfl_loss  Instances       Size\n"
     ]
    },
    {
     "name": "stderr",
     "output_type": "stream",
     "text": [
      "      12/50         0G      1.084       1.48      1.137          7        640: 100%|██████████| 8/8 [00:48<00:00,  6.01\n",
      "                 Class     Images  Instances      Box(P          R      mAP50  mAP50-95): 100%|██████████| 2/2 [00:04<0\n"
     ]
    },
    {
     "name": "stdout",
     "output_type": "stream",
     "text": [
      "                   all         33         43          1      0.158       0.46      0.299\n",
      "\n",
      "      Epoch    GPU_mem   box_loss   cls_loss   dfl_loss  Instances       Size\n"
     ]
    },
    {
     "name": "stderr",
     "output_type": "stream",
     "text": [
      "      13/50         0G      1.029      1.363      1.122          9        640: 100%|██████████| 8/8 [00:47<00:00,  5.97\n",
      "                 Class     Images  Instances      Box(P          R      mAP50  mAP50-95): 100%|██████████| 2/2 [00:03<0\n"
     ]
    },
    {
     "name": "stdout",
     "output_type": "stream",
     "text": [
      "                   all         33         43      0.848      0.519      0.624      0.413\n",
      "\n",
      "      Epoch    GPU_mem   box_loss   cls_loss   dfl_loss  Instances       Size\n"
     ]
    },
    {
     "name": "stderr",
     "output_type": "stream",
     "text": [
      "      14/50         0G      1.134      1.482      1.172          4        640: 100%|██████████| 8/8 [00:47<00:00,  5.88\n",
      "                 Class     Images  Instances      Box(P          R      mAP50  mAP50-95): 100%|██████████| 2/2 [00:03<0\n"
     ]
    },
    {
     "name": "stdout",
     "output_type": "stream",
     "text": [
      "                   all         33         43      0.806      0.488      0.604      0.406\n",
      "\n",
      "      Epoch    GPU_mem   box_loss   cls_loss   dfl_loss  Instances       Size\n"
     ]
    },
    {
     "name": "stderr",
     "output_type": "stream",
     "text": [
      "      15/50         0G      1.051      1.383      1.129          6        640: 100%|██████████| 8/8 [00:47<00:00,  5.99\n",
      "                 Class     Images  Instances      Box(P          R      mAP50  mAP50-95): 100%|██████████| 2/2 [00:04<0\n"
     ]
    },
    {
     "name": "stdout",
     "output_type": "stream",
     "text": [
      "                   all         33         43      0.803      0.605      0.654      0.442\n",
      "\n",
      "      Epoch    GPU_mem   box_loss   cls_loss   dfl_loss  Instances       Size\n"
     ]
    },
    {
     "name": "stderr",
     "output_type": "stream",
     "text": [
      "      16/50         0G      1.002      1.247      1.127          7        640: 100%|██████████| 8/8 [00:47<00:00,  5.88\n",
      "                 Class     Images  Instances      Box(P          R      mAP50  mAP50-95): 100%|██████████| 2/2 [00:04<0\n"
     ]
    },
    {
     "name": "stdout",
     "output_type": "stream",
     "text": [
      "                   all         33         43       0.76      0.698      0.723      0.449\n",
      "\n",
      "      Epoch    GPU_mem   box_loss   cls_loss   dfl_loss  Instances       Size\n"
     ]
    },
    {
     "name": "stderr",
     "output_type": "stream",
     "text": [
      "      17/50         0G      1.029       1.14       1.12         11        640: 100%|██████████| 8/8 [00:46<00:00,  5.86\n",
      "                 Class     Images  Instances      Box(P          R      mAP50  mAP50-95): 100%|██████████| 2/2 [00:03<0\n"
     ]
    },
    {
     "name": "stdout",
     "output_type": "stream",
     "text": [
      "                   all         33         43      0.809      0.721       0.75      0.485\n",
      "\n",
      "      Epoch    GPU_mem   box_loss   cls_loss   dfl_loss  Instances       Size\n"
     ]
    },
    {
     "name": "stderr",
     "output_type": "stream",
     "text": [
      "      18/50         0G     0.9472      1.169      1.051          6        640: 100%|██████████| 8/8 [00:47<00:00,  5.93\n",
      "                 Class     Images  Instances      Box(P          R      mAP50  mAP50-95): 100%|██████████| 2/2 [00:04<0\n"
     ]
    },
    {
     "name": "stdout",
     "output_type": "stream",
     "text": [
      "                   all         33         43      0.805      0.768      0.802      0.531\n",
      "\n",
      "      Epoch    GPU_mem   box_loss   cls_loss   dfl_loss  Instances       Size\n"
     ]
    },
    {
     "name": "stderr",
     "output_type": "stream",
     "text": [
      "      19/50         0G     0.9219      1.077      1.088         11        640: 100%|██████████| 8/8 [00:47<00:00,  5.89\n",
      "                 Class     Images  Instances      Box(P          R      mAP50  mAP50-95): 100%|██████████| 2/2 [00:04<0\n"
     ]
    },
    {
     "name": "stdout",
     "output_type": "stream",
     "text": [
      "                   all         33         43      0.716      0.721      0.727      0.524\n",
      "\n",
      "      Epoch    GPU_mem   box_loss   cls_loss   dfl_loss  Instances       Size\n"
     ]
    },
    {
     "name": "stderr",
     "output_type": "stream",
     "text": [
      "      20/50         0G     0.9624      1.107      1.109          5        640: 100%|██████████| 8/8 [00:47<00:00,  5.90\n",
      "                 Class     Images  Instances      Box(P          R      mAP50  mAP50-95): 100%|██████████| 2/2 [00:04<0\n"
     ]
    },
    {
     "name": "stdout",
     "output_type": "stream",
     "text": [
      "                   all         33         43      0.826      0.651      0.777      0.536\n",
      "\n",
      "      Epoch    GPU_mem   box_loss   cls_loss   dfl_loss  Instances       Size\n"
     ]
    },
    {
     "name": "stderr",
     "output_type": "stream",
     "text": [
      "      21/50         0G      1.006      1.085      1.074          7        640: 100%|██████████| 8/8 [00:47<00:00,  5.93\n",
      "                 Class     Images  Instances      Box(P          R      mAP50  mAP50-95): 100%|██████████| 2/2 [00:03<0\n"
     ]
    },
    {
     "name": "stdout",
     "output_type": "stream",
     "text": [
      "                   all         33         43      0.742      0.837      0.824      0.517\n",
      "\n",
      "      Epoch    GPU_mem   box_loss   cls_loss   dfl_loss  Instances       Size\n"
     ]
    },
    {
     "name": "stderr",
     "output_type": "stream",
     "text": [
      "      22/50         0G      1.012      1.179      1.078          3        640: 100%|██████████| 8/8 [00:46<00:00,  5.87\n",
      "                 Class     Images  Instances      Box(P          R      mAP50  mAP50-95): 100%|██████████| 2/2 [00:04<0\n"
     ]
    },
    {
     "name": "stdout",
     "output_type": "stream",
     "text": [
      "                   all         33         43      0.839      0.725      0.856      0.543\n",
      "\n",
      "      Epoch    GPU_mem   box_loss   cls_loss   dfl_loss  Instances       Size\n"
     ]
    },
    {
     "name": "stderr",
     "output_type": "stream",
     "text": [
      "      23/50         0G     0.9865      1.022      1.119          5        640: 100%|██████████| 8/8 [00:47<00:00,  5.94\n",
      "                 Class     Images  Instances      Box(P          R      mAP50  mAP50-95): 100%|██████████| 2/2 [00:03<0\n"
     ]
    },
    {
     "name": "stdout",
     "output_type": "stream",
     "text": [
      "                   all         33         43      0.842      0.837      0.856      0.522\n",
      "\n",
      "      Epoch    GPU_mem   box_loss   cls_loss   dfl_loss  Instances       Size\n"
     ]
    },
    {
     "name": "stderr",
     "output_type": "stream",
     "text": [
      "      24/50         0G      0.885     0.9942       1.06          5        640: 100%|██████████| 8/8 [00:47<00:00,  5.96\n",
      "                 Class     Images  Instances      Box(P          R      mAP50  mAP50-95): 100%|██████████| 2/2 [00:04<0\n"
     ]
    },
    {
     "name": "stdout",
     "output_type": "stream",
     "text": [
      "                   all         33         43      0.853       0.86      0.888      0.531\n",
      "\n",
      "      Epoch    GPU_mem   box_loss   cls_loss   dfl_loss  Instances       Size\n"
     ]
    },
    {
     "name": "stderr",
     "output_type": "stream",
     "text": [
      "      25/50         0G     0.9281     0.9896      1.056          5        640: 100%|██████████| 8/8 [00:43<00:00,  5.46\n",
      "                 Class     Images  Instances      Box(P          R      mAP50  mAP50-95): 100%|██████████| 2/2 [00:04<0\n"
     ]
    },
    {
     "name": "stdout",
     "output_type": "stream",
     "text": [
      "                   all         33         43      0.856       0.83      0.858      0.587\n",
      "\n",
      "      Epoch    GPU_mem   box_loss   cls_loss   dfl_loss  Instances       Size\n"
     ]
    },
    {
     "name": "stderr",
     "output_type": "stream",
     "text": [
      "      26/50         0G     0.9201      1.039      1.077          4        640: 100%|██████████| 8/8 [00:47<00:00,  5.98\n",
      "                 Class     Images  Instances      Box(P          R      mAP50  mAP50-95): 100%|██████████| 2/2 [00:04<0\n"
     ]
    },
    {
     "name": "stdout",
     "output_type": "stream",
     "text": [
      "                   all         33         43      0.897      0.814      0.822       0.54\n",
      "\n",
      "      Epoch    GPU_mem   box_loss   cls_loss   dfl_loss  Instances       Size\n"
     ]
    },
    {
     "name": "stderr",
     "output_type": "stream",
     "text": [
      "      27/50         0G     0.8945     0.9434      1.085          5        640: 100%|██████████| 8/8 [00:46<00:00,  5.87\n",
      "                 Class     Images  Instances      Box(P          R      mAP50  mAP50-95): 100%|██████████| 2/2 [00:03<0\n"
     ]
    },
    {
     "name": "stdout",
     "output_type": "stream",
     "text": [
      "                   all         33         43      0.888      0.739      0.766      0.503\n",
      "\n",
      "      Epoch    GPU_mem   box_loss   cls_loss   dfl_loss  Instances       Size\n"
     ]
    },
    {
     "name": "stderr",
     "output_type": "stream",
     "text": [
      "      28/50         0G     0.8663      1.167      1.084          4        640: 100%|██████████| 8/8 [00:47<00:00,  5.97\n",
      "                 Class     Images  Instances      Box(P          R      mAP50  mAP50-95): 100%|██████████| 2/2 [00:03<0\n"
     ]
    },
    {
     "name": "stdout",
     "output_type": "stream",
     "text": [
      "                   all         33         43      0.868      0.791      0.782      0.533\n",
      "\n",
      "      Epoch    GPU_mem   box_loss   cls_loss   dfl_loss  Instances       Size\n"
     ]
    },
    {
     "name": "stderr",
     "output_type": "stream",
     "text": [
      "      29/50         0G     0.8463     0.9024      1.042          5        640: 100%|██████████| 8/8 [00:46<00:00,  5.86\n",
      "                 Class     Images  Instances      Box(P          R      mAP50  mAP50-95): 100%|██████████| 2/2 [00:04<0\n"
     ]
    },
    {
     "name": "stdout",
     "output_type": "stream",
     "text": [
      "                   all         33         43      0.847       0.86      0.858      0.587\n",
      "\n",
      "      Epoch    GPU_mem   box_loss   cls_loss   dfl_loss  Instances       Size\n"
     ]
    },
    {
     "name": "stderr",
     "output_type": "stream",
     "text": [
      "      30/50         0G      0.816     0.8456      1.028          7        640: 100%|██████████| 8/8 [00:47<00:00,  5.88\n",
      "                 Class     Images  Instances      Box(P          R      mAP50  mAP50-95): 100%|██████████| 2/2 [00:03<0\n"
     ]
    },
    {
     "name": "stdout",
     "output_type": "stream",
     "text": [
      "                   all         33         43      0.824      0.791      0.867      0.614\n",
      "\n",
      "      Epoch    GPU_mem   box_loss   cls_loss   dfl_loss  Instances       Size\n"
     ]
    },
    {
     "name": "stderr",
     "output_type": "stream",
     "text": [
      "      31/50         0G     0.8635     0.8532      1.041          8        640: 100%|██████████| 8/8 [00:46<00:00,  5.87\n",
      "                 Class     Images  Instances      Box(P          R      mAP50  mAP50-95): 100%|██████████| 2/2 [00:04<0\n"
     ]
    },
    {
     "name": "stdout",
     "output_type": "stream",
     "text": [
      "                   all         33         43      0.845      0.884      0.825      0.539\n",
      "\n",
      "      Epoch    GPU_mem   box_loss   cls_loss   dfl_loss  Instances       Size\n"
     ]
    },
    {
     "name": "stderr",
     "output_type": "stream",
     "text": [
      "      32/50         0G     0.8511     0.8834      1.008         10        640: 100%|██████████| 8/8 [00:46<00:00,  5.85\n",
      "                 Class     Images  Instances      Box(P          R      mAP50  mAP50-95): 100%|██████████| 2/2 [00:03<0\n"
     ]
    },
    {
     "name": "stdout",
     "output_type": "stream",
     "text": [
      "                   all         33         43      0.862      0.884      0.849      0.555\n",
      "\n",
      "      Epoch    GPU_mem   box_loss   cls_loss   dfl_loss  Instances       Size\n"
     ]
    },
    {
     "name": "stderr",
     "output_type": "stream",
     "text": [
      "      33/50         0G     0.7848     0.8052      1.019          8        640: 100%|██████████| 8/8 [00:48<00:00,  6.00\n",
      "                 Class     Images  Instances      Box(P          R      mAP50  mAP50-95): 100%|██████████| 2/2 [00:04<0\n"
     ]
    },
    {
     "name": "stdout",
     "output_type": "stream",
     "text": [
      "                   all         33         43      0.868      0.921       0.88      0.601\n",
      "\n",
      "      Epoch    GPU_mem   box_loss   cls_loss   dfl_loss  Instances       Size\n"
     ]
    },
    {
     "name": "stderr",
     "output_type": "stream",
     "text": [
      "      34/50         0G     0.9074     0.8885      1.111          6        640: 100%|██████████| 8/8 [00:46<00:00,  5.87\n",
      "                 Class     Images  Instances      Box(P          R      mAP50  mAP50-95): 100%|██████████| 2/2 [00:03<0\n"
     ]
    },
    {
     "name": "stdout",
     "output_type": "stream",
     "text": [
      "                   all         33         43      0.868      0.916      0.887       0.61\n",
      "\n",
      "      Epoch    GPU_mem   box_loss   cls_loss   dfl_loss  Instances       Size\n"
     ]
    },
    {
     "name": "stderr",
     "output_type": "stream",
     "text": [
      "      35/50         0G     0.8222      0.813      1.053          4        640: 100%|██████████| 8/8 [00:46<00:00,  5.85\n",
      "                 Class     Images  Instances      Box(P          R      mAP50  mAP50-95): 100%|██████████| 2/2 [00:03<0\n"
     ]
    },
    {
     "name": "stdout",
     "output_type": "stream",
     "text": [
      "                   all         33         43      0.804      0.907      0.884      0.601\n",
      "\n",
      "      Epoch    GPU_mem   box_loss   cls_loss   dfl_loss  Instances       Size\n"
     ]
    },
    {
     "name": "stderr",
     "output_type": "stream",
     "text": [
      "      36/50         0G     0.7706      0.774      1.024          6        640: 100%|██████████| 8/8 [00:48<00:00,  6.04\n",
      "                 Class     Images  Instances      Box(P          R      mAP50  mAP50-95): 100%|██████████| 2/2 [00:03<0\n"
     ]
    },
    {
     "name": "stdout",
     "output_type": "stream",
     "text": [
      "                   all         33         43      0.904      0.879       0.89      0.605\n",
      "\n",
      "      Epoch    GPU_mem   box_loss   cls_loss   dfl_loss  Instances       Size\n"
     ]
    },
    {
     "name": "stderr",
     "output_type": "stream",
     "text": [
      "      37/50         0G     0.7942      0.745      1.031          7        640: 100%|██████████| 8/8 [00:47<00:00,  5.97\n",
      "                 Class     Images  Instances      Box(P          R      mAP50  mAP50-95): 100%|██████████| 2/2 [00:03<0\n"
     ]
    },
    {
     "name": "stdout",
     "output_type": "stream",
     "text": [
      "                   all         33         43      0.901       0.93      0.897      0.618\n",
      "\n",
      "      Epoch    GPU_mem   box_loss   cls_loss   dfl_loss  Instances       Size\n"
     ]
    },
    {
     "name": "stderr",
     "output_type": "stream",
     "text": [
      "      38/50         0G     0.7515     0.7867      1.009          5        640: 100%|██████████| 8/8 [00:47<00:00,  5.97\n",
      "                 Class     Images  Instances      Box(P          R      mAP50  mAP50-95): 100%|██████████| 2/2 [00:03<0\n"
     ]
    },
    {
     "name": "stdout",
     "output_type": "stream",
     "text": [
      "                   all         33         43      0.926      0.907      0.903      0.643\n",
      "\n",
      "      Epoch    GPU_mem   box_loss   cls_loss   dfl_loss  Instances       Size\n"
     ]
    },
    {
     "name": "stderr",
     "output_type": "stream",
     "text": [
      "      39/50         0G     0.8175     0.7407      1.021          8        640: 100%|██████████| 8/8 [00:47<00:00,  5.92\n",
      "                 Class     Images  Instances      Box(P          R      mAP50  mAP50-95): 100%|██████████| 2/2 [00:03<0\n"
     ]
    },
    {
     "name": "stdout",
     "output_type": "stream",
     "text": [
      "                   all         33         43      0.906       0.93      0.895      0.635\n",
      "\n",
      "      Epoch    GPU_mem   box_loss   cls_loss   dfl_loss  Instances       Size\n"
     ]
    },
    {
     "name": "stderr",
     "output_type": "stream",
     "text": [
      "      40/50         0G     0.7024     0.7103     0.9874          7        640: 100%|██████████| 8/8 [00:48<00:00,  6.02\n",
      "                 Class     Images  Instances      Box(P          R      mAP50  mAP50-95): 100%|██████████| 2/2 [00:03<0\n"
     ]
    },
    {
     "name": "stdout",
     "output_type": "stream",
     "text": [
      "                   all         33         43      0.909      0.926      0.906      0.627\n",
      "Closing dataloader mosaic\n",
      "\n",
      "      Epoch    GPU_mem   box_loss   cls_loss   dfl_loss  Instances       Size\n"
     ]
    },
    {
     "name": "stderr",
     "output_type": "stream",
     "text": [
      "      41/50         0G     0.6911     0.7726     0.9736          3        640: 100%|██████████| 8/8 [00:47<00:00,  5.98\n",
      "                 Class     Images  Instances      Box(P          R      mAP50  mAP50-95): 100%|██████████| 2/2 [00:04<0\n"
     ]
    },
    {
     "name": "stdout",
     "output_type": "stream",
     "text": [
      "                   all         33         43      0.909      0.924      0.909      0.621\n",
      "\n",
      "      Epoch    GPU_mem   box_loss   cls_loss   dfl_loss  Instances       Size\n"
     ]
    },
    {
     "name": "stderr",
     "output_type": "stream",
     "text": [
      "      42/50         0G     0.7753     0.7854      1.012          6        640: 100%|██████████| 8/8 [00:48<00:00,  6.05\n",
      "                 Class     Images  Instances      Box(P          R      mAP50  mAP50-95): 100%|██████████| 2/2 [00:03<0\n"
     ]
    },
    {
     "name": "stdout",
     "output_type": "stream",
     "text": [
      "                   all         33         43      0.923      0.907      0.903      0.608\n",
      "\n",
      "      Epoch    GPU_mem   box_loss   cls_loss   dfl_loss  Instances       Size\n"
     ]
    },
    {
     "name": "stderr",
     "output_type": "stream",
     "text": [
      "      43/50         0G     0.6486      0.736     0.9539          3        640: 100%|██████████| 8/8 [00:44<00:00,  5.61\n",
      "                 Class     Images  Instances      Box(P          R      mAP50  mAP50-95): 100%|██████████| 2/2 [00:03<0\n"
     ]
    },
    {
     "name": "stdout",
     "output_type": "stream",
     "text": [
      "                   all         33         43       0.93      0.921      0.912      0.623\n",
      "\n",
      "      Epoch    GPU_mem   box_loss   cls_loss   dfl_loss  Instances       Size\n"
     ]
    },
    {
     "name": "stderr",
     "output_type": "stream",
     "text": [
      "      44/50         0G     0.6964     0.7443      1.016          5        640: 100%|██████████| 8/8 [00:47<00:00,  5.97\n",
      "                 Class     Images  Instances      Box(P          R      mAP50  mAP50-95): 100%|██████████| 2/2 [00:03<0\n"
     ]
    },
    {
     "name": "stdout",
     "output_type": "stream",
     "text": [
      "                   all         33         43      0.931      0.947      0.915      0.645\n",
      "\n",
      "      Epoch    GPU_mem   box_loss   cls_loss   dfl_loss  Instances       Size\n"
     ]
    },
    {
     "name": "stderr",
     "output_type": "stream",
     "text": [
      "      45/50         0G     0.6543     0.7138     0.9816          3        640: 100%|██████████| 8/8 [00:47<00:00,  5.89\n",
      "                 Class     Images  Instances      Box(P          R      mAP50  mAP50-95): 100%|██████████| 2/2 [00:03<0\n"
     ]
    },
    {
     "name": "stdout",
     "output_type": "stream",
     "text": [
      "                   all         33         43      0.924      0.953      0.915      0.652\n",
      "\n",
      "      Epoch    GPU_mem   box_loss   cls_loss   dfl_loss  Instances       Size\n"
     ]
    },
    {
     "name": "stderr",
     "output_type": "stream",
     "text": [
      "      46/50         0G     0.6318     0.6777     0.9522          4        640: 100%|██████████| 8/8 [00:46<00:00,  5.85\n",
      "                 Class     Images  Instances      Box(P          R      mAP50  mAP50-95): 100%|██████████| 2/2 [00:03<0\n"
     ]
    },
    {
     "name": "stdout",
     "output_type": "stream",
     "text": [
      "                   all         33         43      0.925      0.953      0.911      0.663\n",
      "\n",
      "      Epoch    GPU_mem   box_loss   cls_loss   dfl_loss  Instances       Size\n"
     ]
    },
    {
     "name": "stderr",
     "output_type": "stream",
     "text": [
      "      47/50         0G     0.6678     0.6741     0.9699          5        640: 100%|██████████| 8/8 [00:47<00:00,  5.92\n",
      "                 Class     Images  Instances      Box(P          R      mAP50  mAP50-95): 100%|██████████| 2/2 [00:03<0\n"
     ]
    },
    {
     "name": "stdout",
     "output_type": "stream",
     "text": [
      "                   all         33         43      0.927      0.953       0.91      0.665\n",
      "\n",
      "      Epoch    GPU_mem   box_loss   cls_loss   dfl_loss  Instances       Size\n"
     ]
    },
    {
     "name": "stderr",
     "output_type": "stream",
     "text": [
      "      48/50         0G      0.699     0.7084       1.01          5        640: 100%|██████████| 8/8 [00:47<00:00,  5.97\n",
      "                 Class     Images  Instances      Box(P          R      mAP50  mAP50-95): 100%|██████████| 2/2 [00:03<0\n"
     ]
    },
    {
     "name": "stdout",
     "output_type": "stream",
     "text": [
      "                   all         33         43      0.932      0.952      0.915      0.668\n",
      "\n",
      "      Epoch    GPU_mem   box_loss   cls_loss   dfl_loss  Instances       Size\n"
     ]
    },
    {
     "name": "stderr",
     "output_type": "stream",
     "text": [
      "      49/50         0G     0.6242     0.6645     0.9623          4        640: 100%|██████████| 8/8 [00:47<00:00,  5.95\n",
      "                 Class     Images  Instances      Box(P          R      mAP50  mAP50-95): 100%|██████████| 2/2 [00:03<0\n"
     ]
    },
    {
     "name": "stdout",
     "output_type": "stream",
     "text": [
      "                   all         33         43      0.931      0.945       0.91      0.659\n",
      "\n",
      "      Epoch    GPU_mem   box_loss   cls_loss   dfl_loss  Instances       Size\n"
     ]
    },
    {
     "name": "stderr",
     "output_type": "stream",
     "text": [
      "      50/50         0G     0.5916     0.6256     0.9456          3        640: 100%|██████████| 8/8 [00:47<00:00,  5.92\n",
      "                 Class     Images  Instances      Box(P          R      mAP50  mAP50-95): 100%|██████████| 2/2 [00:03<0\n"
     ]
    },
    {
     "name": "stdout",
     "output_type": "stream",
     "text": [
      "                   all         33         43      0.931      0.948       0.91      0.655\n",
      "\n",
      "50 epochs completed in 0.720 hours.\n",
      "Optimizer stripped from C:\\Users\\adhik\\runs\\detect\\train4\\weights\\last.pt, 5.6MB\n",
      "Optimizer stripped from C:\\Users\\adhik\\runs\\detect\\train4\\weights\\best.pt, 5.6MB\n",
      "\n",
      "Validating C:\\Users\\adhik\\runs\\detect\\train4\\weights\\best.pt...\n",
      "Ultralytics 8.3.0  Python-3.12.4 torch-2.4.1+cpu CPU (12th Gen Intel Core(TM) i7-12650H)\n",
      "Model summary (fused): 186 layers, 2,684,563 parameters, 0 gradients, 6.8 GFLOPs\n"
     ]
    },
    {
     "name": "stderr",
     "output_type": "stream",
     "text": [
      "                 Class     Images  Instances      Box(P          R      mAP50  mAP50-95): 100%|██████████| 2/2 [00:03<0\n"
     ]
    },
    {
     "name": "stdout",
     "output_type": "stream",
     "text": [
      "                   all         33         43      0.932      0.952      0.915       0.67\n",
      "Speed: 0.9ms preprocess, 95.8ms inference, 0.0ms loss, 1.9ms postprocess per image\n",
      "Results saved to \u001b[1mC:\\Users\\adhik\\runs\\detect\\train4\u001b[0m\n"
     ]
    },
    {
     "data": {
      "application/vnd.jupyter.widget-view+json": {
       "model_id": "6945cf55708e401aa4ed7a7f2696b59f",
       "version_major": 2,
       "version_minor": 0
      },
      "text/plain": [
       "VBox(children=(Label(value='11.472 MB of 11.472 MB uploaded\\r'), FloatProgress(value=1.0, max=1.0)))"
      ]
     },
     "metadata": {},
     "output_type": "display_data"
    },
    {
     "data": {
      "text/html": [
       "<style>\n",
       "    table.wandb td:nth-child(1) { padding: 0 10px; text-align: left ; width: auto;} td:nth-child(2) {text-align: left ; width: 100%}\n",
       "    .wandb-row { display: flex; flex-direction: row; flex-wrap: wrap; justify-content: flex-start; width: 100% }\n",
       "    .wandb-col { display: flex; flex-direction: column; flex-basis: 100%; flex: 1; padding: 10px; }\n",
       "    </style>\n",
       "<div class=\"wandb-row\"><div class=\"wandb-col\"><h3>Run history:</h3><br/><table class=\"wandb\"><tr><td>lr/pg0</td><td>▁▂▃▄▅▅▆▆▇███▇▇▇▇▆▆▆▆▆▅▅▅▅▄▄▄▄▃▃▃▃▃▂▂▂▂▁▁</td></tr><tr><td>lr/pg1</td><td>▁▂▃▄▅▅▆▆▇███▇▇▇▇▆▆▆▆▆▅▅▅▅▄▄▄▄▃▃▃▃▃▂▂▂▂▁▁</td></tr><tr><td>lr/pg2</td><td>▁▂▃▄▅▅▆▆▇███▇▇▇▇▆▆▆▆▆▅▅▅▅▄▄▄▄▃▃▃▃▃▂▂▂▂▁▁</td></tr><tr><td>metrics/mAP50(B)</td><td>▁▄▅▁▄▅▅▄▄▄▅▅▆▇▇▆▇▇▇█▇▇▇▇▇▇██████████████</td></tr><tr><td>metrics/mAP50-95(B)</td><td>▁▃▅▁▄▅▅▄▄▄▅▅▆▆▆▆▆▇▆▆▇▆▆▇▇▇▇▇▇▇██▇▇▇█████</td></tr><tr><td>metrics/precision(B)</td><td>▁▁▁▁▁▁▁▁▁█▇▇▆▇▇▆▆▇▇▇▇▇▇▇▇▇▇▇▇▇▇▇▇▇██▇▇██</td></tr><tr><td>metrics/recall(B)</td><td>▇█▇▆████▆▁▄▄▆▆▆▆▇▆▇▇▇▆▇▇▇▇██▇███████████</td></tr><tr><td>model/GFLOPs</td><td>▁</td></tr><tr><td>model/parameters</td><td>▁</td></tr><tr><td>model/speed_PyTorch(ms)</td><td>▁</td></tr><tr><td>train/box_loss</td><td>▅▅▆▇▇█▇▇▆▇▇█▆▇▆▅▆▆▆▅▅▅▅▄▅▄▃▅▃▄▃▄▂▃▂▂▂▂▂▁</td></tr><tr><td>train/cls_loss</td><td>█▇▅▅▃▄▄▃▃▃▃▃▂▂▂▂▂▂▂▂▂▂▂▂▂▂▁▂▁▁▁▁▁▁▁▁▁▁▁▁</td></tr><tr><td>train/dfl_loss</td><td>█▅▄▅▄▆▆▇▅▆▆▇▆▆▄▅▄▅▆▄▅▅▅▄▄▃▃▅▃▃▃▃▂▃▁▃▁▂▃▁</td></tr><tr><td>val/box_loss</td><td>▁▂▃▆▂▂▃▅▄▄█▇▄▄▃▅▅▆▆▆▄▄▄▆▅▃▄▃▄▄▃▄▅▆▆▆▅▅▅▅</td></tr><tr><td>val/cls_loss</td><td>▇▆▇█▇▆▆▇▇▆▆▅▄▄▄▄▄▃▃▃▃▄▄▂▃▃▂▂▂▂▁▁▂▂▁▁▁▁▁▁</td></tr><tr><td>val/dfl_loss</td><td>▁▁▂█▁▂▂▃▃▄▇▅▄▃▂▃▃▄▄▄▃▃▃▄▄▃▃▂▃▃▃▃▄▅▆▅▅▅▅▄</td></tr></table><br/></div><div class=\"wandb-col\"><h3>Run summary:</h3><br/><table class=\"wandb\"><tr><td>lr/pg0</td><td>6e-05</td></tr><tr><td>lr/pg1</td><td>6e-05</td></tr><tr><td>lr/pg2</td><td>6e-05</td></tr><tr><td>metrics/mAP50(B)</td><td>0.91472</td></tr><tr><td>metrics/mAP50-95(B)</td><td>0.67035</td></tr><tr><td>metrics/precision(B)</td><td>0.93173</td></tr><tr><td>metrics/recall(B)</td><td>0.95221</td></tr><tr><td>model/GFLOPs</td><td>6.942</td></tr><tr><td>model/parameters</td><td>2690403</td></tr><tr><td>model/speed_PyTorch(ms)</td><td>99.9</td></tr><tr><td>train/box_loss</td><td>0.59163</td></tr><tr><td>train/cls_loss</td><td>0.62559</td></tr><tr><td>train/dfl_loss</td><td>0.9456</td></tr><tr><td>val/box_loss</td><td>1.19427</td></tr><tr><td>val/cls_loss</td><td>1.01944</td></tr><tr><td>val/dfl_loss</td><td>1.4057</td></tr></table><br/></div></div>"
      ],
      "text/plain": [
       "<IPython.core.display.HTML object>"
      ]
     },
     "metadata": {},
     "output_type": "display_data"
    },
    {
     "data": {
      "text/html": [
       " View run <strong style=\"color:#cdcd00\">train4</strong> at: <a href='https://wandb.ai/adhikaryswapnanil-none/YOLOv8/runs/628mainl' target=\"_blank\">https://wandb.ai/adhikaryswapnanil-none/YOLOv8/runs/628mainl</a><br/> View project at: <a href='https://wandb.ai/adhikaryswapnanil-none/YOLOv8' target=\"_blank\">https://wandb.ai/adhikaryswapnanil-none/YOLOv8</a><br/>Synced 6 W&B file(s), 22 media file(s), 7 artifact file(s) and 0 other file(s)"
      ],
      "text/plain": [
       "<IPython.core.display.HTML object>"
      ]
     },
     "metadata": {},
     "output_type": "display_data"
    },
    {
     "data": {
      "text/html": [
       "Find logs at: <code>.\\wandb\\run-20240930_141742-628mainl\\logs</code>"
      ],
      "text/plain": [
       "<IPython.core.display.HTML object>"
      ]
     },
     "metadata": {},
     "output_type": "display_data"
    },
    {
     "data": {
      "text/html": [
       "The new W&B backend becomes opt-out in version 0.18.0; try it out with `wandb.require(\"core\")`! See https://wandb.me/wandb-core for more information."
      ],
      "text/plain": [
       "<IPython.core.display.HTML object>"
      ]
     },
     "metadata": {},
     "output_type": "display_data"
    },
    {
     "data": {
      "text/plain": [
       "ultralytics.utils.metrics.DetMetrics object with attributes:\n",
       "\n",
       "ap_class_index: array([0])\n",
       "box: ultralytics.utils.metrics.Metric object\n",
       "confusion_matrix: <ultralytics.utils.metrics.ConfusionMatrix object at 0x000001E8D1BEABA0>\n",
       "curves: ['Precision-Recall(B)', 'F1-Confidence(B)', 'Precision-Confidence(B)', 'Recall-Confidence(B)']\n",
       "curves_results: [[array([          0,    0.001001,    0.002002,    0.003003,    0.004004,    0.005005,    0.006006,    0.007007,    0.008008,    0.009009,     0.01001,    0.011011,    0.012012,    0.013013,    0.014014,    0.015015,    0.016016,    0.017017,    0.018018,    0.019019,     0.02002,    0.021021,    0.022022,    0.023023,\n",
       "          0.024024,    0.025025,    0.026026,    0.027027,    0.028028,    0.029029,     0.03003,    0.031031,    0.032032,    0.033033,    0.034034,    0.035035,    0.036036,    0.037037,    0.038038,    0.039039,     0.04004,    0.041041,    0.042042,    0.043043,    0.044044,    0.045045,    0.046046,    0.047047,\n",
       "          0.048048,    0.049049,     0.05005,    0.051051,    0.052052,    0.053053,    0.054054,    0.055055,    0.056056,    0.057057,    0.058058,    0.059059,     0.06006,    0.061061,    0.062062,    0.063063,    0.064064,    0.065065,    0.066066,    0.067067,    0.068068,    0.069069,     0.07007,    0.071071,\n",
       "          0.072072,    0.073073,    0.074074,    0.075075,    0.076076,    0.077077,    0.078078,    0.079079,     0.08008,    0.081081,    0.082082,    0.083083,    0.084084,    0.085085,    0.086086,    0.087087,    0.088088,    0.089089,     0.09009,    0.091091,    0.092092,    0.093093,    0.094094,    0.095095,\n",
       "          0.096096,    0.097097,    0.098098,    0.099099,      0.1001,      0.1011,      0.1021,      0.1031,      0.1041,     0.10511,     0.10611,     0.10711,     0.10811,     0.10911,     0.11011,     0.11111,     0.11211,     0.11311,     0.11411,     0.11512,     0.11612,     0.11712,     0.11812,     0.11912,\n",
       "           0.12012,     0.12112,     0.12212,     0.12312,     0.12412,     0.12513,     0.12613,     0.12713,     0.12813,     0.12913,     0.13013,     0.13113,     0.13213,     0.13313,     0.13413,     0.13514,     0.13614,     0.13714,     0.13814,     0.13914,     0.14014,     0.14114,     0.14214,     0.14314,\n",
       "           0.14414,     0.14515,     0.14615,     0.14715,     0.14815,     0.14915,     0.15015,     0.15115,     0.15215,     0.15315,     0.15415,     0.15516,     0.15616,     0.15716,     0.15816,     0.15916,     0.16016,     0.16116,     0.16216,     0.16316,     0.16416,     0.16517,     0.16617,     0.16717,\n",
       "           0.16817,     0.16917,     0.17017,     0.17117,     0.17217,     0.17317,     0.17417,     0.17518,     0.17618,     0.17718,     0.17818,     0.17918,     0.18018,     0.18118,     0.18218,     0.18318,     0.18418,     0.18519,     0.18619,     0.18719,     0.18819,     0.18919,     0.19019,     0.19119,\n",
       "           0.19219,     0.19319,     0.19419,      0.1952,      0.1962,      0.1972,      0.1982,      0.1992,      0.2002,      0.2012,      0.2022,      0.2032,      0.2042,     0.20521,     0.20621,     0.20721,     0.20821,     0.20921,     0.21021,     0.21121,     0.21221,     0.21321,     0.21421,     0.21522,\n",
       "           0.21622,     0.21722,     0.21822,     0.21922,     0.22022,     0.22122,     0.22222,     0.22322,     0.22422,     0.22523,     0.22623,     0.22723,     0.22823,     0.22923,     0.23023,     0.23123,     0.23223,     0.23323,     0.23423,     0.23524,     0.23624,     0.23724,     0.23824,     0.23924,\n",
       "           0.24024,     0.24124,     0.24224,     0.24324,     0.24424,     0.24525,     0.24625,     0.24725,     0.24825,     0.24925,     0.25025,     0.25125,     0.25225,     0.25325,     0.25425,     0.25526,     0.25626,     0.25726,     0.25826,     0.25926,     0.26026,     0.26126,     0.26226,     0.26326,\n",
       "           0.26426,     0.26527,     0.26627,     0.26727,     0.26827,     0.26927,     0.27027,     0.27127,     0.27227,     0.27327,     0.27427,     0.27528,     0.27628,     0.27728,     0.27828,     0.27928,     0.28028,     0.28128,     0.28228,     0.28328,     0.28428,     0.28529,     0.28629,     0.28729,\n",
       "           0.28829,     0.28929,     0.29029,     0.29129,     0.29229,     0.29329,     0.29429,      0.2953,      0.2963,      0.2973,      0.2983,      0.2993,      0.3003,      0.3013,      0.3023,      0.3033,      0.3043,     0.30531,     0.30631,     0.30731,     0.30831,     0.30931,     0.31031,     0.31131,\n",
       "           0.31231,     0.31331,     0.31431,     0.31532,     0.31632,     0.31732,     0.31832,     0.31932,     0.32032,     0.32132,     0.32232,     0.32332,     0.32432,     0.32533,     0.32633,     0.32733,     0.32833,     0.32933,     0.33033,     0.33133,     0.33233,     0.33333,     0.33433,     0.33534,\n",
       "           0.33634,     0.33734,     0.33834,     0.33934,     0.34034,     0.34134,     0.34234,     0.34334,     0.34434,     0.34535,     0.34635,     0.34735,     0.34835,     0.34935,     0.35035,     0.35135,     0.35235,     0.35335,     0.35435,     0.35536,     0.35636,     0.35736,     0.35836,     0.35936,\n",
       "           0.36036,     0.36136,     0.36236,     0.36336,     0.36436,     0.36537,     0.36637,     0.36737,     0.36837,     0.36937,     0.37037,     0.37137,     0.37237,     0.37337,     0.37437,     0.37538,     0.37638,     0.37738,     0.37838,     0.37938,     0.38038,     0.38138,     0.38238,     0.38338,\n",
       "           0.38438,     0.38539,     0.38639,     0.38739,     0.38839,     0.38939,     0.39039,     0.39139,     0.39239,     0.39339,     0.39439,      0.3954,      0.3964,      0.3974,      0.3984,      0.3994,      0.4004,      0.4014,      0.4024,      0.4034,      0.4044,     0.40541,     0.40641,     0.40741,\n",
       "           0.40841,     0.40941,     0.41041,     0.41141,     0.41241,     0.41341,     0.41441,     0.41542,     0.41642,     0.41742,     0.41842,     0.41942,     0.42042,     0.42142,     0.42242,     0.42342,     0.42442,     0.42543,     0.42643,     0.42743,     0.42843,     0.42943,     0.43043,     0.43143,\n",
       "           0.43243,     0.43343,     0.43443,     0.43544,     0.43644,     0.43744,     0.43844,     0.43944,     0.44044,     0.44144,     0.44244,     0.44344,     0.44444,     0.44545,     0.44645,     0.44745,     0.44845,     0.44945,     0.45045,     0.45145,     0.45245,     0.45345,     0.45445,     0.45546,\n",
       "           0.45646,     0.45746,     0.45846,     0.45946,     0.46046,     0.46146,     0.46246,     0.46346,     0.46446,     0.46547,     0.46647,     0.46747,     0.46847,     0.46947,     0.47047,     0.47147,     0.47247,     0.47347,     0.47447,     0.47548,     0.47648,     0.47748,     0.47848,     0.47948,\n",
       "           0.48048,     0.48148,     0.48248,     0.48348,     0.48448,     0.48549,     0.48649,     0.48749,     0.48849,     0.48949,     0.49049,     0.49149,     0.49249,     0.49349,     0.49449,      0.4955,      0.4965,      0.4975,      0.4985,      0.4995,      0.5005,      0.5015,      0.5025,      0.5035,\n",
       "            0.5045,     0.50551,     0.50651,     0.50751,     0.50851,     0.50951,     0.51051,     0.51151,     0.51251,     0.51351,     0.51451,     0.51552,     0.51652,     0.51752,     0.51852,     0.51952,     0.52052,     0.52152,     0.52252,     0.52352,     0.52452,     0.52553,     0.52653,     0.52753,\n",
       "           0.52853,     0.52953,     0.53053,     0.53153,     0.53253,     0.53353,     0.53453,     0.53554,     0.53654,     0.53754,     0.53854,     0.53954,     0.54054,     0.54154,     0.54254,     0.54354,     0.54454,     0.54555,     0.54655,     0.54755,     0.54855,     0.54955,     0.55055,     0.55155,\n",
       "           0.55255,     0.55355,     0.55455,     0.55556,     0.55656,     0.55756,     0.55856,     0.55956,     0.56056,     0.56156,     0.56256,     0.56356,     0.56456,     0.56557,     0.56657,     0.56757,     0.56857,     0.56957,     0.57057,     0.57157,     0.57257,     0.57357,     0.57457,     0.57558,\n",
       "           0.57658,     0.57758,     0.57858,     0.57958,     0.58058,     0.58158,     0.58258,     0.58358,     0.58458,     0.58559,     0.58659,     0.58759,     0.58859,     0.58959,     0.59059,     0.59159,     0.59259,     0.59359,     0.59459,      0.5956,      0.5966,      0.5976,      0.5986,      0.5996,\n",
       "            0.6006,      0.6016,      0.6026,      0.6036,      0.6046,     0.60561,     0.60661,     0.60761,     0.60861,     0.60961,     0.61061,     0.61161,     0.61261,     0.61361,     0.61461,     0.61562,     0.61662,     0.61762,     0.61862,     0.61962,     0.62062,     0.62162,     0.62262,     0.62362,\n",
       "           0.62462,     0.62563,     0.62663,     0.62763,     0.62863,     0.62963,     0.63063,     0.63163,     0.63263,     0.63363,     0.63463,     0.63564,     0.63664,     0.63764,     0.63864,     0.63964,     0.64064,     0.64164,     0.64264,     0.64364,     0.64464,     0.64565,     0.64665,     0.64765,\n",
       "           0.64865,     0.64965,     0.65065,     0.65165,     0.65265,     0.65365,     0.65465,     0.65566,     0.65666,     0.65766,     0.65866,     0.65966,     0.66066,     0.66166,     0.66266,     0.66366,     0.66466,     0.66567,     0.66667,     0.66767,     0.66867,     0.66967,     0.67067,     0.67167,\n",
       "           0.67267,     0.67367,     0.67467,     0.67568,     0.67668,     0.67768,     0.67868,     0.67968,     0.68068,     0.68168,     0.68268,     0.68368,     0.68468,     0.68569,     0.68669,     0.68769,     0.68869,     0.68969,     0.69069,     0.69169,     0.69269,     0.69369,     0.69469,      0.6957,\n",
       "            0.6967,      0.6977,      0.6987,      0.6997,      0.7007,      0.7017,      0.7027,      0.7037,      0.7047,     0.70571,     0.70671,     0.70771,     0.70871,     0.70971,     0.71071,     0.71171,     0.71271,     0.71371,     0.71471,     0.71572,     0.71672,     0.71772,     0.71872,     0.71972,\n",
       "           0.72072,     0.72172,     0.72272,     0.72372,     0.72472,     0.72573,     0.72673,     0.72773,     0.72873,     0.72973,     0.73073,     0.73173,     0.73273,     0.73373,     0.73473,     0.73574,     0.73674,     0.73774,     0.73874,     0.73974,     0.74074,     0.74174,     0.74274,     0.74374,\n",
       "           0.74474,     0.74575,     0.74675,     0.74775,     0.74875,     0.74975,     0.75075,     0.75175,     0.75275,     0.75375,     0.75475,     0.75576,     0.75676,     0.75776,     0.75876,     0.75976,     0.76076,     0.76176,     0.76276,     0.76376,     0.76476,     0.76577,     0.76677,     0.76777,\n",
       "           0.76877,     0.76977,     0.77077,     0.77177,     0.77277,     0.77377,     0.77477,     0.77578,     0.77678,     0.77778,     0.77878,     0.77978,     0.78078,     0.78178,     0.78278,     0.78378,     0.78478,     0.78579,     0.78679,     0.78779,     0.78879,     0.78979,     0.79079,     0.79179,\n",
       "           0.79279,     0.79379,     0.79479,      0.7958,      0.7968,      0.7978,      0.7988,      0.7998,      0.8008,      0.8018,      0.8028,      0.8038,      0.8048,     0.80581,     0.80681,     0.80781,     0.80881,     0.80981,     0.81081,     0.81181,     0.81281,     0.81381,     0.81481,     0.81582,\n",
       "           0.81682,     0.81782,     0.81882,     0.81982,     0.82082,     0.82182,     0.82282,     0.82382,     0.82482,     0.82583,     0.82683,     0.82783,     0.82883,     0.82983,     0.83083,     0.83183,     0.83283,     0.83383,     0.83483,     0.83584,     0.83684,     0.83784,     0.83884,     0.83984,\n",
       "           0.84084,     0.84184,     0.84284,     0.84384,     0.84484,     0.84585,     0.84685,     0.84785,     0.84885,     0.84985,     0.85085,     0.85185,     0.85285,     0.85385,     0.85485,     0.85586,     0.85686,     0.85786,     0.85886,     0.85986,     0.86086,     0.86186,     0.86286,     0.86386,\n",
       "           0.86486,     0.86587,     0.86687,     0.86787,     0.86887,     0.86987,     0.87087,     0.87187,     0.87287,     0.87387,     0.87487,     0.87588,     0.87688,     0.87788,     0.87888,     0.87988,     0.88088,     0.88188,     0.88288,     0.88388,     0.88488,     0.88589,     0.88689,     0.88789,\n",
       "           0.88889,     0.88989,     0.89089,     0.89189,     0.89289,     0.89389,     0.89489,      0.8959,      0.8969,      0.8979,      0.8989,      0.8999,      0.9009,      0.9019,      0.9029,      0.9039,      0.9049,     0.90591,     0.90691,     0.90791,     0.90891,     0.90991,     0.91091,     0.91191,\n",
       "           0.91291,     0.91391,     0.91491,     0.91592,     0.91692,     0.91792,     0.91892,     0.91992,     0.92092,     0.92192,     0.92292,     0.92392,     0.92492,     0.92593,     0.92693,     0.92793,     0.92893,     0.92993,     0.93093,     0.93193,     0.93293,     0.93393,     0.93493,     0.93594,\n",
       "           0.93694,     0.93794,     0.93894,     0.93994,     0.94094,     0.94194,     0.94294,     0.94394,     0.94494,     0.94595,     0.94695,     0.94795,     0.94895,     0.94995,     0.95095,     0.95195,     0.95295,     0.95395,     0.95495,     0.95596,     0.95696,     0.95796,     0.95896,     0.95996,\n",
       "           0.96096,     0.96196,     0.96296,     0.96396,     0.96496,     0.96597,     0.96697,     0.96797,     0.96897,     0.96997,     0.97097,     0.97197,     0.97297,     0.97397,     0.97497,     0.97598,     0.97698,     0.97798,     0.97898,     0.97998,     0.98098,     0.98198,     0.98298,     0.98398,\n",
       "           0.98498,     0.98599,     0.98699,     0.98799,     0.98899,     0.98999,     0.99099,     0.99199,     0.99299,     0.99399,     0.99499,       0.996,       0.997,       0.998,       0.999,           1]), array([[          1,           1,           1,           1,           1,           1,           1,           1,           1,           1,           1,           1,           1,           1,           1,           1,           1,           1,           1,           1,           1,           1,           1,\n",
       "                  1,           1,           1,           1,           1,           1,           1,           1,           1,           1,           1,           1,           1,           1,           1,           1,           1,           1,           1,           1,           1,           1,           1,\n",
       "                  1,           1,           1,           1,           1,           1,           1,           1,           1,           1,           1,           1,           1,           1,           1,           1,           1,           1,           1,           1,           1,           1,           1,\n",
       "                  1,           1,           1,           1,           1,           1,           1,           1,           1,           1,           1,           1,           1,           1,           1,           1,           1,           1,           1,           1,           1,           1,           1,\n",
       "                  1,           1,           1,           1,           1,           1,           1,           1,           1,           1,           1,           1,           1,           1,           1,           1,           1,           1,           1,           1,           1,           1,           1,\n",
       "                  1,           1,           1,           1,           1,           1,           1,           1,           1,           1,           1,           1,           1,           1,           1,           1,           1,           1,           1,           1,           1,           1,           1,\n",
       "                  1,           1,           1,           1,           1,           1,           1,           1,           1,           1,           1,           1,           1,           1,           1,           1,           1,           1,           1,           1,           1,           1,           1,\n",
       "                  1,           1,           1,           1,           1,           1,           1,           1,           1,           1,           1,           1,           1,           1,           1,           1,           1,           1,           1,           1,           1,           1,           1,\n",
       "                  1,           1,           1,           1,           1,           1,           1,           1,           1,           1,           1,           1,           1,           1,           1,           1,           1,           1,           1,           1,           1,           1,           1,\n",
       "                  1,           1,           1,           1,           1,           1,           1,           1,           1,           1,           1,           1,           1,           1,           1,           1,           1,           1,           1,           1,           1,           1,           1,\n",
       "                  1,           1,           1,           1,           1,           1,           1,           1,           1,           1,           1,           1,           1,           1,           1,           1,           1,           1,           1,           1,           1,           1,           1,\n",
       "                  1,           1,           1,           1,           1,           1,           1,           1,           1,           1,           1,           1,           1,           1,           1,           1,           1,           1,           1,           1,           1,           1,           1,\n",
       "                  1,           1,           1,           1,           1,           1,           1,           1,           1,           1,           1,           1,           1,           1,           1,           1,           1,           1,           1,           1,           1,           1,           1,\n",
       "                  1,           1,           1,           1,           1,           1,           1,           1,           1,           1,           1,           1,           1,           1,           1,           1,           1,           1,           1,           1,           1,           1,           1,\n",
       "                  1,           1,           1,           1,     0.94444,     0.94444,     0.94444,     0.94444,     0.94444,     0.94444,     0.94444,     0.94444,     0.94444,     0.94444,     0.94444,     0.94444,     0.94444,     0.94444,     0.94444,     0.94444,     0.94444,     0.94444,     0.94444,\n",
       "            0.94444,     0.94444,     0.94444,     0.94444,     0.94444,     0.94444,     0.94444,     0.94444,     0.94444,     0.94444,     0.94444,     0.94444,     0.94444,     0.94444,     0.94444,     0.94444,     0.94444,     0.94444,     0.94444,     0.94444,     0.94444,     0.94444,     0.94444,\n",
       "            0.94444,     0.94444,     0.94444,     0.94444,     0.94444,     0.94444,     0.94444,     0.94444,     0.94444,     0.94444,     0.94444,     0.94444,     0.94444,     0.94444,     0.94444,     0.94444,     0.94444,     0.94444,     0.94444,     0.94444,     0.94444,     0.94444,     0.94444,\n",
       "            0.94444,     0.94444,     0.94444,     0.94444,      0.9375,      0.9375,      0.9375,      0.9375,      0.9375,      0.9375,      0.9375,      0.9375,      0.9375,      0.9375,      0.9375,      0.9375,      0.9375,      0.9375,      0.9375,      0.9375,      0.9375,      0.9375,      0.9375,\n",
       "             0.9375,      0.9375,      0.9375,      0.9375,      0.9375,      0.9375,      0.9375,      0.9375,      0.9375,      0.9375,      0.9375,      0.9375,      0.9375,      0.9375,      0.9375,      0.9375,      0.9375,      0.9375,      0.9375,      0.9375,      0.9375,      0.9375,      0.9375,\n",
       "             0.9375,      0.9375,      0.9375,      0.9375,      0.9375,      0.9375,      0.9375,      0.9375,      0.9375,      0.9375,      0.9375,      0.9375,      0.9375,      0.9375,      0.9375,      0.9375,      0.9375,      0.9375,      0.9375,      0.9375,      0.9375,      0.9375,      0.9375,\n",
       "             0.9375,      0.9375,      0.9375,      0.9375,      0.9375,      0.9375,      0.9375,      0.9375,      0.9375,      0.9375,      0.9375,      0.9375,      0.9375,      0.9375,      0.9375,      0.9375,      0.9375,      0.9375,      0.9375,      0.9375,      0.9375,      0.9375,      0.9375,\n",
       "             0.9375,      0.9375,      0.9375,      0.9375,      0.9375,      0.9375,      0.9375,      0.9375,      0.9375,      0.9375,      0.9375,      0.9375,      0.9375,      0.9375,      0.9375,      0.9375,      0.9375,      0.9375,      0.9375,      0.9375,      0.9375,      0.9375,      0.9375,\n",
       "             0.9375,      0.9375,      0.9375,      0.9375,      0.9375,      0.9375,      0.9375,      0.9375,      0.9375,      0.9375,      0.9375,      0.9375,      0.9375,      0.9375,      0.9375,      0.9375,      0.9375,      0.9375,      0.9375,      0.9375,      0.9375,      0.9375,      0.9375,\n",
       "             0.9375,      0.9375,      0.9375,      0.9375,      0.9375,      0.9375,      0.9375,      0.9375,      0.9375,      0.9375,      0.9375,      0.9375,      0.9375,      0.9375,      0.9375,      0.9375,      0.9375,      0.9375,      0.9375,      0.9375,      0.9375,      0.9375,      0.9375,\n",
       "             0.9375,      0.9375,      0.9375,      0.9375,      0.9375,      0.9375,      0.9375,      0.9375,      0.9375,      0.9375,      0.9375,      0.9375,      0.9375,      0.9375,      0.9375,      0.9375,      0.9375,      0.9375,      0.9375,      0.9375,      0.9375,      0.9375,      0.9375,\n",
       "             0.9375,      0.9375,      0.9375,      0.9375,      0.9375,      0.9375,      0.9375,      0.9375,      0.9375,      0.9375,      0.9375,      0.9375,      0.9375,      0.9375,      0.9375,      0.9375,      0.9375,      0.9375,      0.9375,      0.9375,      0.9375,      0.9375,      0.9375,\n",
       "             0.9375,      0.9375,      0.9375,      0.9375,      0.9375,      0.9375,      0.9375,      0.9375,      0.9375,      0.9375,      0.9375,      0.9375,      0.9375,      0.9375,      0.9375,      0.9375,      0.9375,      0.9375,      0.9375,      0.9375,      0.9375,      0.9375,      0.9375,\n",
       "             0.9375,      0.9375,      0.9375,      0.9375,      0.9375,      0.9375,      0.9375,      0.9375,      0.9375,      0.9375,      0.9375,      0.9375,      0.9375,      0.9375,      0.9375,      0.9375,      0.9375,      0.9375,      0.9375,      0.9375,      0.9375,      0.9375,      0.9375,\n",
       "             0.9375,      0.9375,      0.9375,      0.9375,      0.9375,      0.9375,      0.9375,      0.9375,      0.9375,      0.9375,      0.9375,      0.9375,      0.9375,      0.9375,      0.9375,      0.9375,      0.9375,      0.9375,      0.9375,      0.9375,      0.9375,      0.9375,      0.9375,\n",
       "             0.9375,      0.9375,      0.9375,      0.9375,      0.9375,      0.9375,      0.9375,      0.9375,      0.9375,      0.9375,      0.9375,      0.9375,      0.9375,      0.9375,      0.9375,      0.9375,      0.9375,      0.9375,      0.9375,      0.9375,      0.9375,      0.9375,      0.9375,\n",
       "             0.9375,      0.9375,      0.9375,      0.9375,      0.9375,      0.9375,      0.9375,     0.93182,     0.93182,     0.93182,     0.93182,     0.93182,     0.93182,     0.93182,     0.93182,     0.93182,     0.93182,     0.93182,     0.93182,     0.93182,     0.93182,     0.93182,     0.93182,\n",
       "            0.93182,     0.93182,     0.93182,     0.93182,     0.93182,     0.93182,     0.93182,     0.93182,     0.93182,     0.93182,     0.93182,     0.93182,     0.93182,     0.93182,     0.93182,     0.93182,     0.93182,     0.93182,     0.93182,     0.93182,     0.93182,     0.93182,     0.93182,\n",
       "            0.93182,     0.93182,     0.93182,     0.93182,     0.93182,     0.93182,     0.93182,     0.93182,     0.93182,     0.93182,     0.93182,     0.93182,     0.93182,     0.93182,     0.93182,     0.93182,     0.93182,     0.93182,     0.93182,     0.93182,     0.93182,     0.93182,     0.93182,\n",
       "            0.93182,     0.93182,     0.93182,     0.93182,     0.93182,     0.93182,     0.93182,     0.93182,     0.93182,     0.93182,     0.93182,     0.93182,     0.93182,     0.93182,     0.93182,     0.93182,     0.93182,     0.93182,     0.93182,     0.93182,     0.93182,     0.93182,     0.93182,\n",
       "            0.93182,     0.93182,     0.93182,     0.93182,     0.93182,     0.93182,     0.93182,     0.93182,     0.93182,     0.93182,     0.93182,     0.93182,     0.93182,     0.93182,     0.93182,     0.93182,     0.93182,     0.93182,     0.93182,     0.93182,     0.93182,     0.93182,     0.93182,\n",
       "            0.93182,     0.93182,     0.93182,     0.93182,     0.93182,     0.93182,     0.93182,     0.93182,     0.93182,     0.93182,     0.93182,     0.93182,     0.93182,     0.93182,     0.93182,     0.93182,     0.93182,     0.93182,     0.93182,     0.93182,     0.93182,     0.93182,     0.93182,\n",
       "            0.93182,     0.93182,     0.93182,     0.93182,     0.93182,     0.93182,     0.93182,     0.93182,     0.93182,     0.93182,     0.93182,     0.93182,     0.93182,     0.93182,     0.93182,     0.93182,     0.93182,     0.93182,     0.93182,     0.93182,     0.93182,     0.93182,     0.93182,\n",
       "            0.93182,     0.93182,     0.93182,     0.93182,     0.93182,     0.93182,     0.93182,     0.93182,     0.93182,     0.93182,     0.93182,     0.93182,     0.93182,     0.93182,     0.93182,     0.93182,     0.93182,     0.93182,     0.93182,     0.93182,     0.93182,     0.93182,     0.93182,\n",
       "            0.93182,     0.93182,     0.93182,     0.93182,     0.93182,     0.93182,     0.93182,     0.93182,     0.93182,     0.93182,     0.93182,     0.93182,     0.93182,     0.93182,     0.93182,     0.93182,     0.93182,     0.93182,     0.93182,     0.93182,     0.93182,     0.93182,     0.93182,\n",
       "            0.93182,     0.93182,     0.93182,     0.93182,     0.93182,     0.93182,     0.93182,     0.93182,     0.93182,     0.93182,     0.93182,     0.93182,     0.93182,     0.93182,     0.93182,     0.93182,     0.93182,     0.93182,     0.93182,     0.93182,     0.93182,     0.93182,     0.93182,\n",
       "            0.93182,     0.93182,     0.93182,     0.93182,     0.93182,     0.93182,     0.93182,     0.93182,     0.93182,     0.93182,     0.93182,     0.93182,     0.93182,     0.93182,     0.93182,     0.93182,     0.93182,     0.93182,     0.93182,     0.93182,     0.93182,     0.93182,     0.93182,\n",
       "            0.93182,     0.93182,     0.93182,     0.93182,     0.93182,     0.93182,     0.93182,     0.93182,     0.93182,     0.93182,      0.0041,   0.0040108,   0.0039217,   0.0038326,   0.0037434,   0.0036543,   0.0035652,   0.0034761,   0.0033869,   0.0032978,   0.0032087,   0.0031195,   0.0030304,\n",
       "          0.0029413,   0.0028521,    0.002763,   0.0026739,   0.0025848,   0.0024956,   0.0024065,   0.0023174,   0.0022282,   0.0021391,     0.00205,   0.0019608,   0.0018717,   0.0017826,   0.0016935,   0.0016043,   0.0015152,   0.0014261,   0.0013369,   0.0012478,   0.0011587,   0.0010696,  0.00098042,\n",
       "          0.0008913,  0.00080217,  0.00071304,  0.00062391,  0.00053478,  0.00044565,  0.00035652,  0.00026739,  0.00017826,   8.913e-05,           0]]), 'Recall', 'Precision'], [array([          0,    0.001001,    0.002002,    0.003003,    0.004004,    0.005005,    0.006006,    0.007007,    0.008008,    0.009009,     0.01001,    0.011011,    0.012012,    0.013013,    0.014014,    0.015015,    0.016016,    0.017017,    0.018018,    0.019019,     0.02002,    0.021021,    0.022022,    0.023023,\n",
       "          0.024024,    0.025025,    0.026026,    0.027027,    0.028028,    0.029029,     0.03003,    0.031031,    0.032032,    0.033033,    0.034034,    0.035035,    0.036036,    0.037037,    0.038038,    0.039039,     0.04004,    0.041041,    0.042042,    0.043043,    0.044044,    0.045045,    0.046046,    0.047047,\n",
       "          0.048048,    0.049049,     0.05005,    0.051051,    0.052052,    0.053053,    0.054054,    0.055055,    0.056056,    0.057057,    0.058058,    0.059059,     0.06006,    0.061061,    0.062062,    0.063063,    0.064064,    0.065065,    0.066066,    0.067067,    0.068068,    0.069069,     0.07007,    0.071071,\n",
       "          0.072072,    0.073073,    0.074074,    0.075075,    0.076076,    0.077077,    0.078078,    0.079079,     0.08008,    0.081081,    0.082082,    0.083083,    0.084084,    0.085085,    0.086086,    0.087087,    0.088088,    0.089089,     0.09009,    0.091091,    0.092092,    0.093093,    0.094094,    0.095095,\n",
       "          0.096096,    0.097097,    0.098098,    0.099099,      0.1001,      0.1011,      0.1021,      0.1031,      0.1041,     0.10511,     0.10611,     0.10711,     0.10811,     0.10911,     0.11011,     0.11111,     0.11211,     0.11311,     0.11411,     0.11512,     0.11612,     0.11712,     0.11812,     0.11912,\n",
       "           0.12012,     0.12112,     0.12212,     0.12312,     0.12412,     0.12513,     0.12613,     0.12713,     0.12813,     0.12913,     0.13013,     0.13113,     0.13213,     0.13313,     0.13413,     0.13514,     0.13614,     0.13714,     0.13814,     0.13914,     0.14014,     0.14114,     0.14214,     0.14314,\n",
       "           0.14414,     0.14515,     0.14615,     0.14715,     0.14815,     0.14915,     0.15015,     0.15115,     0.15215,     0.15315,     0.15415,     0.15516,     0.15616,     0.15716,     0.15816,     0.15916,     0.16016,     0.16116,     0.16216,     0.16316,     0.16416,     0.16517,     0.16617,     0.16717,\n",
       "           0.16817,     0.16917,     0.17017,     0.17117,     0.17217,     0.17317,     0.17417,     0.17518,     0.17618,     0.17718,     0.17818,     0.17918,     0.18018,     0.18118,     0.18218,     0.18318,     0.18418,     0.18519,     0.18619,     0.18719,     0.18819,     0.18919,     0.19019,     0.19119,\n",
       "           0.19219,     0.19319,     0.19419,      0.1952,      0.1962,      0.1972,      0.1982,      0.1992,      0.2002,      0.2012,      0.2022,      0.2032,      0.2042,     0.20521,     0.20621,     0.20721,     0.20821,     0.20921,     0.21021,     0.21121,     0.21221,     0.21321,     0.21421,     0.21522,\n",
       "           0.21622,     0.21722,     0.21822,     0.21922,     0.22022,     0.22122,     0.22222,     0.22322,     0.22422,     0.22523,     0.22623,     0.22723,     0.22823,     0.22923,     0.23023,     0.23123,     0.23223,     0.23323,     0.23423,     0.23524,     0.23624,     0.23724,     0.23824,     0.23924,\n",
       "           0.24024,     0.24124,     0.24224,     0.24324,     0.24424,     0.24525,     0.24625,     0.24725,     0.24825,     0.24925,     0.25025,     0.25125,     0.25225,     0.25325,     0.25425,     0.25526,     0.25626,     0.25726,     0.25826,     0.25926,     0.26026,     0.26126,     0.26226,     0.26326,\n",
       "           0.26426,     0.26527,     0.26627,     0.26727,     0.26827,     0.26927,     0.27027,     0.27127,     0.27227,     0.27327,     0.27427,     0.27528,     0.27628,     0.27728,     0.27828,     0.27928,     0.28028,     0.28128,     0.28228,     0.28328,     0.28428,     0.28529,     0.28629,     0.28729,\n",
       "           0.28829,     0.28929,     0.29029,     0.29129,     0.29229,     0.29329,     0.29429,      0.2953,      0.2963,      0.2973,      0.2983,      0.2993,      0.3003,      0.3013,      0.3023,      0.3033,      0.3043,     0.30531,     0.30631,     0.30731,     0.30831,     0.30931,     0.31031,     0.31131,\n",
       "           0.31231,     0.31331,     0.31431,     0.31532,     0.31632,     0.31732,     0.31832,     0.31932,     0.32032,     0.32132,     0.32232,     0.32332,     0.32432,     0.32533,     0.32633,     0.32733,     0.32833,     0.32933,     0.33033,     0.33133,     0.33233,     0.33333,     0.33433,     0.33534,\n",
       "           0.33634,     0.33734,     0.33834,     0.33934,     0.34034,     0.34134,     0.34234,     0.34334,     0.34434,     0.34535,     0.34635,     0.34735,     0.34835,     0.34935,     0.35035,     0.35135,     0.35235,     0.35335,     0.35435,     0.35536,     0.35636,     0.35736,     0.35836,     0.35936,\n",
       "           0.36036,     0.36136,     0.36236,     0.36336,     0.36436,     0.36537,     0.36637,     0.36737,     0.36837,     0.36937,     0.37037,     0.37137,     0.37237,     0.37337,     0.37437,     0.37538,     0.37638,     0.37738,     0.37838,     0.37938,     0.38038,     0.38138,     0.38238,     0.38338,\n",
       "           0.38438,     0.38539,     0.38639,     0.38739,     0.38839,     0.38939,     0.39039,     0.39139,     0.39239,     0.39339,     0.39439,      0.3954,      0.3964,      0.3974,      0.3984,      0.3994,      0.4004,      0.4014,      0.4024,      0.4034,      0.4044,     0.40541,     0.40641,     0.40741,\n",
       "           0.40841,     0.40941,     0.41041,     0.41141,     0.41241,     0.41341,     0.41441,     0.41542,     0.41642,     0.41742,     0.41842,     0.41942,     0.42042,     0.42142,     0.42242,     0.42342,     0.42442,     0.42543,     0.42643,     0.42743,     0.42843,     0.42943,     0.43043,     0.43143,\n",
       "           0.43243,     0.43343,     0.43443,     0.43544,     0.43644,     0.43744,     0.43844,     0.43944,     0.44044,     0.44144,     0.44244,     0.44344,     0.44444,     0.44545,     0.44645,     0.44745,     0.44845,     0.44945,     0.45045,     0.45145,     0.45245,     0.45345,     0.45445,     0.45546,\n",
       "           0.45646,     0.45746,     0.45846,     0.45946,     0.46046,     0.46146,     0.46246,     0.46346,     0.46446,     0.46547,     0.46647,     0.46747,     0.46847,     0.46947,     0.47047,     0.47147,     0.47247,     0.47347,     0.47447,     0.47548,     0.47648,     0.47748,     0.47848,     0.47948,\n",
       "           0.48048,     0.48148,     0.48248,     0.48348,     0.48448,     0.48549,     0.48649,     0.48749,     0.48849,     0.48949,     0.49049,     0.49149,     0.49249,     0.49349,     0.49449,      0.4955,      0.4965,      0.4975,      0.4985,      0.4995,      0.5005,      0.5015,      0.5025,      0.5035,\n",
       "            0.5045,     0.50551,     0.50651,     0.50751,     0.50851,     0.50951,     0.51051,     0.51151,     0.51251,     0.51351,     0.51451,     0.51552,     0.51652,     0.51752,     0.51852,     0.51952,     0.52052,     0.52152,     0.52252,     0.52352,     0.52452,     0.52553,     0.52653,     0.52753,\n",
       "           0.52853,     0.52953,     0.53053,     0.53153,     0.53253,     0.53353,     0.53453,     0.53554,     0.53654,     0.53754,     0.53854,     0.53954,     0.54054,     0.54154,     0.54254,     0.54354,     0.54454,     0.54555,     0.54655,     0.54755,     0.54855,     0.54955,     0.55055,     0.55155,\n",
       "           0.55255,     0.55355,     0.55455,     0.55556,     0.55656,     0.55756,     0.55856,     0.55956,     0.56056,     0.56156,     0.56256,     0.56356,     0.56456,     0.56557,     0.56657,     0.56757,     0.56857,     0.56957,     0.57057,     0.57157,     0.57257,     0.57357,     0.57457,     0.57558,\n",
       "           0.57658,     0.57758,     0.57858,     0.57958,     0.58058,     0.58158,     0.58258,     0.58358,     0.58458,     0.58559,     0.58659,     0.58759,     0.58859,     0.58959,     0.59059,     0.59159,     0.59259,     0.59359,     0.59459,      0.5956,      0.5966,      0.5976,      0.5986,      0.5996,\n",
       "            0.6006,      0.6016,      0.6026,      0.6036,      0.6046,     0.60561,     0.60661,     0.60761,     0.60861,     0.60961,     0.61061,     0.61161,     0.61261,     0.61361,     0.61461,     0.61562,     0.61662,     0.61762,     0.61862,     0.61962,     0.62062,     0.62162,     0.62262,     0.62362,\n",
       "           0.62462,     0.62563,     0.62663,     0.62763,     0.62863,     0.62963,     0.63063,     0.63163,     0.63263,     0.63363,     0.63463,     0.63564,     0.63664,     0.63764,     0.63864,     0.63964,     0.64064,     0.64164,     0.64264,     0.64364,     0.64464,     0.64565,     0.64665,     0.64765,\n",
       "           0.64865,     0.64965,     0.65065,     0.65165,     0.65265,     0.65365,     0.65465,     0.65566,     0.65666,     0.65766,     0.65866,     0.65966,     0.66066,     0.66166,     0.66266,     0.66366,     0.66466,     0.66567,     0.66667,     0.66767,     0.66867,     0.66967,     0.67067,     0.67167,\n",
       "           0.67267,     0.67367,     0.67467,     0.67568,     0.67668,     0.67768,     0.67868,     0.67968,     0.68068,     0.68168,     0.68268,     0.68368,     0.68468,     0.68569,     0.68669,     0.68769,     0.68869,     0.68969,     0.69069,     0.69169,     0.69269,     0.69369,     0.69469,      0.6957,\n",
       "            0.6967,      0.6977,      0.6987,      0.6997,      0.7007,      0.7017,      0.7027,      0.7037,      0.7047,     0.70571,     0.70671,     0.70771,     0.70871,     0.70971,     0.71071,     0.71171,     0.71271,     0.71371,     0.71471,     0.71572,     0.71672,     0.71772,     0.71872,     0.71972,\n",
       "           0.72072,     0.72172,     0.72272,     0.72372,     0.72472,     0.72573,     0.72673,     0.72773,     0.72873,     0.72973,     0.73073,     0.73173,     0.73273,     0.73373,     0.73473,     0.73574,     0.73674,     0.73774,     0.73874,     0.73974,     0.74074,     0.74174,     0.74274,     0.74374,\n",
       "           0.74474,     0.74575,     0.74675,     0.74775,     0.74875,     0.74975,     0.75075,     0.75175,     0.75275,     0.75375,     0.75475,     0.75576,     0.75676,     0.75776,     0.75876,     0.75976,     0.76076,     0.76176,     0.76276,     0.76376,     0.76476,     0.76577,     0.76677,     0.76777,\n",
       "           0.76877,     0.76977,     0.77077,     0.77177,     0.77277,     0.77377,     0.77477,     0.77578,     0.77678,     0.77778,     0.77878,     0.77978,     0.78078,     0.78178,     0.78278,     0.78378,     0.78478,     0.78579,     0.78679,     0.78779,     0.78879,     0.78979,     0.79079,     0.79179,\n",
       "           0.79279,     0.79379,     0.79479,      0.7958,      0.7968,      0.7978,      0.7988,      0.7998,      0.8008,      0.8018,      0.8028,      0.8038,      0.8048,     0.80581,     0.80681,     0.80781,     0.80881,     0.80981,     0.81081,     0.81181,     0.81281,     0.81381,     0.81481,     0.81582,\n",
       "           0.81682,     0.81782,     0.81882,     0.81982,     0.82082,     0.82182,     0.82282,     0.82382,     0.82482,     0.82583,     0.82683,     0.82783,     0.82883,     0.82983,     0.83083,     0.83183,     0.83283,     0.83383,     0.83483,     0.83584,     0.83684,     0.83784,     0.83884,     0.83984,\n",
       "           0.84084,     0.84184,     0.84284,     0.84384,     0.84484,     0.84585,     0.84685,     0.84785,     0.84885,     0.84985,     0.85085,     0.85185,     0.85285,     0.85385,     0.85485,     0.85586,     0.85686,     0.85786,     0.85886,     0.85986,     0.86086,     0.86186,     0.86286,     0.86386,\n",
       "           0.86486,     0.86587,     0.86687,     0.86787,     0.86887,     0.86987,     0.87087,     0.87187,     0.87287,     0.87387,     0.87487,     0.87588,     0.87688,     0.87788,     0.87888,     0.87988,     0.88088,     0.88188,     0.88288,     0.88388,     0.88488,     0.88589,     0.88689,     0.88789,\n",
       "           0.88889,     0.88989,     0.89089,     0.89189,     0.89289,     0.89389,     0.89489,      0.8959,      0.8969,      0.8979,      0.8989,      0.8999,      0.9009,      0.9019,      0.9029,      0.9039,      0.9049,     0.90591,     0.90691,     0.90791,     0.90891,     0.90991,     0.91091,     0.91191,\n",
       "           0.91291,     0.91391,     0.91491,     0.91592,     0.91692,     0.91792,     0.91892,     0.91992,     0.92092,     0.92192,     0.92292,     0.92392,     0.92492,     0.92593,     0.92693,     0.92793,     0.92893,     0.92993,     0.93093,     0.93193,     0.93293,     0.93393,     0.93493,     0.93594,\n",
       "           0.93694,     0.93794,     0.93894,     0.93994,     0.94094,     0.94194,     0.94294,     0.94394,     0.94494,     0.94595,     0.94695,     0.94795,     0.94895,     0.94995,     0.95095,     0.95195,     0.95295,     0.95395,     0.95495,     0.95596,     0.95696,     0.95796,     0.95896,     0.95996,\n",
       "           0.96096,     0.96196,     0.96296,     0.96396,     0.96496,     0.96597,     0.96697,     0.96797,     0.96897,     0.96997,     0.97097,     0.97197,     0.97297,     0.97397,     0.97497,     0.97598,     0.97698,     0.97798,     0.97898,     0.97998,     0.98098,     0.98198,     0.98298,     0.98398,\n",
       "           0.98498,     0.98599,     0.98699,     0.98799,     0.98899,     0.98999,     0.99099,     0.99199,     0.99299,     0.99399,     0.99499,       0.996,       0.997,       0.998,       0.999,           1]), array([[   0.008247,    0.008247,    0.012719,    0.030776,     0.10321,     0.21077,      0.2829,     0.32865,     0.35957,      0.3837,     0.40648,     0.42239,     0.44045,      0.4693,      0.4822,     0.49752,     0.51512,     0.53147,     0.54026,     0.54961,      0.5634,     0.56918,     0.57687,\n",
       "            0.59072,     0.59805,     0.60567,     0.60968,     0.61433,     0.62349,     0.62706,     0.62837,     0.62968,     0.63138,     0.63514,      0.6591,     0.66314,     0.66605,     0.67206,     0.67433,     0.67655,     0.68019,     0.68503,     0.69611,     0.70272,     0.70483,     0.70738,\n",
       "            0.71485,     0.71721,      0.7196,     0.72225,     0.72489,     0.73137,     0.74577,     0.74707,     0.74836,     0.74965,     0.75093,     0.75222,     0.75412,     0.75607,     0.75801,     0.76299,      0.7741,     0.77655,     0.77899,     0.78391,     0.79096,     0.79452,     0.79797,\n",
       "            0.80132,     0.80423,     0.80565,     0.80707,     0.80849,      0.8099,     0.81131,     0.81259,     0.81379,     0.81498,     0.81618,     0.81737,     0.81855,     0.81974,     0.82095,     0.82217,     0.82339,     0.82461,     0.82582,     0.82703,     0.82824,     0.83551,     0.83897,\n",
       "            0.84164,     0.84429,     0.84659,     0.84865,     0.85069,     0.85273,     0.85422,     0.85442,     0.85462,     0.85482,     0.85501,     0.85521,     0.85541,      0.8556,      0.8558,       0.856,     0.85619,     0.85639,     0.85659,     0.85678,     0.85698,     0.85717,     0.85737,\n",
       "            0.85757,     0.85776,     0.85796,     0.85815,     0.85835,     0.85855,     0.85874,     0.85894,     0.85913,     0.85933,     0.85952,     0.85972,     0.85991,     0.86011,      0.8603,      0.8605,     0.86069,     0.86089,     0.86108,     0.86128,     0.86147,     0.86167,     0.86186,\n",
       "            0.86205,     0.86225,     0.86244,     0.86264,     0.86283,     0.86302,     0.86386,     0.86611,     0.86835,     0.87059,      0.8724,     0.87268,     0.87296,     0.87324,     0.87352,      0.8738,     0.87408,     0.87436,     0.87463,     0.87491,     0.87519,     0.87547,     0.87575,\n",
       "            0.87603,      0.8763,     0.87658,     0.87686,     0.87714,     0.87741,     0.87769,     0.87797,     0.87824,     0.87852,      0.8788,     0.87907,     0.87935,     0.87963,      0.8799,     0.88018,     0.88045,     0.88073,     0.88101,     0.88128,     0.88156,      0.8917,     0.89323,\n",
       "            0.89475,     0.89626,     0.89777,     0.89928,     0.90078,     0.90119,     0.90131,     0.90143,     0.90155,     0.90167,     0.90178,      0.9019,     0.90202,     0.90214,     0.90226,     0.90238,     0.90249,     0.90261,     0.90273,     0.90285,     0.90297,     0.90309,      0.9032,\n",
       "            0.90332,     0.90344,     0.90356,     0.90368,     0.90379,     0.90391,     0.90403,     0.90415,     0.90427,     0.90438,      0.9045,     0.90462,     0.90474,     0.90485,     0.90497,     0.90509,     0.90521,     0.90532,     0.90544,     0.90556,     0.90568,     0.90579,     0.90591,\n",
       "            0.90603,     0.90615,     0.90626,     0.90638,      0.9065,     0.90662,     0.90673,     0.90685,     0.90697,     0.90708,      0.9072,     0.90732,     0.90744,     0.90755,     0.90767,     0.90779,      0.9079,     0.90802,     0.90814,     0.90826,     0.90837,     0.90849,     0.90861,\n",
       "            0.90872,     0.90884,     0.90896,     0.90907,     0.90919,     0.90931,     0.90942,     0.90954,     0.90966,     0.90977,     0.90989,     0.91001,     0.91012,     0.91024,     0.91035,     0.91047,     0.91059,      0.9107,     0.91082,     0.91094,     0.91105,     0.91115,     0.91122,\n",
       "             0.9113,     0.91138,     0.91145,     0.91153,      0.9116,     0.91168,     0.91176,     0.91183,     0.91191,     0.91198,     0.91206,     0.91213,     0.91221,     0.91229,     0.91236,     0.91244,     0.91251,     0.91259,     0.91266,     0.91274,     0.91282,     0.91289,     0.91297,\n",
       "            0.91304,     0.91312,     0.91319,     0.91327,     0.91334,     0.91342,      0.9135,     0.91357,     0.91365,     0.91372,      0.9138,     0.91387,     0.91395,     0.91402,      0.9141,     0.91417,     0.91425,     0.91433,      0.9144,     0.91448,     0.91455,     0.91463,      0.9147,\n",
       "            0.91478,     0.91485,     0.91493,       0.915,     0.91508,     0.91515,     0.91523,      0.9153,     0.91538,     0.91545,     0.91553,      0.9156,     0.91568,     0.91576,     0.91583,     0.91591,     0.91598,     0.91606,     0.91613,     0.91621,     0.91628,     0.91636,     0.91643,\n",
       "            0.91651,     0.91658,     0.91666,     0.91673,     0.91681,     0.91688,     0.91696,     0.91703,     0.91711,     0.91718,     0.91726,     0.91733,     0.91741,     0.91748,     0.91756,     0.91763,     0.91771,     0.91778,     0.91786,     0.91793,     0.91801,     0.91808,     0.91815,\n",
       "            0.91823,      0.9183,     0.91838,     0.91845,     0.91853,      0.9186,     0.91868,     0.91875,     0.91883,      0.9189,     0.91898,     0.91905,     0.91913,      0.9192,     0.91928,     0.91935,     0.91942,      0.9195,     0.91957,     0.91965,     0.91972,      0.9198,     0.91987,\n",
       "            0.91995,     0.92002,      0.9201,     0.92017,     0.92025,     0.92032,     0.92039,     0.92047,     0.92054,     0.92062,     0.92069,     0.92077,     0.92084,     0.92092,     0.92099,     0.92106,     0.92114,     0.92121,     0.92129,     0.92136,     0.92143,      0.9215,     0.92158,\n",
       "            0.92165,     0.92172,     0.92179,     0.92186,     0.92194,     0.92201,     0.92208,     0.92215,     0.92222,      0.9223,     0.92237,     0.92244,     0.92251,     0.92258,     0.92265,     0.92273,      0.9228,     0.92287,     0.92294,     0.92301,     0.92309,     0.92316,     0.92323,\n",
       "             0.9233,     0.92337,     0.92344,     0.92352,     0.92359,     0.92366,     0.92373,      0.9238,     0.92387,     0.92395,     0.92402,     0.92409,     0.92416,     0.92423,      0.9243,     0.92437,     0.92445,     0.92452,     0.92459,     0.92466,     0.92473,      0.9248,     0.92488,\n",
       "            0.92495,     0.92502,     0.92509,     0.92516,     0.92523,      0.9253,     0.92538,     0.92545,     0.92552,     0.92559,     0.92566,     0.92573,      0.9258,     0.92588,     0.92595,     0.92602,     0.92609,     0.92616,     0.92623,      0.9263,     0.92637,     0.92645,     0.92652,\n",
       "            0.92659,     0.92666,     0.92673,      0.9268,     0.92687,     0.92694,     0.92701,     0.92709,     0.92716,     0.92723,      0.9273,     0.92737,     0.92744,     0.92751,     0.92758,     0.92765,     0.92773,      0.9278,     0.92787,     0.92794,     0.92801,     0.92808,     0.92815,\n",
       "            0.92822,     0.92829,     0.92837,     0.92844,     0.92851,     0.92858,     0.92865,     0.92872,     0.92879,     0.92886,     0.92893,       0.929,     0.92907,     0.92915,     0.92922,     0.92929,     0.92936,     0.92943,      0.9295,     0.92957,     0.92964,     0.92971,     0.92978,\n",
       "            0.92985,     0.92992,     0.92999,     0.93007,     0.93014,     0.93021,     0.93028,     0.93035,     0.93042,     0.93049,     0.93056,     0.93063,      0.9307,     0.93077,     0.93084,     0.93091,     0.93098,     0.93105,     0.93112,      0.9312,     0.93127,     0.93134,     0.93141,\n",
       "            0.93148,     0.93155,     0.93162,     0.93169,     0.93176,     0.93185,     0.93204,     0.93224,     0.93243,     0.93262,     0.93282,     0.93301,      0.9332,      0.9334,     0.93359,     0.93378,     0.93397,     0.93417,     0.93436,     0.93455,     0.93474,     0.93494,     0.93513,\n",
       "            0.93532,     0.93551,     0.93571,      0.9359,     0.93609,     0.93628,     0.93647,     0.93666,     0.93686,     0.93705,     0.93724,     0.93743,     0.93762,     0.93781,       0.938,     0.93819,     0.93839,     0.93858,     0.93877,     0.93896,     0.93915,     0.93934,     0.93953,\n",
       "            0.93972,     0.93991,      0.9401,     0.94029,     0.94048,     0.94067,     0.94086,     0.94105,     0.94124,     0.94143,     0.94162,     0.94181,       0.942,     0.94219,     0.94238,      0.9425,     0.94234,     0.94218,     0.94202,     0.94186,      0.9417,     0.94154,     0.94138,\n",
       "            0.94122,     0.94106,      0.9409,     0.94074,     0.94058,     0.94041,     0.94025,     0.94009,     0.93993,     0.93977,     0.93961,     0.93945,     0.93929,     0.93913,     0.93897,     0.93881,     0.93865,     0.93849,     0.93833,     0.93816,       0.938,     0.93784,     0.93768,\n",
       "            0.93752,     0.93736,      0.9372,     0.93704,     0.93688,     0.93671,     0.93655,     0.93639,     0.93623,     0.93607,     0.93591,     0.93574,     0.93558,     0.93542,     0.93526,      0.9351,     0.93494,     0.93477,     0.93461,     0.93445,     0.93429,     0.93413,     0.93396,\n",
       "             0.9338,     0.93364,     0.93348,     0.93332,     0.93315,     0.93299,     0.93283,     0.93267,      0.9325,     0.93234,     0.93218,     0.93202,     0.93185,     0.93169,     0.93153,     0.93136,      0.9312,     0.93104,     0.93088,     0.93071,     0.93055,     0.93039,     0.93021,\n",
       "             0.9297,     0.92919,     0.92869,     0.92818,     0.92767,     0.92716,     0.92665,     0.92614,     0.92563,     0.92512,     0.92461,      0.9241,     0.92359,     0.92308,     0.92257,     0.92205,     0.92154,     0.92103,     0.92051,        0.92,     0.91948,     0.91897,     0.91845,\n",
       "            0.91793,     0.91744,     0.91697,      0.9165,     0.91603,     0.91556,     0.91509,     0.91462,     0.91415,     0.91368,     0.91321,     0.91274,     0.91227,     0.91179,     0.91132,     0.91085,     0.91038,      0.9099,     0.90943,     0.90895,     0.90848,       0.908,     0.90753,\n",
       "            0.90705,     0.90658,      0.9061,     0.90562,     0.90514,     0.90466,     0.90412,     0.90359,     0.90306,     0.90253,     0.90199,     0.90146,     0.90092,     0.90039,     0.89985,     0.89932,     0.89878,     0.89825,     0.89771,     0.89717,     0.89663,     0.89609,     0.89556,\n",
       "            0.89502,     0.89448,     0.89394,      0.8934,     0.89285,     0.89231,     0.89177,      0.8912,     0.89061,     0.89002,     0.88943,     0.88884,     0.88824,     0.88765,     0.88706,     0.88647,     0.88587,     0.88528,     0.88468,     0.88409,     0.88349,     0.88289,     0.88229,\n",
       "             0.8817,      0.8811,      0.8805,      0.8799,      0.8793,      0.8787,      0.8781,     0.87685,     0.87555,     0.87425,     0.87294,     0.87163,     0.87032,     0.86901,     0.86769,     0.86637,     0.86505,     0.86388,     0.86298,     0.86208,     0.86118,     0.86027,     0.85937,\n",
       "            0.85846,     0.85756,     0.85665,     0.85574,     0.85483,     0.85392,     0.85301,     0.85209,     0.85118,     0.85026,     0.84725,     0.84338,     0.83949,     0.83558,     0.83275,     0.82995,     0.82713,     0.82431,     0.82147,      0.8182,      0.8147,     0.81118,     0.80764,\n",
       "            0.80489,      0.8039,     0.80291,     0.80191,     0.80092,     0.79992,     0.79893,     0.79793,     0.79693,     0.79593,     0.79492,     0.79392,     0.79291,     0.79191,      0.7909,     0.78989,     0.79159,     0.79514,     0.79865,      0.7909,      0.7801,     0.77305,     0.76698,\n",
       "            0.76609,      0.7652,     0.76431,     0.76342,     0.76253,     0.76163,     0.76074,     0.75984,     0.75895,     0.75805,     0.75715,     0.75625,     0.75535,     0.75444,     0.75354,     0.75264,     0.75173,     0.75082,     0.74989,      0.7487,     0.74752,     0.74633,     0.74514,\n",
       "            0.74395,     0.74275,     0.74156,     0.74036,     0.73916,     0.73796,     0.73675,     0.73554,     0.73434,     0.73313,     0.73041,     0.72538,     0.72032,     0.71523,     0.69886,     0.69441,     0.69291,     0.69141,     0.68991,      0.6884,      0.6869,     0.68539,     0.68387,\n",
       "            0.68235,     0.68083,     0.67931,     0.67778,     0.67606,     0.67318,     0.67028,     0.66738,     0.66447,     0.66154,      0.6586,     0.65574,     0.65301,     0.65028,     0.64753,     0.64477,     0.64201,     0.63923,     0.63645,     0.63348,      0.6305,     0.62751,      0.6245,\n",
       "            0.62148,     0.61846,     0.61542,     0.56962,     0.56653,     0.56343,     0.56032,     0.55719,     0.55406,     0.55091,     0.54875,     0.55056,     0.55235,     0.55411,     0.55584,     0.55613,     0.54333,      0.5314,     0.52298,     0.51448,     0.50769,     0.50507,     0.50244,\n",
       "            0.49981,     0.49716,     0.49451,     0.49185,     0.48918,      0.4865,     0.48381,     0.46916,     0.40571,     0.39139,     0.37693,     0.36552,     0.35394,      0.3428,     0.33269,     0.32246,     0.29455,     0.27077,     0.26021,     0.24952,     0.23428,     0.21537,      0.1942,\n",
       "            0.17142,     0.14681,     0.11846,     0.08819,    0.083599,    0.078985,    0.074349,    0.069691,     0.06501,    0.060307,     0.05558,     0.05083,    0.046057,           0,           0,           0,           0,           0,           0,           0,           0,           0,           0,\n",
       "                  0,           0,           0,           0,           0,           0,           0,           0,           0,           0,           0]]), 'Confidence', 'F1'], [array([          0,    0.001001,    0.002002,    0.003003,    0.004004,    0.005005,    0.006006,    0.007007,    0.008008,    0.009009,     0.01001,    0.011011,    0.012012,    0.013013,    0.014014,    0.015015,    0.016016,    0.017017,    0.018018,    0.019019,     0.02002,    0.021021,    0.022022,    0.023023,\n",
       "          0.024024,    0.025025,    0.026026,    0.027027,    0.028028,    0.029029,     0.03003,    0.031031,    0.032032,    0.033033,    0.034034,    0.035035,    0.036036,    0.037037,    0.038038,    0.039039,     0.04004,    0.041041,    0.042042,    0.043043,    0.044044,    0.045045,    0.046046,    0.047047,\n",
       "          0.048048,    0.049049,     0.05005,    0.051051,    0.052052,    0.053053,    0.054054,    0.055055,    0.056056,    0.057057,    0.058058,    0.059059,     0.06006,    0.061061,    0.062062,    0.063063,    0.064064,    0.065065,    0.066066,    0.067067,    0.068068,    0.069069,     0.07007,    0.071071,\n",
       "          0.072072,    0.073073,    0.074074,    0.075075,    0.076076,    0.077077,    0.078078,    0.079079,     0.08008,    0.081081,    0.082082,    0.083083,    0.084084,    0.085085,    0.086086,    0.087087,    0.088088,    0.089089,     0.09009,    0.091091,    0.092092,    0.093093,    0.094094,    0.095095,\n",
       "          0.096096,    0.097097,    0.098098,    0.099099,      0.1001,      0.1011,      0.1021,      0.1031,      0.1041,     0.10511,     0.10611,     0.10711,     0.10811,     0.10911,     0.11011,     0.11111,     0.11211,     0.11311,     0.11411,     0.11512,     0.11612,     0.11712,     0.11812,     0.11912,\n",
       "           0.12012,     0.12112,     0.12212,     0.12312,     0.12412,     0.12513,     0.12613,     0.12713,     0.12813,     0.12913,     0.13013,     0.13113,     0.13213,     0.13313,     0.13413,     0.13514,     0.13614,     0.13714,     0.13814,     0.13914,     0.14014,     0.14114,     0.14214,     0.14314,\n",
       "           0.14414,     0.14515,     0.14615,     0.14715,     0.14815,     0.14915,     0.15015,     0.15115,     0.15215,     0.15315,     0.15415,     0.15516,     0.15616,     0.15716,     0.15816,     0.15916,     0.16016,     0.16116,     0.16216,     0.16316,     0.16416,     0.16517,     0.16617,     0.16717,\n",
       "           0.16817,     0.16917,     0.17017,     0.17117,     0.17217,     0.17317,     0.17417,     0.17518,     0.17618,     0.17718,     0.17818,     0.17918,     0.18018,     0.18118,     0.18218,     0.18318,     0.18418,     0.18519,     0.18619,     0.18719,     0.18819,     0.18919,     0.19019,     0.19119,\n",
       "           0.19219,     0.19319,     0.19419,      0.1952,      0.1962,      0.1972,      0.1982,      0.1992,      0.2002,      0.2012,      0.2022,      0.2032,      0.2042,     0.20521,     0.20621,     0.20721,     0.20821,     0.20921,     0.21021,     0.21121,     0.21221,     0.21321,     0.21421,     0.21522,\n",
       "           0.21622,     0.21722,     0.21822,     0.21922,     0.22022,     0.22122,     0.22222,     0.22322,     0.22422,     0.22523,     0.22623,     0.22723,     0.22823,     0.22923,     0.23023,     0.23123,     0.23223,     0.23323,     0.23423,     0.23524,     0.23624,     0.23724,     0.23824,     0.23924,\n",
       "           0.24024,     0.24124,     0.24224,     0.24324,     0.24424,     0.24525,     0.24625,     0.24725,     0.24825,     0.24925,     0.25025,     0.25125,     0.25225,     0.25325,     0.25425,     0.25526,     0.25626,     0.25726,     0.25826,     0.25926,     0.26026,     0.26126,     0.26226,     0.26326,\n",
       "           0.26426,     0.26527,     0.26627,     0.26727,     0.26827,     0.26927,     0.27027,     0.27127,     0.27227,     0.27327,     0.27427,     0.27528,     0.27628,     0.27728,     0.27828,     0.27928,     0.28028,     0.28128,     0.28228,     0.28328,     0.28428,     0.28529,     0.28629,     0.28729,\n",
       "           0.28829,     0.28929,     0.29029,     0.29129,     0.29229,     0.29329,     0.29429,      0.2953,      0.2963,      0.2973,      0.2983,      0.2993,      0.3003,      0.3013,      0.3023,      0.3033,      0.3043,     0.30531,     0.30631,     0.30731,     0.30831,     0.30931,     0.31031,     0.31131,\n",
       "           0.31231,     0.31331,     0.31431,     0.31532,     0.31632,     0.31732,     0.31832,     0.31932,     0.32032,     0.32132,     0.32232,     0.32332,     0.32432,     0.32533,     0.32633,     0.32733,     0.32833,     0.32933,     0.33033,     0.33133,     0.33233,     0.33333,     0.33433,     0.33534,\n",
       "           0.33634,     0.33734,     0.33834,     0.33934,     0.34034,     0.34134,     0.34234,     0.34334,     0.34434,     0.34535,     0.34635,     0.34735,     0.34835,     0.34935,     0.35035,     0.35135,     0.35235,     0.35335,     0.35435,     0.35536,     0.35636,     0.35736,     0.35836,     0.35936,\n",
       "           0.36036,     0.36136,     0.36236,     0.36336,     0.36436,     0.36537,     0.36637,     0.36737,     0.36837,     0.36937,     0.37037,     0.37137,     0.37237,     0.37337,     0.37437,     0.37538,     0.37638,     0.37738,     0.37838,     0.37938,     0.38038,     0.38138,     0.38238,     0.38338,\n",
       "           0.38438,     0.38539,     0.38639,     0.38739,     0.38839,     0.38939,     0.39039,     0.39139,     0.39239,     0.39339,     0.39439,      0.3954,      0.3964,      0.3974,      0.3984,      0.3994,      0.4004,      0.4014,      0.4024,      0.4034,      0.4044,     0.40541,     0.40641,     0.40741,\n",
       "           0.40841,     0.40941,     0.41041,     0.41141,     0.41241,     0.41341,     0.41441,     0.41542,     0.41642,     0.41742,     0.41842,     0.41942,     0.42042,     0.42142,     0.42242,     0.42342,     0.42442,     0.42543,     0.42643,     0.42743,     0.42843,     0.42943,     0.43043,     0.43143,\n",
       "           0.43243,     0.43343,     0.43443,     0.43544,     0.43644,     0.43744,     0.43844,     0.43944,     0.44044,     0.44144,     0.44244,     0.44344,     0.44444,     0.44545,     0.44645,     0.44745,     0.44845,     0.44945,     0.45045,     0.45145,     0.45245,     0.45345,     0.45445,     0.45546,\n",
       "           0.45646,     0.45746,     0.45846,     0.45946,     0.46046,     0.46146,     0.46246,     0.46346,     0.46446,     0.46547,     0.46647,     0.46747,     0.46847,     0.46947,     0.47047,     0.47147,     0.47247,     0.47347,     0.47447,     0.47548,     0.47648,     0.47748,     0.47848,     0.47948,\n",
       "           0.48048,     0.48148,     0.48248,     0.48348,     0.48448,     0.48549,     0.48649,     0.48749,     0.48849,     0.48949,     0.49049,     0.49149,     0.49249,     0.49349,     0.49449,      0.4955,      0.4965,      0.4975,      0.4985,      0.4995,      0.5005,      0.5015,      0.5025,      0.5035,\n",
       "            0.5045,     0.50551,     0.50651,     0.50751,     0.50851,     0.50951,     0.51051,     0.51151,     0.51251,     0.51351,     0.51451,     0.51552,     0.51652,     0.51752,     0.51852,     0.51952,     0.52052,     0.52152,     0.52252,     0.52352,     0.52452,     0.52553,     0.52653,     0.52753,\n",
       "           0.52853,     0.52953,     0.53053,     0.53153,     0.53253,     0.53353,     0.53453,     0.53554,     0.53654,     0.53754,     0.53854,     0.53954,     0.54054,     0.54154,     0.54254,     0.54354,     0.54454,     0.54555,     0.54655,     0.54755,     0.54855,     0.54955,     0.55055,     0.55155,\n",
       "           0.55255,     0.55355,     0.55455,     0.55556,     0.55656,     0.55756,     0.55856,     0.55956,     0.56056,     0.56156,     0.56256,     0.56356,     0.56456,     0.56557,     0.56657,     0.56757,     0.56857,     0.56957,     0.57057,     0.57157,     0.57257,     0.57357,     0.57457,     0.57558,\n",
       "           0.57658,     0.57758,     0.57858,     0.57958,     0.58058,     0.58158,     0.58258,     0.58358,     0.58458,     0.58559,     0.58659,     0.58759,     0.58859,     0.58959,     0.59059,     0.59159,     0.59259,     0.59359,     0.59459,      0.5956,      0.5966,      0.5976,      0.5986,      0.5996,\n",
       "            0.6006,      0.6016,      0.6026,      0.6036,      0.6046,     0.60561,     0.60661,     0.60761,     0.60861,     0.60961,     0.61061,     0.61161,     0.61261,     0.61361,     0.61461,     0.61562,     0.61662,     0.61762,     0.61862,     0.61962,     0.62062,     0.62162,     0.62262,     0.62362,\n",
       "           0.62462,     0.62563,     0.62663,     0.62763,     0.62863,     0.62963,     0.63063,     0.63163,     0.63263,     0.63363,     0.63463,     0.63564,     0.63664,     0.63764,     0.63864,     0.63964,     0.64064,     0.64164,     0.64264,     0.64364,     0.64464,     0.64565,     0.64665,     0.64765,\n",
       "           0.64865,     0.64965,     0.65065,     0.65165,     0.65265,     0.65365,     0.65465,     0.65566,     0.65666,     0.65766,     0.65866,     0.65966,     0.66066,     0.66166,     0.66266,     0.66366,     0.66466,     0.66567,     0.66667,     0.66767,     0.66867,     0.66967,     0.67067,     0.67167,\n",
       "           0.67267,     0.67367,     0.67467,     0.67568,     0.67668,     0.67768,     0.67868,     0.67968,     0.68068,     0.68168,     0.68268,     0.68368,     0.68468,     0.68569,     0.68669,     0.68769,     0.68869,     0.68969,     0.69069,     0.69169,     0.69269,     0.69369,     0.69469,      0.6957,\n",
       "            0.6967,      0.6977,      0.6987,      0.6997,      0.7007,      0.7017,      0.7027,      0.7037,      0.7047,     0.70571,     0.70671,     0.70771,     0.70871,     0.70971,     0.71071,     0.71171,     0.71271,     0.71371,     0.71471,     0.71572,     0.71672,     0.71772,     0.71872,     0.71972,\n",
       "           0.72072,     0.72172,     0.72272,     0.72372,     0.72472,     0.72573,     0.72673,     0.72773,     0.72873,     0.72973,     0.73073,     0.73173,     0.73273,     0.73373,     0.73473,     0.73574,     0.73674,     0.73774,     0.73874,     0.73974,     0.74074,     0.74174,     0.74274,     0.74374,\n",
       "           0.74474,     0.74575,     0.74675,     0.74775,     0.74875,     0.74975,     0.75075,     0.75175,     0.75275,     0.75375,     0.75475,     0.75576,     0.75676,     0.75776,     0.75876,     0.75976,     0.76076,     0.76176,     0.76276,     0.76376,     0.76476,     0.76577,     0.76677,     0.76777,\n",
       "           0.76877,     0.76977,     0.77077,     0.77177,     0.77277,     0.77377,     0.77477,     0.77578,     0.77678,     0.77778,     0.77878,     0.77978,     0.78078,     0.78178,     0.78278,     0.78378,     0.78478,     0.78579,     0.78679,     0.78779,     0.78879,     0.78979,     0.79079,     0.79179,\n",
       "           0.79279,     0.79379,     0.79479,      0.7958,      0.7968,      0.7978,      0.7988,      0.7998,      0.8008,      0.8018,      0.8028,      0.8038,      0.8048,     0.80581,     0.80681,     0.80781,     0.80881,     0.80981,     0.81081,     0.81181,     0.81281,     0.81381,     0.81481,     0.81582,\n",
       "           0.81682,     0.81782,     0.81882,     0.81982,     0.82082,     0.82182,     0.82282,     0.82382,     0.82482,     0.82583,     0.82683,     0.82783,     0.82883,     0.82983,     0.83083,     0.83183,     0.83283,     0.83383,     0.83483,     0.83584,     0.83684,     0.83784,     0.83884,     0.83984,\n",
       "           0.84084,     0.84184,     0.84284,     0.84384,     0.84484,     0.84585,     0.84685,     0.84785,     0.84885,     0.84985,     0.85085,     0.85185,     0.85285,     0.85385,     0.85485,     0.85586,     0.85686,     0.85786,     0.85886,     0.85986,     0.86086,     0.86186,     0.86286,     0.86386,\n",
       "           0.86486,     0.86587,     0.86687,     0.86787,     0.86887,     0.86987,     0.87087,     0.87187,     0.87287,     0.87387,     0.87487,     0.87588,     0.87688,     0.87788,     0.87888,     0.87988,     0.88088,     0.88188,     0.88288,     0.88388,     0.88488,     0.88589,     0.88689,     0.88789,\n",
       "           0.88889,     0.88989,     0.89089,     0.89189,     0.89289,     0.89389,     0.89489,      0.8959,      0.8969,      0.8979,      0.8989,      0.8999,      0.9009,      0.9019,      0.9029,      0.9039,      0.9049,     0.90591,     0.90691,     0.90791,     0.90891,     0.90991,     0.91091,     0.91191,\n",
       "           0.91291,     0.91391,     0.91491,     0.91592,     0.91692,     0.91792,     0.91892,     0.91992,     0.92092,     0.92192,     0.92292,     0.92392,     0.92492,     0.92593,     0.92693,     0.92793,     0.92893,     0.92993,     0.93093,     0.93193,     0.93293,     0.93393,     0.93493,     0.93594,\n",
       "           0.93694,     0.93794,     0.93894,     0.93994,     0.94094,     0.94194,     0.94294,     0.94394,     0.94494,     0.94595,     0.94695,     0.94795,     0.94895,     0.94995,     0.95095,     0.95195,     0.95295,     0.95395,     0.95495,     0.95596,     0.95696,     0.95796,     0.95896,     0.95996,\n",
       "           0.96096,     0.96196,     0.96296,     0.96396,     0.96496,     0.96597,     0.96697,     0.96797,     0.96897,     0.96997,     0.97097,     0.97197,     0.97297,     0.97397,     0.97497,     0.97598,     0.97698,     0.97798,     0.97898,     0.97998,     0.98098,     0.98198,     0.98298,     0.98398,\n",
       "           0.98498,     0.98599,     0.98699,     0.98799,     0.98899,     0.98999,     0.99099,     0.99199,     0.99299,     0.99399,     0.99499,       0.996,       0.997,       0.998,       0.999,           1]), array([[  0.0041414,   0.0041414,   0.0064022,     0.01564,    0.054557,     0.11848,     0.16609,     0.19854,     0.22156,     0.24018,     0.25829,     0.27128,     0.28637,     0.31125,      0.3227,     0.33657,     0.35288,     0.36841,     0.37691,     0.38608,     0.39982,     0.40567,     0.41353,\n",
       "            0.42791,     0.43565,     0.44379,      0.4481,     0.45314,     0.46319,     0.46713,     0.46859,     0.47004,     0.47195,     0.47616,     0.50361,     0.50834,     0.51178,      0.5189,     0.52162,     0.52428,     0.52866,     0.53453,     0.54815,     0.55639,     0.55904,     0.56226,\n",
       "            0.57175,     0.57478,     0.57785,     0.58128,      0.5847,     0.59318,     0.61237,     0.61412,     0.61586,     0.61761,     0.61936,     0.62111,     0.62371,     0.62638,     0.62904,     0.63593,     0.65152,       0.655,     0.65848,     0.66554,     0.67578,     0.68098,     0.68606,\n",
       "            0.69103,     0.69538,     0.69751,     0.69964,     0.70177,      0.7039,     0.70603,     0.70797,     0.70979,     0.71161,     0.71343,     0.71525,     0.71708,      0.7189,     0.72077,     0.72265,     0.72453,     0.72642,      0.7283,     0.73019,     0.73207,     0.74352,     0.74902,\n",
       "            0.75328,     0.75754,     0.76125,     0.76458,      0.7679,     0.77123,     0.77368,       0.774,     0.77433,     0.77465,     0.77497,      0.7753,     0.77562,     0.77594,     0.77627,     0.77659,     0.77692,     0.77724,     0.77756,     0.77789,     0.77821,     0.77853,     0.77886,\n",
       "            0.77918,      0.7795,     0.77983,     0.78015,     0.78047,      0.7808,     0.78112,     0.78144,     0.78177,     0.78209,     0.78242,     0.78274,     0.78306,     0.78339,     0.78371,     0.78403,     0.78436,     0.78468,       0.785,     0.78533,     0.78565,     0.78597,      0.7863,\n",
       "            0.78662,     0.78694,     0.78727,     0.78759,     0.78792,     0.78824,     0.78964,     0.79341,     0.79718,     0.80095,     0.80402,      0.8045,     0.80497,     0.80545,     0.80592,      0.8064,     0.80688,     0.80735,     0.80783,      0.8083,     0.80878,     0.80925,     0.80973,\n",
       "             0.8102,     0.81068,     0.81116,     0.81163,     0.81211,     0.81258,     0.81306,     0.81353,     0.81401,     0.81448,     0.81496,     0.81544,     0.81591,     0.81639,     0.81686,     0.81734,     0.81781,     0.81829,     0.81876,     0.81924,     0.81971,     0.83743,     0.84013,\n",
       "            0.84282,     0.84552,     0.84821,      0.8509,      0.8536,     0.85433,     0.85455,     0.85476,     0.85497,     0.85519,      0.8554,     0.85561,     0.85583,     0.85604,     0.85625,     0.85647,     0.85668,     0.85689,      0.8571,     0.85732,     0.85753,     0.85774,     0.85796,\n",
       "            0.85817,     0.85838,      0.8586,     0.85881,     0.85902,     0.85924,     0.85945,     0.85966,     0.85987,     0.86009,      0.8603,     0.86051,     0.86073,     0.86094,     0.86115,     0.86137,     0.86158,     0.86179,     0.86201,     0.86222,     0.86243,     0.86264,     0.86286,\n",
       "            0.86307,     0.86328,      0.8635,     0.86371,     0.86392,     0.86414,     0.86435,     0.86456,     0.86478,     0.86499,      0.8652,     0.86541,     0.86563,     0.86584,     0.86605,     0.86627,     0.86648,     0.86669,     0.86691,     0.86712,     0.86733,     0.86755,     0.86776,\n",
       "            0.86797,     0.86818,      0.8684,     0.86861,     0.86882,     0.86904,     0.86925,     0.86946,     0.86968,     0.86989,      0.8701,     0.87032,     0.87053,     0.87074,     0.87095,     0.87117,     0.87138,     0.87159,     0.87181,     0.87202,     0.87223,     0.87241,     0.87255,\n",
       "            0.87269,     0.87283,     0.87297,      0.8731,     0.87324,     0.87338,     0.87352,     0.87366,      0.8738,     0.87394,     0.87408,     0.87422,     0.87436,      0.8745,     0.87464,     0.87477,     0.87491,     0.87505,     0.87519,     0.87533,     0.87547,     0.87561,     0.87575,\n",
       "            0.87589,     0.87603,     0.87617,      0.8763,     0.87644,     0.87658,     0.87672,     0.87686,       0.877,     0.87714,     0.87728,     0.87742,     0.87756,      0.8777,     0.87783,     0.87797,     0.87811,     0.87825,     0.87839,     0.87853,     0.87867,     0.87881,     0.87895,\n",
       "            0.87909,     0.87923,     0.87936,      0.8795,     0.87964,     0.87978,     0.87992,     0.88006,      0.8802,     0.88034,     0.88048,     0.88062,     0.88076,      0.8809,     0.88103,     0.88117,     0.88131,     0.88145,     0.88159,     0.88173,     0.88187,     0.88201,     0.88215,\n",
       "            0.88229,     0.88243,     0.88256,      0.8827,     0.88284,     0.88298,     0.88312,     0.88326,      0.8834,     0.88354,     0.88368,     0.88382,     0.88396,     0.88409,     0.88423,     0.88437,     0.88451,     0.88465,     0.88479,     0.88493,     0.88507,     0.88521,     0.88535,\n",
       "            0.88549,     0.88562,     0.88576,      0.8859,     0.88604,     0.88618,     0.88632,     0.88646,      0.8866,     0.88674,     0.88688,     0.88702,     0.88716,     0.88729,     0.88743,     0.88757,     0.88771,     0.88785,     0.88799,     0.88813,     0.88827,     0.88841,     0.88855,\n",
       "            0.88869,     0.88882,     0.88896,      0.8891,     0.88924,     0.88938,     0.88952,     0.88966,      0.8898,     0.88994,     0.89008,     0.89022,     0.89035,     0.89049,     0.89063,     0.89077,     0.89091,     0.89105,     0.89119,     0.89133,     0.89146,      0.8916,     0.89173,\n",
       "            0.89187,       0.892,     0.89214,     0.89227,     0.89241,     0.89254,     0.89267,     0.89281,     0.89294,     0.89308,     0.89321,     0.89335,     0.89348,     0.89362,     0.89375,     0.89389,     0.89402,     0.89416,     0.89429,     0.89443,     0.89456,      0.8947,     0.89483,\n",
       "            0.89497,      0.8951,     0.89523,     0.89537,      0.8955,     0.89564,     0.89577,     0.89591,     0.89604,     0.89618,     0.89631,     0.89645,     0.89658,     0.89672,     0.89685,     0.89699,     0.89712,     0.89726,     0.89739,     0.89753,     0.89766,     0.89779,     0.89793,\n",
       "            0.89806,      0.8982,     0.89833,     0.89847,      0.8986,     0.89874,     0.89887,     0.89901,     0.89914,     0.89928,     0.89941,     0.89955,     0.89968,     0.89982,     0.89995,     0.90009,     0.90022,     0.90035,     0.90049,     0.90062,     0.90076,     0.90089,     0.90103,\n",
       "            0.90116,      0.9013,     0.90143,     0.90157,      0.9017,     0.90184,     0.90197,     0.90211,     0.90224,     0.90238,     0.90251,     0.90265,     0.90278,     0.90292,     0.90305,     0.90318,     0.90332,     0.90345,     0.90359,     0.90372,     0.90386,     0.90399,     0.90413,\n",
       "            0.90426,      0.9044,     0.90453,     0.90467,      0.9048,     0.90494,     0.90507,     0.90521,     0.90534,     0.90548,     0.90561,     0.90574,     0.90588,     0.90601,     0.90615,     0.90628,     0.90642,     0.90655,     0.90669,     0.90682,     0.90696,     0.90709,     0.90723,\n",
       "            0.90736,      0.9075,     0.90763,     0.90777,      0.9079,     0.90804,     0.90817,      0.9083,     0.90844,     0.90857,     0.90871,     0.90884,     0.90898,     0.90911,     0.90925,     0.90938,     0.90952,     0.90965,     0.90979,     0.90992,     0.91006,     0.91019,     0.91033,\n",
       "            0.91046,      0.9106,     0.91073,     0.91086,       0.911,     0.91117,     0.91154,     0.91191,     0.91228,     0.91265,     0.91302,     0.91339,     0.91376,     0.91413,      0.9145,     0.91487,     0.91524,     0.91561,     0.91598,     0.91635,     0.91672,     0.91709,     0.91746,\n",
       "            0.91783,      0.9182,     0.91857,     0.91894,     0.91931,     0.91968,     0.92005,     0.92042,     0.92079,     0.92116,     0.92153,      0.9219,     0.92227,     0.92264,     0.92301,     0.92338,     0.92375,     0.92412,     0.92449,     0.92486,     0.92523,      0.9256,     0.92597,\n",
       "            0.92634,     0.92671,     0.92708,     0.92745,     0.92782,     0.92819,     0.92856,     0.92893,      0.9293,     0.92967,     0.93004,     0.93041,     0.93078,     0.93115,     0.93152,     0.93181,     0.93179,     0.93177,     0.93175,     0.93173,     0.93171,     0.93169,     0.93167,\n",
       "            0.93165,     0.93163,     0.93161,     0.93158,     0.93156,     0.93154,     0.93152,      0.9315,     0.93148,     0.93146,     0.93144,     0.93142,      0.9314,     0.93138,     0.93136,     0.93134,     0.93131,     0.93129,     0.93127,     0.93125,     0.93123,     0.93121,     0.93119,\n",
       "            0.93117,     0.93115,     0.93113,     0.93111,     0.93109,     0.93106,     0.93104,     0.93102,       0.931,     0.93098,     0.93096,     0.93094,     0.93092,      0.9309,     0.93088,     0.93086,     0.93084,     0.93081,     0.93079,     0.93077,     0.93075,     0.93073,     0.93071,\n",
       "            0.93069,     0.93067,     0.93065,     0.93063,     0.93061,     0.93059,     0.93056,     0.93054,     0.93052,      0.9305,     0.93048,     0.93046,     0.93044,     0.93042,      0.9304,     0.93038,     0.93036,     0.93034,     0.93031,     0.93029,     0.93027,     0.93025,     0.93023,\n",
       "            0.93016,     0.93009,     0.93003,     0.92996,     0.92989,     0.92982,     0.92976,     0.92969,     0.92962,     0.92955,     0.92949,     0.92942,     0.92935,     0.92928,     0.92922,     0.92915,     0.92908,     0.92901,     0.92895,     0.92888,     0.92881,     0.92874,     0.92868,\n",
       "            0.92861,     0.92854,     0.92848,     0.92842,     0.92835,     0.92829,     0.92822,     0.92816,      0.9281,     0.92803,     0.92797,      0.9279,     0.92784,     0.92778,     0.92771,     0.92765,     0.92758,     0.92752,     0.92746,     0.92739,     0.92733,     0.92726,      0.9272,\n",
       "            0.92714,     0.92707,     0.92701,     0.92694,     0.92688,     0.92681,     0.92674,     0.92667,     0.92659,     0.92652,     0.92644,     0.92637,     0.92629,     0.92622,     0.92614,     0.92607,       0.926,     0.92592,     0.92585,     0.92577,      0.9257,     0.92562,     0.92555,\n",
       "            0.92547,      0.9254,     0.92533,     0.92525,     0.92518,      0.9251,     0.92503,     0.92495,     0.92486,     0.92478,     0.92469,     0.92461,     0.92452,     0.92444,     0.92435,     0.92427,     0.92418,      0.9241,     0.92402,     0.92393,     0.92385,     0.92376,     0.92368,\n",
       "            0.92359,     0.92351,     0.92342,     0.92334,     0.92325,     0.92317,     0.92308,      0.9229,     0.92271,     0.92252,     0.92233,     0.92213,     0.92194,     0.92175,     0.92156,     0.92137,     0.92118,       0.921,     0.92087,     0.92073,     0.92059,     0.92046,     0.92032,\n",
       "            0.92019,     0.92005,     0.91991,     0.91978,     0.91964,      0.9195,     0.91937,     0.91923,     0.91909,     0.91896,     0.91849,     0.91789,     0.91729,     0.91669,     0.91623,     0.91578,     0.91534,     0.91489,     0.91444,      0.9139,     0.91332,     0.91274,     0.91216,\n",
       "            0.91171,     0.91154,     0.91137,      0.9112,     0.91103,     0.91086,     0.91069,     0.91052,     0.91035,     0.91018,     0.91001,     0.90984,     0.90967,      0.9095,     0.90933,     0.90916,     0.91471,     0.92426,     0.93381,     0.93636,       0.935,     0.93409,     0.93331,\n",
       "            0.93319,     0.93307,     0.93295,     0.93283,     0.93271,     0.93259,     0.93247,     0.93235,     0.93223,     0.93211,     0.93199,     0.93187,     0.93175,     0.93163,     0.93151,     0.93138,     0.93126,     0.93114,     0.93102,     0.93085,     0.93068,     0.93052,     0.93035,\n",
       "            0.93018,     0.93001,     0.92985,     0.92968,     0.92951,     0.92934,     0.92918,     0.92901,     0.92884,     0.92867,     0.92828,     0.92754,      0.9268,     0.92606,     0.92356,     0.92288,     0.92263,     0.92239,     0.92215,     0.92191,     0.92166,     0.92142,     0.92118,\n",
       "            0.92094,     0.92069,     0.92045,     0.92021,     0.91993,     0.91944,     0.91895,     0.91846,     0.91796,     0.91747,     0.91698,     0.91649,       0.916,     0.91551,     0.91502,     0.91453,     0.91404,     0.91355,     0.91306,     0.91249,     0.91193,     0.91136,      0.9108,\n",
       "            0.91023,     0.90966,      0.9091,     0.89958,     0.89887,     0.89816,     0.89744,     0.89673,     0.89602,     0.89531,     0.89669,     0.90643,     0.91618,     0.92592,     0.93566,     0.94427,     0.94252,     0.94089,     0.93963,     0.93838,     0.93737,     0.93694,     0.93651,\n",
       "            0.93608,     0.93565,     0.93522,     0.93479,     0.93436,     0.93393,      0.9335,           1,           1,           1,           1,           1,           1,           1,           1,           1,           1,           1,           1,           1,           1,           1,           1,\n",
       "                  1,           1,           1,           1,           1,           1,           1,           1,           1,           1,           1,           1,           1,           1,           1,           1,           1,           1,           1,           1,           1,           1,           1,\n",
       "                  1,           1,           1,           1,           1,           1,           1,           1,           1,           1,           1]]), 'Confidence', 'Precision'], [array([          0,    0.001001,    0.002002,    0.003003,    0.004004,    0.005005,    0.006006,    0.007007,    0.008008,    0.009009,     0.01001,    0.011011,    0.012012,    0.013013,    0.014014,    0.015015,    0.016016,    0.017017,    0.018018,    0.019019,     0.02002,    0.021021,    0.022022,    0.023023,\n",
       "          0.024024,    0.025025,    0.026026,    0.027027,    0.028028,    0.029029,     0.03003,    0.031031,    0.032032,    0.033033,    0.034034,    0.035035,    0.036036,    0.037037,    0.038038,    0.039039,     0.04004,    0.041041,    0.042042,    0.043043,    0.044044,    0.045045,    0.046046,    0.047047,\n",
       "          0.048048,    0.049049,     0.05005,    0.051051,    0.052052,    0.053053,    0.054054,    0.055055,    0.056056,    0.057057,    0.058058,    0.059059,     0.06006,    0.061061,    0.062062,    0.063063,    0.064064,    0.065065,    0.066066,    0.067067,    0.068068,    0.069069,     0.07007,    0.071071,\n",
       "          0.072072,    0.073073,    0.074074,    0.075075,    0.076076,    0.077077,    0.078078,    0.079079,     0.08008,    0.081081,    0.082082,    0.083083,    0.084084,    0.085085,    0.086086,    0.087087,    0.088088,    0.089089,     0.09009,    0.091091,    0.092092,    0.093093,    0.094094,    0.095095,\n",
       "          0.096096,    0.097097,    0.098098,    0.099099,      0.1001,      0.1011,      0.1021,      0.1031,      0.1041,     0.10511,     0.10611,     0.10711,     0.10811,     0.10911,     0.11011,     0.11111,     0.11211,     0.11311,     0.11411,     0.11512,     0.11612,     0.11712,     0.11812,     0.11912,\n",
       "           0.12012,     0.12112,     0.12212,     0.12312,     0.12412,     0.12513,     0.12613,     0.12713,     0.12813,     0.12913,     0.13013,     0.13113,     0.13213,     0.13313,     0.13413,     0.13514,     0.13614,     0.13714,     0.13814,     0.13914,     0.14014,     0.14114,     0.14214,     0.14314,\n",
       "           0.14414,     0.14515,     0.14615,     0.14715,     0.14815,     0.14915,     0.15015,     0.15115,     0.15215,     0.15315,     0.15415,     0.15516,     0.15616,     0.15716,     0.15816,     0.15916,     0.16016,     0.16116,     0.16216,     0.16316,     0.16416,     0.16517,     0.16617,     0.16717,\n",
       "           0.16817,     0.16917,     0.17017,     0.17117,     0.17217,     0.17317,     0.17417,     0.17518,     0.17618,     0.17718,     0.17818,     0.17918,     0.18018,     0.18118,     0.18218,     0.18318,     0.18418,     0.18519,     0.18619,     0.18719,     0.18819,     0.18919,     0.19019,     0.19119,\n",
       "           0.19219,     0.19319,     0.19419,      0.1952,      0.1962,      0.1972,      0.1982,      0.1992,      0.2002,      0.2012,      0.2022,      0.2032,      0.2042,     0.20521,     0.20621,     0.20721,     0.20821,     0.20921,     0.21021,     0.21121,     0.21221,     0.21321,     0.21421,     0.21522,\n",
       "           0.21622,     0.21722,     0.21822,     0.21922,     0.22022,     0.22122,     0.22222,     0.22322,     0.22422,     0.22523,     0.22623,     0.22723,     0.22823,     0.22923,     0.23023,     0.23123,     0.23223,     0.23323,     0.23423,     0.23524,     0.23624,     0.23724,     0.23824,     0.23924,\n",
       "           0.24024,     0.24124,     0.24224,     0.24324,     0.24424,     0.24525,     0.24625,     0.24725,     0.24825,     0.24925,     0.25025,     0.25125,     0.25225,     0.25325,     0.25425,     0.25526,     0.25626,     0.25726,     0.25826,     0.25926,     0.26026,     0.26126,     0.26226,     0.26326,\n",
       "           0.26426,     0.26527,     0.26627,     0.26727,     0.26827,     0.26927,     0.27027,     0.27127,     0.27227,     0.27327,     0.27427,     0.27528,     0.27628,     0.27728,     0.27828,     0.27928,     0.28028,     0.28128,     0.28228,     0.28328,     0.28428,     0.28529,     0.28629,     0.28729,\n",
       "           0.28829,     0.28929,     0.29029,     0.29129,     0.29229,     0.29329,     0.29429,      0.2953,      0.2963,      0.2973,      0.2983,      0.2993,      0.3003,      0.3013,      0.3023,      0.3033,      0.3043,     0.30531,     0.30631,     0.30731,     0.30831,     0.30931,     0.31031,     0.31131,\n",
       "           0.31231,     0.31331,     0.31431,     0.31532,     0.31632,     0.31732,     0.31832,     0.31932,     0.32032,     0.32132,     0.32232,     0.32332,     0.32432,     0.32533,     0.32633,     0.32733,     0.32833,     0.32933,     0.33033,     0.33133,     0.33233,     0.33333,     0.33433,     0.33534,\n",
       "           0.33634,     0.33734,     0.33834,     0.33934,     0.34034,     0.34134,     0.34234,     0.34334,     0.34434,     0.34535,     0.34635,     0.34735,     0.34835,     0.34935,     0.35035,     0.35135,     0.35235,     0.35335,     0.35435,     0.35536,     0.35636,     0.35736,     0.35836,     0.35936,\n",
       "           0.36036,     0.36136,     0.36236,     0.36336,     0.36436,     0.36537,     0.36637,     0.36737,     0.36837,     0.36937,     0.37037,     0.37137,     0.37237,     0.37337,     0.37437,     0.37538,     0.37638,     0.37738,     0.37838,     0.37938,     0.38038,     0.38138,     0.38238,     0.38338,\n",
       "           0.38438,     0.38539,     0.38639,     0.38739,     0.38839,     0.38939,     0.39039,     0.39139,     0.39239,     0.39339,     0.39439,      0.3954,      0.3964,      0.3974,      0.3984,      0.3994,      0.4004,      0.4014,      0.4024,      0.4034,      0.4044,     0.40541,     0.40641,     0.40741,\n",
       "           0.40841,     0.40941,     0.41041,     0.41141,     0.41241,     0.41341,     0.41441,     0.41542,     0.41642,     0.41742,     0.41842,     0.41942,     0.42042,     0.42142,     0.42242,     0.42342,     0.42442,     0.42543,     0.42643,     0.42743,     0.42843,     0.42943,     0.43043,     0.43143,\n",
       "           0.43243,     0.43343,     0.43443,     0.43544,     0.43644,     0.43744,     0.43844,     0.43944,     0.44044,     0.44144,     0.44244,     0.44344,     0.44444,     0.44545,     0.44645,     0.44745,     0.44845,     0.44945,     0.45045,     0.45145,     0.45245,     0.45345,     0.45445,     0.45546,\n",
       "           0.45646,     0.45746,     0.45846,     0.45946,     0.46046,     0.46146,     0.46246,     0.46346,     0.46446,     0.46547,     0.46647,     0.46747,     0.46847,     0.46947,     0.47047,     0.47147,     0.47247,     0.47347,     0.47447,     0.47548,     0.47648,     0.47748,     0.47848,     0.47948,\n",
       "           0.48048,     0.48148,     0.48248,     0.48348,     0.48448,     0.48549,     0.48649,     0.48749,     0.48849,     0.48949,     0.49049,     0.49149,     0.49249,     0.49349,     0.49449,      0.4955,      0.4965,      0.4975,      0.4985,      0.4995,      0.5005,      0.5015,      0.5025,      0.5035,\n",
       "            0.5045,     0.50551,     0.50651,     0.50751,     0.50851,     0.50951,     0.51051,     0.51151,     0.51251,     0.51351,     0.51451,     0.51552,     0.51652,     0.51752,     0.51852,     0.51952,     0.52052,     0.52152,     0.52252,     0.52352,     0.52452,     0.52553,     0.52653,     0.52753,\n",
       "           0.52853,     0.52953,     0.53053,     0.53153,     0.53253,     0.53353,     0.53453,     0.53554,     0.53654,     0.53754,     0.53854,     0.53954,     0.54054,     0.54154,     0.54254,     0.54354,     0.54454,     0.54555,     0.54655,     0.54755,     0.54855,     0.54955,     0.55055,     0.55155,\n",
       "           0.55255,     0.55355,     0.55455,     0.55556,     0.55656,     0.55756,     0.55856,     0.55956,     0.56056,     0.56156,     0.56256,     0.56356,     0.56456,     0.56557,     0.56657,     0.56757,     0.56857,     0.56957,     0.57057,     0.57157,     0.57257,     0.57357,     0.57457,     0.57558,\n",
       "           0.57658,     0.57758,     0.57858,     0.57958,     0.58058,     0.58158,     0.58258,     0.58358,     0.58458,     0.58559,     0.58659,     0.58759,     0.58859,     0.58959,     0.59059,     0.59159,     0.59259,     0.59359,     0.59459,      0.5956,      0.5966,      0.5976,      0.5986,      0.5996,\n",
       "            0.6006,      0.6016,      0.6026,      0.6036,      0.6046,     0.60561,     0.60661,     0.60761,     0.60861,     0.60961,     0.61061,     0.61161,     0.61261,     0.61361,     0.61461,     0.61562,     0.61662,     0.61762,     0.61862,     0.61962,     0.62062,     0.62162,     0.62262,     0.62362,\n",
       "           0.62462,     0.62563,     0.62663,     0.62763,     0.62863,     0.62963,     0.63063,     0.63163,     0.63263,     0.63363,     0.63463,     0.63564,     0.63664,     0.63764,     0.63864,     0.63964,     0.64064,     0.64164,     0.64264,     0.64364,     0.64464,     0.64565,     0.64665,     0.64765,\n",
       "           0.64865,     0.64965,     0.65065,     0.65165,     0.65265,     0.65365,     0.65465,     0.65566,     0.65666,     0.65766,     0.65866,     0.65966,     0.66066,     0.66166,     0.66266,     0.66366,     0.66466,     0.66567,     0.66667,     0.66767,     0.66867,     0.66967,     0.67067,     0.67167,\n",
       "           0.67267,     0.67367,     0.67467,     0.67568,     0.67668,     0.67768,     0.67868,     0.67968,     0.68068,     0.68168,     0.68268,     0.68368,     0.68468,     0.68569,     0.68669,     0.68769,     0.68869,     0.68969,     0.69069,     0.69169,     0.69269,     0.69369,     0.69469,      0.6957,\n",
       "            0.6967,      0.6977,      0.6987,      0.6997,      0.7007,      0.7017,      0.7027,      0.7037,      0.7047,     0.70571,     0.70671,     0.70771,     0.70871,     0.70971,     0.71071,     0.71171,     0.71271,     0.71371,     0.71471,     0.71572,     0.71672,     0.71772,     0.71872,     0.71972,\n",
       "           0.72072,     0.72172,     0.72272,     0.72372,     0.72472,     0.72573,     0.72673,     0.72773,     0.72873,     0.72973,     0.73073,     0.73173,     0.73273,     0.73373,     0.73473,     0.73574,     0.73674,     0.73774,     0.73874,     0.73974,     0.74074,     0.74174,     0.74274,     0.74374,\n",
       "           0.74474,     0.74575,     0.74675,     0.74775,     0.74875,     0.74975,     0.75075,     0.75175,     0.75275,     0.75375,     0.75475,     0.75576,     0.75676,     0.75776,     0.75876,     0.75976,     0.76076,     0.76176,     0.76276,     0.76376,     0.76476,     0.76577,     0.76677,     0.76777,\n",
       "           0.76877,     0.76977,     0.77077,     0.77177,     0.77277,     0.77377,     0.77477,     0.77578,     0.77678,     0.77778,     0.77878,     0.77978,     0.78078,     0.78178,     0.78278,     0.78378,     0.78478,     0.78579,     0.78679,     0.78779,     0.78879,     0.78979,     0.79079,     0.79179,\n",
       "           0.79279,     0.79379,     0.79479,      0.7958,      0.7968,      0.7978,      0.7988,      0.7998,      0.8008,      0.8018,      0.8028,      0.8038,      0.8048,     0.80581,     0.80681,     0.80781,     0.80881,     0.80981,     0.81081,     0.81181,     0.81281,     0.81381,     0.81481,     0.81582,\n",
       "           0.81682,     0.81782,     0.81882,     0.81982,     0.82082,     0.82182,     0.82282,     0.82382,     0.82482,     0.82583,     0.82683,     0.82783,     0.82883,     0.82983,     0.83083,     0.83183,     0.83283,     0.83383,     0.83483,     0.83584,     0.83684,     0.83784,     0.83884,     0.83984,\n",
       "           0.84084,     0.84184,     0.84284,     0.84384,     0.84484,     0.84585,     0.84685,     0.84785,     0.84885,     0.84985,     0.85085,     0.85185,     0.85285,     0.85385,     0.85485,     0.85586,     0.85686,     0.85786,     0.85886,     0.85986,     0.86086,     0.86186,     0.86286,     0.86386,\n",
       "           0.86486,     0.86587,     0.86687,     0.86787,     0.86887,     0.86987,     0.87087,     0.87187,     0.87287,     0.87387,     0.87487,     0.87588,     0.87688,     0.87788,     0.87888,     0.87988,     0.88088,     0.88188,     0.88288,     0.88388,     0.88488,     0.88589,     0.88689,     0.88789,\n",
       "           0.88889,     0.88989,     0.89089,     0.89189,     0.89289,     0.89389,     0.89489,      0.8959,      0.8969,      0.8979,      0.8989,      0.8999,      0.9009,      0.9019,      0.9029,      0.9039,      0.9049,     0.90591,     0.90691,     0.90791,     0.90891,     0.90991,     0.91091,     0.91191,\n",
       "           0.91291,     0.91391,     0.91491,     0.91592,     0.91692,     0.91792,     0.91892,     0.91992,     0.92092,     0.92192,     0.92292,     0.92392,     0.92492,     0.92593,     0.92693,     0.92793,     0.92893,     0.92993,     0.93093,     0.93193,     0.93293,     0.93393,     0.93493,     0.93594,\n",
       "           0.93694,     0.93794,     0.93894,     0.93994,     0.94094,     0.94194,     0.94294,     0.94394,     0.94494,     0.94595,     0.94695,     0.94795,     0.94895,     0.94995,     0.95095,     0.95195,     0.95295,     0.95395,     0.95495,     0.95596,     0.95696,     0.95796,     0.95896,     0.95996,\n",
       "           0.96096,     0.96196,     0.96296,     0.96396,     0.96496,     0.96597,     0.96697,     0.96797,     0.96897,     0.96997,     0.97097,     0.97197,     0.97297,     0.97397,     0.97497,     0.97598,     0.97698,     0.97798,     0.97898,     0.97998,     0.98098,     0.98198,     0.98298,     0.98398,\n",
       "           0.98498,     0.98599,     0.98699,     0.98799,     0.98899,     0.98999,     0.99099,     0.99199,     0.99299,     0.99399,     0.99499,       0.996,       0.997,       0.998,       0.999,           1]), array([[    0.95349,     0.95349,     0.95349,     0.95349,     0.95349,     0.95349,     0.95349,     0.95349,     0.95349,     0.95349,     0.95349,     0.95349,     0.95349,     0.95349,     0.95349,     0.95349,     0.95349,     0.95349,     0.95349,     0.95349,     0.95349,     0.95349,     0.95349,\n",
       "            0.95349,     0.95349,     0.95349,     0.95349,     0.95349,     0.95349,     0.95349,     0.95349,     0.95349,     0.95349,     0.95349,     0.95349,     0.95349,     0.95349,     0.95349,     0.95349,     0.95349,     0.95349,     0.95349,     0.95349,     0.95349,     0.95349,     0.95349,\n",
       "            0.95349,     0.95349,     0.95349,     0.95349,     0.95349,     0.95349,     0.95349,     0.95349,     0.95349,     0.95349,     0.95349,     0.95349,     0.95349,     0.95349,     0.95349,     0.95349,     0.95349,     0.95349,     0.95349,     0.95349,     0.95349,     0.95349,     0.95349,\n",
       "            0.95349,     0.95349,     0.95349,     0.95349,     0.95349,     0.95349,     0.95349,     0.95349,     0.95349,     0.95349,     0.95349,     0.95349,     0.95349,     0.95349,     0.95349,     0.95349,     0.95349,     0.95349,     0.95349,     0.95349,     0.95349,     0.95349,     0.95349,\n",
       "            0.95349,     0.95349,     0.95349,     0.95349,     0.95349,     0.95349,     0.95349,     0.95349,     0.95349,     0.95349,     0.95349,     0.95349,     0.95349,     0.95349,     0.95349,     0.95349,     0.95349,     0.95349,     0.95349,     0.95349,     0.95349,     0.95349,     0.95349,\n",
       "            0.95349,     0.95349,     0.95349,     0.95349,     0.95349,     0.95349,     0.95349,     0.95349,     0.95349,     0.95349,     0.95349,     0.95349,     0.95349,     0.95349,     0.95349,     0.95349,     0.95349,     0.95349,     0.95349,     0.95349,     0.95349,     0.95349,     0.95349,\n",
       "            0.95349,     0.95349,     0.95349,     0.95349,     0.95349,     0.95349,     0.95349,     0.95349,     0.95349,     0.95349,     0.95349,     0.95349,     0.95349,     0.95349,     0.95349,     0.95349,     0.95349,     0.95349,     0.95349,     0.95349,     0.95349,     0.95349,     0.95349,\n",
       "            0.95349,     0.95349,     0.95349,     0.95349,     0.95349,     0.95349,     0.95349,     0.95349,     0.95349,     0.95349,     0.95349,     0.95349,     0.95349,     0.95349,     0.95349,     0.95349,     0.95349,     0.95349,     0.95349,     0.95349,     0.95349,     0.95349,     0.95349,\n",
       "            0.95349,     0.95349,     0.95349,     0.95349,     0.95349,     0.95349,     0.95349,     0.95349,     0.95349,     0.95349,     0.95349,     0.95349,     0.95349,     0.95349,     0.95349,     0.95349,     0.95349,     0.95349,     0.95349,     0.95349,     0.95349,     0.95349,     0.95349,\n",
       "            0.95349,     0.95349,     0.95349,     0.95349,     0.95349,     0.95349,     0.95349,     0.95349,     0.95349,     0.95349,     0.95349,     0.95349,     0.95349,     0.95349,     0.95349,     0.95349,     0.95349,     0.95349,     0.95349,     0.95349,     0.95349,     0.95349,     0.95349,\n",
       "            0.95349,     0.95349,     0.95349,     0.95349,     0.95349,     0.95349,     0.95349,     0.95349,     0.95349,     0.95349,     0.95349,     0.95349,     0.95349,     0.95349,     0.95349,     0.95349,     0.95349,     0.95349,     0.95349,     0.95349,     0.95349,     0.95349,     0.95349,\n",
       "            0.95349,     0.95349,     0.95349,     0.95349,     0.95349,     0.95349,     0.95349,     0.95349,     0.95349,     0.95349,     0.95349,     0.95349,     0.95349,     0.95349,     0.95349,     0.95349,     0.95349,     0.95349,     0.95349,     0.95349,     0.95349,     0.95349,     0.95349,\n",
       "            0.95349,     0.95349,     0.95349,     0.95349,     0.95349,     0.95349,     0.95349,     0.95349,     0.95349,     0.95349,     0.95349,     0.95349,     0.95349,     0.95349,     0.95349,     0.95349,     0.95349,     0.95349,     0.95349,     0.95349,     0.95349,     0.95349,     0.95349,\n",
       "            0.95349,     0.95349,     0.95349,     0.95349,     0.95349,     0.95349,     0.95349,     0.95349,     0.95349,     0.95349,     0.95349,     0.95349,     0.95349,     0.95349,     0.95349,     0.95349,     0.95349,     0.95349,     0.95349,     0.95349,     0.95349,     0.95349,     0.95349,\n",
       "            0.95349,     0.95349,     0.95349,     0.95349,     0.95349,     0.95349,     0.95349,     0.95349,     0.95349,     0.95349,     0.95349,     0.95349,     0.95349,     0.95349,     0.95349,     0.95349,     0.95349,     0.95349,     0.95349,     0.95349,     0.95349,     0.95349,     0.95349,\n",
       "            0.95349,     0.95349,     0.95349,     0.95349,     0.95349,     0.95349,     0.95349,     0.95349,     0.95349,     0.95349,     0.95349,     0.95349,     0.95349,     0.95349,     0.95349,     0.95349,     0.95349,     0.95349,     0.95349,     0.95349,     0.95349,     0.95349,     0.95349,\n",
       "            0.95349,     0.95349,     0.95349,     0.95349,     0.95349,     0.95349,     0.95349,     0.95349,     0.95349,     0.95349,     0.95349,     0.95349,     0.95349,     0.95349,     0.95349,     0.95349,     0.95349,     0.95349,     0.95349,     0.95349,     0.95349,     0.95349,     0.95349,\n",
       "            0.95349,     0.95349,     0.95349,     0.95349,     0.95349,     0.95349,     0.95349,     0.95349,     0.95349,     0.95349,     0.95349,     0.95349,     0.95349,     0.95349,     0.95349,     0.95349,     0.95349,     0.95349,     0.95349,     0.95349,     0.95349,     0.95349,     0.95349,\n",
       "            0.95349,     0.95349,     0.95349,     0.95349,     0.95349,     0.95349,     0.95349,     0.95349,     0.95349,     0.95349,     0.95349,     0.95349,     0.95349,     0.95349,     0.95349,     0.95349,     0.95349,     0.95349,     0.95349,     0.95349,     0.95349,     0.95349,     0.95349,\n",
       "            0.95349,     0.95349,     0.95349,     0.95349,     0.95349,     0.95349,     0.95349,     0.95349,     0.95349,     0.95349,     0.95349,     0.95349,     0.95349,     0.95349,     0.95349,     0.95349,     0.95349,     0.95349,     0.95349,     0.95349,     0.95349,     0.95349,     0.95349,\n",
       "            0.95349,     0.95349,     0.95349,     0.95349,     0.95349,     0.95349,     0.95349,     0.95349,     0.95349,     0.95349,     0.95349,     0.95349,     0.95349,     0.95349,     0.95349,     0.95349,     0.95349,     0.95349,     0.95349,     0.95349,     0.95349,     0.95349,     0.95349,\n",
       "            0.95349,     0.95349,     0.95349,     0.95349,     0.95349,     0.95349,     0.95349,     0.95349,     0.95349,     0.95349,     0.95349,     0.95349,     0.95349,     0.95349,     0.95349,     0.95349,     0.95349,     0.95349,     0.95349,     0.95349,     0.95349,     0.95349,     0.95349,\n",
       "            0.95349,     0.95349,     0.95349,     0.95349,     0.95349,     0.95349,     0.95349,     0.95349,     0.95349,     0.95349,     0.95349,     0.95349,     0.95349,     0.95349,     0.95349,     0.95349,     0.95349,     0.95349,     0.95349,     0.95349,     0.95349,     0.95349,     0.95349,\n",
       "            0.95349,     0.95349,     0.95349,     0.95349,     0.95349,     0.95349,     0.95349,     0.95349,     0.95349,     0.95349,     0.95349,     0.95349,     0.95349,     0.95349,     0.95349,     0.95349,     0.95349,     0.95349,     0.95349,     0.95349,     0.95349,     0.95349,     0.95349,\n",
       "            0.95349,     0.95349,     0.95349,     0.95349,     0.95349,     0.95349,     0.95349,     0.95349,     0.95349,     0.95349,     0.95349,     0.95349,     0.95349,     0.95349,     0.95349,     0.95349,     0.95349,     0.95349,     0.95349,     0.95349,     0.95349,     0.95349,     0.95349,\n",
       "            0.95349,     0.95349,     0.95349,     0.95349,     0.95349,     0.95349,     0.95349,     0.95349,     0.95349,     0.95349,     0.95349,     0.95349,     0.95349,     0.95349,     0.95349,     0.95349,     0.95349,     0.95349,     0.95349,     0.95349,     0.95349,     0.95349,     0.95349,\n",
       "            0.95349,     0.95349,     0.95349,     0.95349,     0.95349,     0.95349,     0.95349,     0.95349,     0.95349,     0.95349,     0.95349,     0.95349,     0.95349,     0.95349,     0.95349,     0.95343,     0.95312,     0.95282,     0.95251,     0.95221,      0.9519,     0.95159,     0.95129,\n",
       "            0.95098,     0.95068,     0.95037,     0.95007,     0.94976,     0.94946,     0.94915,     0.94885,     0.94854,     0.94824,     0.94793,     0.94762,     0.94732,     0.94701,     0.94671,      0.9464,      0.9461,     0.94579,     0.94549,     0.94518,     0.94488,     0.94457,     0.94427,\n",
       "            0.94396,     0.94365,     0.94335,     0.94304,     0.94274,     0.94243,     0.94213,     0.94182,     0.94152,     0.94121,     0.94091,      0.9406,     0.94029,     0.93999,     0.93968,     0.93938,     0.93907,     0.93877,     0.93846,     0.93816,     0.93785,     0.93755,     0.93724,\n",
       "            0.93694,     0.93663,     0.93632,     0.93602,     0.93571,     0.93541,      0.9351,      0.9348,     0.93449,     0.93419,     0.93388,     0.93358,     0.93327,     0.93297,     0.93266,     0.93235,     0.93205,     0.93174,     0.93144,     0.93113,     0.93083,     0.93052,     0.93018,\n",
       "            0.92924,     0.92829,     0.92735,      0.9264,     0.92546,     0.92451,     0.92357,     0.92262,     0.92168,     0.92073,     0.91979,     0.91884,      0.9179,     0.91695,     0.91601,     0.91506,     0.91412,     0.91317,     0.91223,     0.91128,     0.91034,     0.90939,     0.90845,\n",
       "             0.9075,      0.9066,     0.90575,     0.90489,     0.90404,     0.90318,     0.90233,     0.90148,     0.90062,     0.89977,     0.89892,     0.89806,     0.89721,     0.89636,      0.8955,     0.89465,     0.89379,     0.89294,     0.89209,     0.89123,     0.89038,     0.88953,     0.88867,\n",
       "            0.88782,     0.88697,     0.88611,     0.88526,      0.8844,     0.88353,     0.88259,     0.88164,     0.88069,     0.87975,      0.8788,     0.87785,     0.87691,     0.87596,     0.87502,     0.87407,     0.87312,     0.87218,     0.87123,     0.87028,     0.86934,     0.86839,     0.86745,\n",
       "             0.8665,     0.86555,     0.86461,     0.86366,     0.86271,     0.86177,     0.86082,     0.85983,      0.8588,     0.85778,     0.85675,     0.85573,      0.8547,     0.85368,     0.85266,     0.85163,     0.85061,     0.84958,     0.84856,     0.84753,     0.84651,     0.84549,     0.84446,\n",
       "            0.84344,     0.84241,     0.84139,     0.84036,     0.83934,     0.83831,     0.83729,     0.83518,     0.83298,     0.83078,     0.82858,     0.82638,     0.82417,     0.82197,     0.81977,     0.81757,     0.81537,     0.81342,     0.81194,     0.81045,     0.80896,     0.80748,     0.80599,\n",
       "             0.8045,     0.80302,     0.80153,     0.80004,     0.79856,     0.79707,     0.79558,      0.7941,     0.79261,     0.79112,     0.78627,     0.78007,     0.77386,     0.76766,     0.76321,     0.75882,     0.75444,     0.75005,     0.74566,     0.74064,      0.7353,     0.72996,     0.72461,\n",
       "            0.72047,     0.71899,     0.71751,     0.71603,     0.71455,     0.71308,      0.7116,     0.71012,     0.70864,     0.70716,     0.70568,      0.7042,     0.70272,     0.70124,     0.69976,     0.69828,     0.69767,     0.69767,     0.69767,     0.68455,     0.66923,     0.65937,     0.65096,\n",
       "            0.64974,     0.64852,      0.6473,     0.64608,     0.64486,     0.64364,     0.64242,      0.6412,     0.63999,     0.63877,     0.63755,     0.63633,     0.63511,     0.63389,     0.63267,     0.63145,     0.63023,     0.62901,     0.62776,     0.62618,     0.62459,     0.62301,     0.62143,\n",
       "            0.61985,     0.61826,     0.61668,      0.6151,     0.61352,     0.61193,     0.61035,     0.60877,     0.60719,     0.60561,     0.60207,     0.59558,     0.58908,     0.58259,      0.5621,     0.55661,     0.55478,     0.55295,     0.55112,     0.54928,     0.54745,     0.54562,     0.54378,\n",
       "            0.54195,     0.54012,     0.53829,     0.53645,     0.53439,     0.53096,     0.52754,     0.52411,     0.52068,     0.51725,     0.51382,      0.5105,     0.50735,      0.5042,     0.50106,     0.49791,     0.49476,     0.49162,     0.48847,     0.48514,     0.48181,     0.47848,     0.47515,\n",
       "            0.47181,     0.46848,     0.46515,     0.41675,     0.41361,     0.41046,     0.40731,     0.40416,     0.40101,     0.39786,     0.39535,     0.39535,     0.39535,     0.39535,     0.39535,     0.39413,     0.38167,     0.37026,     0.36232,     0.35439,     0.34811,     0.34572,     0.34332,\n",
       "            0.34092,     0.33852,     0.33612,     0.33372,     0.33132,     0.32892,     0.32652,     0.30647,     0.25448,     0.24331,     0.23223,     0.22363,     0.21502,     0.20685,     0.19954,     0.19222,     0.17271,     0.15658,     0.14956,     0.14255,     0.13268,     0.12068,     0.10754,\n",
       "           0.093743,    0.079222,     0.06296,    0.046129,    0.043623,    0.041116,     0.03861,    0.036104,    0.033597,    0.031091,    0.028584,    0.026078,    0.023571,           0,           0,           0,           0,           0,           0,           0,           0,           0,           0,\n",
       "                  0,           0,           0,           0,           0,           0,           0,           0,           0,           0,           0]]), 'Confidence', 'Recall']]\n",
       "fitness: 0.6947835622694023\n",
       "keys: ['metrics/precision(B)', 'metrics/recall(B)', 'metrics/mAP50(B)', 'metrics/mAP50-95(B)']\n",
       "maps: array([    0.67035])\n",
       "names: {0: 'image-segmentation'}\n",
       "plot: True\n",
       "results_dict: {'metrics/precision(B)': 0.9317306955535697, 'metrics/recall(B)': 0.9522052402120469, 'metrics/mAP50(B)': 0.9147228787878787, 'metrics/mAP50-95(B)': 0.670345860434016, 'fitness': 0.6947835622694023}\n",
       "save_dir: WindowsPath('C:/Users/adhik/runs/detect/train4')\n",
       "speed: {'preprocess': 0.9470347202185428, 'inference': 95.82325183984005, 'loss': 0.0, 'postprocess': 1.9117846633448745}\n",
       "task: 'detect'"
      ]
     },
     "execution_count": 1,
     "metadata": {},
     "output_type": "execute_result"
    }
   ],
   "source": [
    "from ultralytics import YOLO\n",
    "model = YOLO('yolov8n.pt')\n",
    "model.train(data=\"C:\\\\Users\\\\adhik\\\\Downloads\\\\Lime\\\\data.yaml\", epochs=50)\n"
   ]
  },
  {
   "cell_type": "code",
   "execution_count": 2,
   "id": "c6f57a1a-cb15-4d0e-9ed1-3eec9abb444f",
   "metadata": {},
   "outputs": [
    {
     "name": "stdout",
     "output_type": "stream",
     "text": [
      "\n",
      "image 1/1 C:\\Users\\adhik\\Downloads\\Lime\\test\\images\\IMG_20240720_182348_rotated_20_png_jpg.rf.473ca87789ebcd0df211ebf71b0f1533.jpg: 640x640 1 image-segmentation, 251.2ms\n",
      "Speed: 0.0ms preprocess, 251.2ms inference, 0.0ms postprocess per image at shape (1, 3, 640, 640)\n"
     ]
    }
   ],
   "source": [
    "results = model.predict(source=\"C:\\\\Users\\\\adhik\\\\Downloads\\\\Lime\\\\test\\\\images\\\\IMG_20240720_182348_rotated_20_png_jpg.rf.473ca87789ebcd0df211ebf71b0f1533.jpg\", conf=0.25)  # Confidence threshold"
   ]
  },
  {
   "cell_type": "code",
   "execution_count": 3,
   "id": "7b2780c9-0029-4b1c-9355-c790d4efc30e",
   "metadata": {},
   "outputs": [],
   "source": [
    "import cv2\n",
    "\n",
    "img = cv2.imread(\"C:\\\\Users\\\\adhik\\\\Downloads\\\\Lime\\\\test\\\\images\\\\IMG_20240720_182348_rotated_20_png_jpg.rf.473ca87789ebcd0df211ebf71b0f1533.jpg\")\n",
    "\n",
    "for result in results:\n",
    "    for box in result.boxes:\n",
    "        x1, y1, x2, y2 = box.xyxy[0].tolist()  # Convert tensor to list\n",
    "        confidence = box.conf.item()  # Convert tensor to float\n",
    "        label = f\"Lime {confidence:.2f}\"\n",
    "        cv2.rectangle(img, (int(x1), int(y1)), (int(x2), int(y2)), (0, 255, 0), 2)\n",
    "        cv2.putText(img, label, (int(x1), int(y1) - 5), cv2.FONT_HERSHEY_SIMPLEX, 0.5, (0, 255, 0), 2)\n",
    "cv2.imshow(\"Result\", img)\n",
    "cv2.waitKey(0)\n",
    "cv2.destroyAllWindows()\n"
   ]
  },
  {
   "cell_type": "code",
   "execution_count": 4,
   "id": "b7976072-8867-47b0-a53c-657966b17e31",
   "metadata": {},
   "outputs": [
    {
     "name": "stdout",
     "output_type": "stream",
     "text": [
      "Ultralytics 8.3.0  Python-3.12.4 torch-2.4.1+cpu CPU (12th Gen Intel Core(TM) i7-12650H)\n"
     ]
    },
    {
     "name": "stderr",
     "output_type": "stream",
     "text": [
      "val: Scanning C:\\Users\\adhik\\Downloads\\Lime\\valid\\labels.cache... 33 images, 2 backgrounds, 0 corrupt: 100%|██████████|Scanning C:\\Users\\adhik\\Downloads\\Lime\\valid\\labels.cache... 33 images, 2 backgrounds, 0 corrupt: 100%|██████████|\n",
      "                 Class     Images  Instances      Box(P          R      mAP50  mAP50-95): 100%|██████████| 3/3 [00:01<0\n"
     ]
    },
    {
     "name": "stdout",
     "output_type": "stream",
     "text": [
      "                   all         33         43      0.932      0.952      0.915       0.67\n",
      "Speed: 1.3ms preprocess, 38.8ms inference, 0.0ms loss, 1.4ms postprocess per image\n",
      "Results saved to \u001b[1mC:\\Users\\adhik\\runs\\detect\\train42\u001b[0m\n",
      "ultralytics.utils.metrics.DetMetrics object with attributes:\n",
      "\n",
      "ap_class_index: array([0])\n",
      "box: ultralytics.utils.metrics.Metric object\n",
      "confusion_matrix: <ultralytics.utils.metrics.ConfusionMatrix object at 0x000001E8D1943BC0>\n",
      "curves: ['Precision-Recall(B)', 'F1-Confidence(B)', 'Precision-Confidence(B)', 'Recall-Confidence(B)']\n",
      "curves_results: [[array([          0,    0.001001,    0.002002,    0.003003,    0.004004,    0.005005,    0.006006,    0.007007,    0.008008,    0.009009,     0.01001,    0.011011,    0.012012,    0.013013,    0.014014,    0.015015,    0.016016,    0.017017,    0.018018,    0.019019,     0.02002,    0.021021,    0.022022,    0.023023,\n",
      "          0.024024,    0.025025,    0.026026,    0.027027,    0.028028,    0.029029,     0.03003,    0.031031,    0.032032,    0.033033,    0.034034,    0.035035,    0.036036,    0.037037,    0.038038,    0.039039,     0.04004,    0.041041,    0.042042,    0.043043,    0.044044,    0.045045,    0.046046,    0.047047,\n",
      "          0.048048,    0.049049,     0.05005,    0.051051,    0.052052,    0.053053,    0.054054,    0.055055,    0.056056,    0.057057,    0.058058,    0.059059,     0.06006,    0.061061,    0.062062,    0.063063,    0.064064,    0.065065,    0.066066,    0.067067,    0.068068,    0.069069,     0.07007,    0.071071,\n",
      "          0.072072,    0.073073,    0.074074,    0.075075,    0.076076,    0.077077,    0.078078,    0.079079,     0.08008,    0.081081,    0.082082,    0.083083,    0.084084,    0.085085,    0.086086,    0.087087,    0.088088,    0.089089,     0.09009,    0.091091,    0.092092,    0.093093,    0.094094,    0.095095,\n",
      "          0.096096,    0.097097,    0.098098,    0.099099,      0.1001,      0.1011,      0.1021,      0.1031,      0.1041,     0.10511,     0.10611,     0.10711,     0.10811,     0.10911,     0.11011,     0.11111,     0.11211,     0.11311,     0.11411,     0.11512,     0.11612,     0.11712,     0.11812,     0.11912,\n",
      "           0.12012,     0.12112,     0.12212,     0.12312,     0.12412,     0.12513,     0.12613,     0.12713,     0.12813,     0.12913,     0.13013,     0.13113,     0.13213,     0.13313,     0.13413,     0.13514,     0.13614,     0.13714,     0.13814,     0.13914,     0.14014,     0.14114,     0.14214,     0.14314,\n",
      "           0.14414,     0.14515,     0.14615,     0.14715,     0.14815,     0.14915,     0.15015,     0.15115,     0.15215,     0.15315,     0.15415,     0.15516,     0.15616,     0.15716,     0.15816,     0.15916,     0.16016,     0.16116,     0.16216,     0.16316,     0.16416,     0.16517,     0.16617,     0.16717,\n",
      "           0.16817,     0.16917,     0.17017,     0.17117,     0.17217,     0.17317,     0.17417,     0.17518,     0.17618,     0.17718,     0.17818,     0.17918,     0.18018,     0.18118,     0.18218,     0.18318,     0.18418,     0.18519,     0.18619,     0.18719,     0.18819,     0.18919,     0.19019,     0.19119,\n",
      "           0.19219,     0.19319,     0.19419,      0.1952,      0.1962,      0.1972,      0.1982,      0.1992,      0.2002,      0.2012,      0.2022,      0.2032,      0.2042,     0.20521,     0.20621,     0.20721,     0.20821,     0.20921,     0.21021,     0.21121,     0.21221,     0.21321,     0.21421,     0.21522,\n",
      "           0.21622,     0.21722,     0.21822,     0.21922,     0.22022,     0.22122,     0.22222,     0.22322,     0.22422,     0.22523,     0.22623,     0.22723,     0.22823,     0.22923,     0.23023,     0.23123,     0.23223,     0.23323,     0.23423,     0.23524,     0.23624,     0.23724,     0.23824,     0.23924,\n",
      "           0.24024,     0.24124,     0.24224,     0.24324,     0.24424,     0.24525,     0.24625,     0.24725,     0.24825,     0.24925,     0.25025,     0.25125,     0.25225,     0.25325,     0.25425,     0.25526,     0.25626,     0.25726,     0.25826,     0.25926,     0.26026,     0.26126,     0.26226,     0.26326,\n",
      "           0.26426,     0.26527,     0.26627,     0.26727,     0.26827,     0.26927,     0.27027,     0.27127,     0.27227,     0.27327,     0.27427,     0.27528,     0.27628,     0.27728,     0.27828,     0.27928,     0.28028,     0.28128,     0.28228,     0.28328,     0.28428,     0.28529,     0.28629,     0.28729,\n",
      "           0.28829,     0.28929,     0.29029,     0.29129,     0.29229,     0.29329,     0.29429,      0.2953,      0.2963,      0.2973,      0.2983,      0.2993,      0.3003,      0.3013,      0.3023,      0.3033,      0.3043,     0.30531,     0.30631,     0.30731,     0.30831,     0.30931,     0.31031,     0.31131,\n",
      "           0.31231,     0.31331,     0.31431,     0.31532,     0.31632,     0.31732,     0.31832,     0.31932,     0.32032,     0.32132,     0.32232,     0.32332,     0.32432,     0.32533,     0.32633,     0.32733,     0.32833,     0.32933,     0.33033,     0.33133,     0.33233,     0.33333,     0.33433,     0.33534,\n",
      "           0.33634,     0.33734,     0.33834,     0.33934,     0.34034,     0.34134,     0.34234,     0.34334,     0.34434,     0.34535,     0.34635,     0.34735,     0.34835,     0.34935,     0.35035,     0.35135,     0.35235,     0.35335,     0.35435,     0.35536,     0.35636,     0.35736,     0.35836,     0.35936,\n",
      "           0.36036,     0.36136,     0.36236,     0.36336,     0.36436,     0.36537,     0.36637,     0.36737,     0.36837,     0.36937,     0.37037,     0.37137,     0.37237,     0.37337,     0.37437,     0.37538,     0.37638,     0.37738,     0.37838,     0.37938,     0.38038,     0.38138,     0.38238,     0.38338,\n",
      "           0.38438,     0.38539,     0.38639,     0.38739,     0.38839,     0.38939,     0.39039,     0.39139,     0.39239,     0.39339,     0.39439,      0.3954,      0.3964,      0.3974,      0.3984,      0.3994,      0.4004,      0.4014,      0.4024,      0.4034,      0.4044,     0.40541,     0.40641,     0.40741,\n",
      "           0.40841,     0.40941,     0.41041,     0.41141,     0.41241,     0.41341,     0.41441,     0.41542,     0.41642,     0.41742,     0.41842,     0.41942,     0.42042,     0.42142,     0.42242,     0.42342,     0.42442,     0.42543,     0.42643,     0.42743,     0.42843,     0.42943,     0.43043,     0.43143,\n",
      "           0.43243,     0.43343,     0.43443,     0.43544,     0.43644,     0.43744,     0.43844,     0.43944,     0.44044,     0.44144,     0.44244,     0.44344,     0.44444,     0.44545,     0.44645,     0.44745,     0.44845,     0.44945,     0.45045,     0.45145,     0.45245,     0.45345,     0.45445,     0.45546,\n",
      "           0.45646,     0.45746,     0.45846,     0.45946,     0.46046,     0.46146,     0.46246,     0.46346,     0.46446,     0.46547,     0.46647,     0.46747,     0.46847,     0.46947,     0.47047,     0.47147,     0.47247,     0.47347,     0.47447,     0.47548,     0.47648,     0.47748,     0.47848,     0.47948,\n",
      "           0.48048,     0.48148,     0.48248,     0.48348,     0.48448,     0.48549,     0.48649,     0.48749,     0.48849,     0.48949,     0.49049,     0.49149,     0.49249,     0.49349,     0.49449,      0.4955,      0.4965,      0.4975,      0.4985,      0.4995,      0.5005,      0.5015,      0.5025,      0.5035,\n",
      "            0.5045,     0.50551,     0.50651,     0.50751,     0.50851,     0.50951,     0.51051,     0.51151,     0.51251,     0.51351,     0.51451,     0.51552,     0.51652,     0.51752,     0.51852,     0.51952,     0.52052,     0.52152,     0.52252,     0.52352,     0.52452,     0.52553,     0.52653,     0.52753,\n",
      "           0.52853,     0.52953,     0.53053,     0.53153,     0.53253,     0.53353,     0.53453,     0.53554,     0.53654,     0.53754,     0.53854,     0.53954,     0.54054,     0.54154,     0.54254,     0.54354,     0.54454,     0.54555,     0.54655,     0.54755,     0.54855,     0.54955,     0.55055,     0.55155,\n",
      "           0.55255,     0.55355,     0.55455,     0.55556,     0.55656,     0.55756,     0.55856,     0.55956,     0.56056,     0.56156,     0.56256,     0.56356,     0.56456,     0.56557,     0.56657,     0.56757,     0.56857,     0.56957,     0.57057,     0.57157,     0.57257,     0.57357,     0.57457,     0.57558,\n",
      "           0.57658,     0.57758,     0.57858,     0.57958,     0.58058,     0.58158,     0.58258,     0.58358,     0.58458,     0.58559,     0.58659,     0.58759,     0.58859,     0.58959,     0.59059,     0.59159,     0.59259,     0.59359,     0.59459,      0.5956,      0.5966,      0.5976,      0.5986,      0.5996,\n",
      "            0.6006,      0.6016,      0.6026,      0.6036,      0.6046,     0.60561,     0.60661,     0.60761,     0.60861,     0.60961,     0.61061,     0.61161,     0.61261,     0.61361,     0.61461,     0.61562,     0.61662,     0.61762,     0.61862,     0.61962,     0.62062,     0.62162,     0.62262,     0.62362,\n",
      "           0.62462,     0.62563,     0.62663,     0.62763,     0.62863,     0.62963,     0.63063,     0.63163,     0.63263,     0.63363,     0.63463,     0.63564,     0.63664,     0.63764,     0.63864,     0.63964,     0.64064,     0.64164,     0.64264,     0.64364,     0.64464,     0.64565,     0.64665,     0.64765,\n",
      "           0.64865,     0.64965,     0.65065,     0.65165,     0.65265,     0.65365,     0.65465,     0.65566,     0.65666,     0.65766,     0.65866,     0.65966,     0.66066,     0.66166,     0.66266,     0.66366,     0.66466,     0.66567,     0.66667,     0.66767,     0.66867,     0.66967,     0.67067,     0.67167,\n",
      "           0.67267,     0.67367,     0.67467,     0.67568,     0.67668,     0.67768,     0.67868,     0.67968,     0.68068,     0.68168,     0.68268,     0.68368,     0.68468,     0.68569,     0.68669,     0.68769,     0.68869,     0.68969,     0.69069,     0.69169,     0.69269,     0.69369,     0.69469,      0.6957,\n",
      "            0.6967,      0.6977,      0.6987,      0.6997,      0.7007,      0.7017,      0.7027,      0.7037,      0.7047,     0.70571,     0.70671,     0.70771,     0.70871,     0.70971,     0.71071,     0.71171,     0.71271,     0.71371,     0.71471,     0.71572,     0.71672,     0.71772,     0.71872,     0.71972,\n",
      "           0.72072,     0.72172,     0.72272,     0.72372,     0.72472,     0.72573,     0.72673,     0.72773,     0.72873,     0.72973,     0.73073,     0.73173,     0.73273,     0.73373,     0.73473,     0.73574,     0.73674,     0.73774,     0.73874,     0.73974,     0.74074,     0.74174,     0.74274,     0.74374,\n",
      "           0.74474,     0.74575,     0.74675,     0.74775,     0.74875,     0.74975,     0.75075,     0.75175,     0.75275,     0.75375,     0.75475,     0.75576,     0.75676,     0.75776,     0.75876,     0.75976,     0.76076,     0.76176,     0.76276,     0.76376,     0.76476,     0.76577,     0.76677,     0.76777,\n",
      "           0.76877,     0.76977,     0.77077,     0.77177,     0.77277,     0.77377,     0.77477,     0.77578,     0.77678,     0.77778,     0.77878,     0.77978,     0.78078,     0.78178,     0.78278,     0.78378,     0.78478,     0.78579,     0.78679,     0.78779,     0.78879,     0.78979,     0.79079,     0.79179,\n",
      "           0.79279,     0.79379,     0.79479,      0.7958,      0.7968,      0.7978,      0.7988,      0.7998,      0.8008,      0.8018,      0.8028,      0.8038,      0.8048,     0.80581,     0.80681,     0.80781,     0.80881,     0.80981,     0.81081,     0.81181,     0.81281,     0.81381,     0.81481,     0.81582,\n",
      "           0.81682,     0.81782,     0.81882,     0.81982,     0.82082,     0.82182,     0.82282,     0.82382,     0.82482,     0.82583,     0.82683,     0.82783,     0.82883,     0.82983,     0.83083,     0.83183,     0.83283,     0.83383,     0.83483,     0.83584,     0.83684,     0.83784,     0.83884,     0.83984,\n",
      "           0.84084,     0.84184,     0.84284,     0.84384,     0.84484,     0.84585,     0.84685,     0.84785,     0.84885,     0.84985,     0.85085,     0.85185,     0.85285,     0.85385,     0.85485,     0.85586,     0.85686,     0.85786,     0.85886,     0.85986,     0.86086,     0.86186,     0.86286,     0.86386,\n",
      "           0.86486,     0.86587,     0.86687,     0.86787,     0.86887,     0.86987,     0.87087,     0.87187,     0.87287,     0.87387,     0.87487,     0.87588,     0.87688,     0.87788,     0.87888,     0.87988,     0.88088,     0.88188,     0.88288,     0.88388,     0.88488,     0.88589,     0.88689,     0.88789,\n",
      "           0.88889,     0.88989,     0.89089,     0.89189,     0.89289,     0.89389,     0.89489,      0.8959,      0.8969,      0.8979,      0.8989,      0.8999,      0.9009,      0.9019,      0.9029,      0.9039,      0.9049,     0.90591,     0.90691,     0.90791,     0.90891,     0.90991,     0.91091,     0.91191,\n",
      "           0.91291,     0.91391,     0.91491,     0.91592,     0.91692,     0.91792,     0.91892,     0.91992,     0.92092,     0.92192,     0.92292,     0.92392,     0.92492,     0.92593,     0.92693,     0.92793,     0.92893,     0.92993,     0.93093,     0.93193,     0.93293,     0.93393,     0.93493,     0.93594,\n",
      "           0.93694,     0.93794,     0.93894,     0.93994,     0.94094,     0.94194,     0.94294,     0.94394,     0.94494,     0.94595,     0.94695,     0.94795,     0.94895,     0.94995,     0.95095,     0.95195,     0.95295,     0.95395,     0.95495,     0.95596,     0.95696,     0.95796,     0.95896,     0.95996,\n",
      "           0.96096,     0.96196,     0.96296,     0.96396,     0.96496,     0.96597,     0.96697,     0.96797,     0.96897,     0.96997,     0.97097,     0.97197,     0.97297,     0.97397,     0.97497,     0.97598,     0.97698,     0.97798,     0.97898,     0.97998,     0.98098,     0.98198,     0.98298,     0.98398,\n",
      "           0.98498,     0.98599,     0.98699,     0.98799,     0.98899,     0.98999,     0.99099,     0.99199,     0.99299,     0.99399,     0.99499,       0.996,       0.997,       0.998,       0.999,           1]), array([[          1,           1,           1,           1,           1,           1,           1,           1,           1,           1,           1,           1,           1,           1,           1,           1,           1,           1,           1,           1,           1,           1,           1,\n",
      "                  1,           1,           1,           1,           1,           1,           1,           1,           1,           1,           1,           1,           1,           1,           1,           1,           1,           1,           1,           1,           1,           1,           1,\n",
      "                  1,           1,           1,           1,           1,           1,           1,           1,           1,           1,           1,           1,           1,           1,           1,           1,           1,           1,           1,           1,           1,           1,           1,\n",
      "                  1,           1,           1,           1,           1,           1,           1,           1,           1,           1,           1,           1,           1,           1,           1,           1,           1,           1,           1,           1,           1,           1,           1,\n",
      "                  1,           1,           1,           1,           1,           1,           1,           1,           1,           1,           1,           1,           1,           1,           1,           1,           1,           1,           1,           1,           1,           1,           1,\n",
      "                  1,           1,           1,           1,           1,           1,           1,           1,           1,           1,           1,           1,           1,           1,           1,           1,           1,           1,           1,           1,           1,           1,           1,\n",
      "                  1,           1,           1,           1,           1,           1,           1,           1,           1,           1,           1,           1,           1,           1,           1,           1,           1,           1,           1,           1,           1,           1,           1,\n",
      "                  1,           1,           1,           1,           1,           1,           1,           1,           1,           1,           1,           1,           1,           1,           1,           1,           1,           1,           1,           1,           1,           1,           1,\n",
      "                  1,           1,           1,           1,           1,           1,           1,           1,           1,           1,           1,           1,           1,           1,           1,           1,           1,           1,           1,           1,           1,           1,           1,\n",
      "                  1,           1,           1,           1,           1,           1,           1,           1,           1,           1,           1,           1,           1,           1,           1,           1,           1,           1,           1,           1,           1,           1,           1,\n",
      "                  1,           1,           1,           1,           1,           1,           1,           1,           1,           1,           1,           1,           1,           1,           1,           1,           1,           1,           1,           1,           1,           1,           1,\n",
      "                  1,           1,           1,           1,           1,           1,           1,           1,           1,           1,           1,           1,           1,           1,           1,           1,           1,           1,           1,           1,           1,           1,           1,\n",
      "                  1,           1,           1,           1,           1,           1,           1,           1,           1,           1,           1,           1,           1,           1,           1,           1,           1,           1,           1,           1,           1,           1,           1,\n",
      "                  1,           1,           1,           1,           1,           1,           1,           1,           1,           1,           1,           1,           1,           1,           1,           1,           1,           1,           1,           1,           1,           1,           1,\n",
      "                  1,           1,           1,           1,     0.94444,     0.94444,     0.94444,     0.94444,     0.94444,     0.94444,     0.94444,     0.94444,     0.94444,     0.94444,     0.94444,     0.94444,     0.94444,     0.94444,     0.94444,     0.94444,     0.94444,     0.94444,     0.94444,\n",
      "            0.94444,     0.94444,     0.94444,     0.94444,     0.94444,     0.94444,     0.94444,     0.94444,     0.94444,     0.94444,     0.94444,     0.94444,     0.94444,     0.94444,     0.94444,     0.94444,     0.94444,     0.94444,     0.94444,     0.94444,     0.94444,     0.94444,     0.94444,\n",
      "            0.94444,     0.94444,     0.94444,     0.94444,     0.94444,     0.94444,     0.94444,     0.94444,     0.94444,     0.94444,     0.94444,     0.94444,     0.94444,     0.94444,     0.94444,     0.94444,     0.94444,     0.94444,     0.94444,     0.94444,     0.94444,     0.94444,     0.94444,\n",
      "            0.94444,     0.94444,     0.94444,     0.94444,      0.9375,      0.9375,      0.9375,      0.9375,      0.9375,      0.9375,      0.9375,      0.9375,      0.9375,      0.9375,      0.9375,      0.9375,      0.9375,      0.9375,      0.9375,      0.9375,      0.9375,      0.9375,      0.9375,\n",
      "             0.9375,      0.9375,      0.9375,      0.9375,      0.9375,      0.9375,      0.9375,      0.9375,      0.9375,      0.9375,      0.9375,      0.9375,      0.9375,      0.9375,      0.9375,      0.9375,      0.9375,      0.9375,      0.9375,      0.9375,      0.9375,      0.9375,      0.9375,\n",
      "             0.9375,      0.9375,      0.9375,      0.9375,      0.9375,      0.9375,      0.9375,      0.9375,      0.9375,      0.9375,      0.9375,      0.9375,      0.9375,      0.9375,      0.9375,      0.9375,      0.9375,      0.9375,      0.9375,      0.9375,      0.9375,      0.9375,      0.9375,\n",
      "             0.9375,      0.9375,      0.9375,      0.9375,      0.9375,      0.9375,      0.9375,      0.9375,      0.9375,      0.9375,      0.9375,      0.9375,      0.9375,      0.9375,      0.9375,      0.9375,      0.9375,      0.9375,      0.9375,      0.9375,      0.9375,      0.9375,      0.9375,\n",
      "             0.9375,      0.9375,      0.9375,      0.9375,      0.9375,      0.9375,      0.9375,      0.9375,      0.9375,      0.9375,      0.9375,      0.9375,      0.9375,      0.9375,      0.9375,      0.9375,      0.9375,      0.9375,      0.9375,      0.9375,      0.9375,      0.9375,      0.9375,\n",
      "             0.9375,      0.9375,      0.9375,      0.9375,      0.9375,      0.9375,      0.9375,      0.9375,      0.9375,      0.9375,      0.9375,      0.9375,      0.9375,      0.9375,      0.9375,      0.9375,      0.9375,      0.9375,      0.9375,      0.9375,      0.9375,      0.9375,      0.9375,\n",
      "             0.9375,      0.9375,      0.9375,      0.9375,      0.9375,      0.9375,      0.9375,      0.9375,      0.9375,      0.9375,      0.9375,      0.9375,      0.9375,      0.9375,      0.9375,      0.9375,      0.9375,      0.9375,      0.9375,      0.9375,      0.9375,      0.9375,      0.9375,\n",
      "             0.9375,      0.9375,      0.9375,      0.9375,      0.9375,      0.9375,      0.9375,      0.9375,      0.9375,      0.9375,      0.9375,      0.9375,      0.9375,      0.9375,      0.9375,      0.9375,      0.9375,      0.9375,      0.9375,      0.9375,      0.9375,      0.9375,      0.9375,\n",
      "             0.9375,      0.9375,      0.9375,      0.9375,      0.9375,      0.9375,      0.9375,      0.9375,      0.9375,      0.9375,      0.9375,      0.9375,      0.9375,      0.9375,      0.9375,      0.9375,      0.9375,      0.9375,      0.9375,      0.9375,      0.9375,      0.9375,      0.9375,\n",
      "             0.9375,      0.9375,      0.9375,      0.9375,      0.9375,      0.9375,      0.9375,      0.9375,      0.9375,      0.9375,      0.9375,      0.9375,      0.9375,      0.9375,      0.9375,      0.9375,      0.9375,      0.9375,      0.9375,      0.9375,      0.9375,      0.9375,      0.9375,\n",
      "             0.9375,      0.9375,      0.9375,      0.9375,      0.9375,      0.9375,      0.9375,      0.9375,      0.9375,      0.9375,      0.9375,      0.9375,      0.9375,      0.9375,      0.9375,      0.9375,      0.9375,      0.9375,      0.9375,      0.9375,      0.9375,      0.9375,      0.9375,\n",
      "             0.9375,      0.9375,      0.9375,      0.9375,      0.9375,      0.9375,      0.9375,      0.9375,      0.9375,      0.9375,      0.9375,      0.9375,      0.9375,      0.9375,      0.9375,      0.9375,      0.9375,      0.9375,      0.9375,      0.9375,      0.9375,      0.9375,      0.9375,\n",
      "             0.9375,      0.9375,      0.9375,      0.9375,      0.9375,      0.9375,      0.9375,      0.9375,      0.9375,      0.9375,      0.9375,      0.9375,      0.9375,      0.9375,      0.9375,      0.9375,      0.9375,      0.9375,      0.9375,      0.9375,      0.9375,      0.9375,      0.9375,\n",
      "             0.9375,      0.9375,      0.9375,      0.9375,      0.9375,      0.9375,      0.9375,     0.93182,     0.93182,     0.93182,     0.93182,     0.93182,     0.93182,     0.93182,     0.93182,     0.93182,     0.93182,     0.93182,     0.93182,     0.93182,     0.93182,     0.93182,     0.93182,\n",
      "            0.93182,     0.93182,     0.93182,     0.93182,     0.93182,     0.93182,     0.93182,     0.93182,     0.93182,     0.93182,     0.93182,     0.93182,     0.93182,     0.93182,     0.93182,     0.93182,     0.93182,     0.93182,     0.93182,     0.93182,     0.93182,     0.93182,     0.93182,\n",
      "            0.93182,     0.93182,     0.93182,     0.93182,     0.93182,     0.93182,     0.93182,     0.93182,     0.93182,     0.93182,     0.93182,     0.93182,     0.93182,     0.93182,     0.93182,     0.93182,     0.93182,     0.93182,     0.93182,     0.93182,     0.93182,     0.93182,     0.93182,\n",
      "            0.93182,     0.93182,     0.93182,     0.93182,     0.93182,     0.93182,     0.93182,     0.93182,     0.93182,     0.93182,     0.93182,     0.93182,     0.93182,     0.93182,     0.93182,     0.93182,     0.93182,     0.93182,     0.93182,     0.93182,     0.93182,     0.93182,     0.93182,\n",
      "            0.93182,     0.93182,     0.93182,     0.93182,     0.93182,     0.93182,     0.93182,     0.93182,     0.93182,     0.93182,     0.93182,     0.93182,     0.93182,     0.93182,     0.93182,     0.93182,     0.93182,     0.93182,     0.93182,     0.93182,     0.93182,     0.93182,     0.93182,\n",
      "            0.93182,     0.93182,     0.93182,     0.93182,     0.93182,     0.93182,     0.93182,     0.93182,     0.93182,     0.93182,     0.93182,     0.93182,     0.93182,     0.93182,     0.93182,     0.93182,     0.93182,     0.93182,     0.93182,     0.93182,     0.93182,     0.93182,     0.93182,\n",
      "            0.93182,     0.93182,     0.93182,     0.93182,     0.93182,     0.93182,     0.93182,     0.93182,     0.93182,     0.93182,     0.93182,     0.93182,     0.93182,     0.93182,     0.93182,     0.93182,     0.93182,     0.93182,     0.93182,     0.93182,     0.93182,     0.93182,     0.93182,\n",
      "            0.93182,     0.93182,     0.93182,     0.93182,     0.93182,     0.93182,     0.93182,     0.93182,     0.93182,     0.93182,     0.93182,     0.93182,     0.93182,     0.93182,     0.93182,     0.93182,     0.93182,     0.93182,     0.93182,     0.93182,     0.93182,     0.93182,     0.93182,\n",
      "            0.93182,     0.93182,     0.93182,     0.93182,     0.93182,     0.93182,     0.93182,     0.93182,     0.93182,     0.93182,     0.93182,     0.93182,     0.93182,     0.93182,     0.93182,     0.93182,     0.93182,     0.93182,     0.93182,     0.93182,     0.93182,     0.93182,     0.93182,\n",
      "            0.93182,     0.93182,     0.93182,     0.93182,     0.93182,     0.93182,     0.93182,     0.93182,     0.93182,     0.93182,     0.93182,     0.93182,     0.93182,     0.93182,     0.93182,     0.93182,     0.93182,     0.93182,     0.93182,     0.93182,     0.93182,     0.93182,     0.93182,\n",
      "            0.93182,     0.93182,     0.93182,     0.93182,     0.93182,     0.93182,     0.93182,     0.93182,     0.93182,     0.93182,     0.93182,     0.93182,     0.93182,     0.93182,     0.93182,     0.93182,     0.93182,     0.93182,     0.93182,     0.93182,     0.93182,     0.93182,     0.93182,\n",
      "            0.93182,     0.93182,     0.93182,     0.93182,     0.93182,     0.93182,     0.93182,     0.93182,     0.93182,     0.93182,      0.0041,   0.0040108,   0.0039217,   0.0038326,   0.0037434,   0.0036543,   0.0035652,   0.0034761,   0.0033869,   0.0032978,   0.0032087,   0.0031195,   0.0030304,\n",
      "          0.0029413,   0.0028521,    0.002763,   0.0026739,   0.0025848,   0.0024956,   0.0024065,   0.0023174,   0.0022282,   0.0021391,     0.00205,   0.0019608,   0.0018717,   0.0017826,   0.0016935,   0.0016043,   0.0015152,   0.0014261,   0.0013369,   0.0012478,   0.0011587,   0.0010696,  0.00098042,\n",
      "          0.0008913,  0.00080217,  0.00071304,  0.00062391,  0.00053478,  0.00044565,  0.00035652,  0.00026739,  0.00017826,   8.913e-05,           0]]), 'Recall', 'Precision'], [array([          0,    0.001001,    0.002002,    0.003003,    0.004004,    0.005005,    0.006006,    0.007007,    0.008008,    0.009009,     0.01001,    0.011011,    0.012012,    0.013013,    0.014014,    0.015015,    0.016016,    0.017017,    0.018018,    0.019019,     0.02002,    0.021021,    0.022022,    0.023023,\n",
      "          0.024024,    0.025025,    0.026026,    0.027027,    0.028028,    0.029029,     0.03003,    0.031031,    0.032032,    0.033033,    0.034034,    0.035035,    0.036036,    0.037037,    0.038038,    0.039039,     0.04004,    0.041041,    0.042042,    0.043043,    0.044044,    0.045045,    0.046046,    0.047047,\n",
      "          0.048048,    0.049049,     0.05005,    0.051051,    0.052052,    0.053053,    0.054054,    0.055055,    0.056056,    0.057057,    0.058058,    0.059059,     0.06006,    0.061061,    0.062062,    0.063063,    0.064064,    0.065065,    0.066066,    0.067067,    0.068068,    0.069069,     0.07007,    0.071071,\n",
      "          0.072072,    0.073073,    0.074074,    0.075075,    0.076076,    0.077077,    0.078078,    0.079079,     0.08008,    0.081081,    0.082082,    0.083083,    0.084084,    0.085085,    0.086086,    0.087087,    0.088088,    0.089089,     0.09009,    0.091091,    0.092092,    0.093093,    0.094094,    0.095095,\n",
      "          0.096096,    0.097097,    0.098098,    0.099099,      0.1001,      0.1011,      0.1021,      0.1031,      0.1041,     0.10511,     0.10611,     0.10711,     0.10811,     0.10911,     0.11011,     0.11111,     0.11211,     0.11311,     0.11411,     0.11512,     0.11612,     0.11712,     0.11812,     0.11912,\n",
      "           0.12012,     0.12112,     0.12212,     0.12312,     0.12412,     0.12513,     0.12613,     0.12713,     0.12813,     0.12913,     0.13013,     0.13113,     0.13213,     0.13313,     0.13413,     0.13514,     0.13614,     0.13714,     0.13814,     0.13914,     0.14014,     0.14114,     0.14214,     0.14314,\n",
      "           0.14414,     0.14515,     0.14615,     0.14715,     0.14815,     0.14915,     0.15015,     0.15115,     0.15215,     0.15315,     0.15415,     0.15516,     0.15616,     0.15716,     0.15816,     0.15916,     0.16016,     0.16116,     0.16216,     0.16316,     0.16416,     0.16517,     0.16617,     0.16717,\n",
      "           0.16817,     0.16917,     0.17017,     0.17117,     0.17217,     0.17317,     0.17417,     0.17518,     0.17618,     0.17718,     0.17818,     0.17918,     0.18018,     0.18118,     0.18218,     0.18318,     0.18418,     0.18519,     0.18619,     0.18719,     0.18819,     0.18919,     0.19019,     0.19119,\n",
      "           0.19219,     0.19319,     0.19419,      0.1952,      0.1962,      0.1972,      0.1982,      0.1992,      0.2002,      0.2012,      0.2022,      0.2032,      0.2042,     0.20521,     0.20621,     0.20721,     0.20821,     0.20921,     0.21021,     0.21121,     0.21221,     0.21321,     0.21421,     0.21522,\n",
      "           0.21622,     0.21722,     0.21822,     0.21922,     0.22022,     0.22122,     0.22222,     0.22322,     0.22422,     0.22523,     0.22623,     0.22723,     0.22823,     0.22923,     0.23023,     0.23123,     0.23223,     0.23323,     0.23423,     0.23524,     0.23624,     0.23724,     0.23824,     0.23924,\n",
      "           0.24024,     0.24124,     0.24224,     0.24324,     0.24424,     0.24525,     0.24625,     0.24725,     0.24825,     0.24925,     0.25025,     0.25125,     0.25225,     0.25325,     0.25425,     0.25526,     0.25626,     0.25726,     0.25826,     0.25926,     0.26026,     0.26126,     0.26226,     0.26326,\n",
      "           0.26426,     0.26527,     0.26627,     0.26727,     0.26827,     0.26927,     0.27027,     0.27127,     0.27227,     0.27327,     0.27427,     0.27528,     0.27628,     0.27728,     0.27828,     0.27928,     0.28028,     0.28128,     0.28228,     0.28328,     0.28428,     0.28529,     0.28629,     0.28729,\n",
      "           0.28829,     0.28929,     0.29029,     0.29129,     0.29229,     0.29329,     0.29429,      0.2953,      0.2963,      0.2973,      0.2983,      0.2993,      0.3003,      0.3013,      0.3023,      0.3033,      0.3043,     0.30531,     0.30631,     0.30731,     0.30831,     0.30931,     0.31031,     0.31131,\n",
      "           0.31231,     0.31331,     0.31431,     0.31532,     0.31632,     0.31732,     0.31832,     0.31932,     0.32032,     0.32132,     0.32232,     0.32332,     0.32432,     0.32533,     0.32633,     0.32733,     0.32833,     0.32933,     0.33033,     0.33133,     0.33233,     0.33333,     0.33433,     0.33534,\n",
      "           0.33634,     0.33734,     0.33834,     0.33934,     0.34034,     0.34134,     0.34234,     0.34334,     0.34434,     0.34535,     0.34635,     0.34735,     0.34835,     0.34935,     0.35035,     0.35135,     0.35235,     0.35335,     0.35435,     0.35536,     0.35636,     0.35736,     0.35836,     0.35936,\n",
      "           0.36036,     0.36136,     0.36236,     0.36336,     0.36436,     0.36537,     0.36637,     0.36737,     0.36837,     0.36937,     0.37037,     0.37137,     0.37237,     0.37337,     0.37437,     0.37538,     0.37638,     0.37738,     0.37838,     0.37938,     0.38038,     0.38138,     0.38238,     0.38338,\n",
      "           0.38438,     0.38539,     0.38639,     0.38739,     0.38839,     0.38939,     0.39039,     0.39139,     0.39239,     0.39339,     0.39439,      0.3954,      0.3964,      0.3974,      0.3984,      0.3994,      0.4004,      0.4014,      0.4024,      0.4034,      0.4044,     0.40541,     0.40641,     0.40741,\n",
      "           0.40841,     0.40941,     0.41041,     0.41141,     0.41241,     0.41341,     0.41441,     0.41542,     0.41642,     0.41742,     0.41842,     0.41942,     0.42042,     0.42142,     0.42242,     0.42342,     0.42442,     0.42543,     0.42643,     0.42743,     0.42843,     0.42943,     0.43043,     0.43143,\n",
      "           0.43243,     0.43343,     0.43443,     0.43544,     0.43644,     0.43744,     0.43844,     0.43944,     0.44044,     0.44144,     0.44244,     0.44344,     0.44444,     0.44545,     0.44645,     0.44745,     0.44845,     0.44945,     0.45045,     0.45145,     0.45245,     0.45345,     0.45445,     0.45546,\n",
      "           0.45646,     0.45746,     0.45846,     0.45946,     0.46046,     0.46146,     0.46246,     0.46346,     0.46446,     0.46547,     0.46647,     0.46747,     0.46847,     0.46947,     0.47047,     0.47147,     0.47247,     0.47347,     0.47447,     0.47548,     0.47648,     0.47748,     0.47848,     0.47948,\n",
      "           0.48048,     0.48148,     0.48248,     0.48348,     0.48448,     0.48549,     0.48649,     0.48749,     0.48849,     0.48949,     0.49049,     0.49149,     0.49249,     0.49349,     0.49449,      0.4955,      0.4965,      0.4975,      0.4985,      0.4995,      0.5005,      0.5015,      0.5025,      0.5035,\n",
      "            0.5045,     0.50551,     0.50651,     0.50751,     0.50851,     0.50951,     0.51051,     0.51151,     0.51251,     0.51351,     0.51451,     0.51552,     0.51652,     0.51752,     0.51852,     0.51952,     0.52052,     0.52152,     0.52252,     0.52352,     0.52452,     0.52553,     0.52653,     0.52753,\n",
      "           0.52853,     0.52953,     0.53053,     0.53153,     0.53253,     0.53353,     0.53453,     0.53554,     0.53654,     0.53754,     0.53854,     0.53954,     0.54054,     0.54154,     0.54254,     0.54354,     0.54454,     0.54555,     0.54655,     0.54755,     0.54855,     0.54955,     0.55055,     0.55155,\n",
      "           0.55255,     0.55355,     0.55455,     0.55556,     0.55656,     0.55756,     0.55856,     0.55956,     0.56056,     0.56156,     0.56256,     0.56356,     0.56456,     0.56557,     0.56657,     0.56757,     0.56857,     0.56957,     0.57057,     0.57157,     0.57257,     0.57357,     0.57457,     0.57558,\n",
      "           0.57658,     0.57758,     0.57858,     0.57958,     0.58058,     0.58158,     0.58258,     0.58358,     0.58458,     0.58559,     0.58659,     0.58759,     0.58859,     0.58959,     0.59059,     0.59159,     0.59259,     0.59359,     0.59459,      0.5956,      0.5966,      0.5976,      0.5986,      0.5996,\n",
      "            0.6006,      0.6016,      0.6026,      0.6036,      0.6046,     0.60561,     0.60661,     0.60761,     0.60861,     0.60961,     0.61061,     0.61161,     0.61261,     0.61361,     0.61461,     0.61562,     0.61662,     0.61762,     0.61862,     0.61962,     0.62062,     0.62162,     0.62262,     0.62362,\n",
      "           0.62462,     0.62563,     0.62663,     0.62763,     0.62863,     0.62963,     0.63063,     0.63163,     0.63263,     0.63363,     0.63463,     0.63564,     0.63664,     0.63764,     0.63864,     0.63964,     0.64064,     0.64164,     0.64264,     0.64364,     0.64464,     0.64565,     0.64665,     0.64765,\n",
      "           0.64865,     0.64965,     0.65065,     0.65165,     0.65265,     0.65365,     0.65465,     0.65566,     0.65666,     0.65766,     0.65866,     0.65966,     0.66066,     0.66166,     0.66266,     0.66366,     0.66466,     0.66567,     0.66667,     0.66767,     0.66867,     0.66967,     0.67067,     0.67167,\n",
      "           0.67267,     0.67367,     0.67467,     0.67568,     0.67668,     0.67768,     0.67868,     0.67968,     0.68068,     0.68168,     0.68268,     0.68368,     0.68468,     0.68569,     0.68669,     0.68769,     0.68869,     0.68969,     0.69069,     0.69169,     0.69269,     0.69369,     0.69469,      0.6957,\n",
      "            0.6967,      0.6977,      0.6987,      0.6997,      0.7007,      0.7017,      0.7027,      0.7037,      0.7047,     0.70571,     0.70671,     0.70771,     0.70871,     0.70971,     0.71071,     0.71171,     0.71271,     0.71371,     0.71471,     0.71572,     0.71672,     0.71772,     0.71872,     0.71972,\n",
      "           0.72072,     0.72172,     0.72272,     0.72372,     0.72472,     0.72573,     0.72673,     0.72773,     0.72873,     0.72973,     0.73073,     0.73173,     0.73273,     0.73373,     0.73473,     0.73574,     0.73674,     0.73774,     0.73874,     0.73974,     0.74074,     0.74174,     0.74274,     0.74374,\n",
      "           0.74474,     0.74575,     0.74675,     0.74775,     0.74875,     0.74975,     0.75075,     0.75175,     0.75275,     0.75375,     0.75475,     0.75576,     0.75676,     0.75776,     0.75876,     0.75976,     0.76076,     0.76176,     0.76276,     0.76376,     0.76476,     0.76577,     0.76677,     0.76777,\n",
      "           0.76877,     0.76977,     0.77077,     0.77177,     0.77277,     0.77377,     0.77477,     0.77578,     0.77678,     0.77778,     0.77878,     0.77978,     0.78078,     0.78178,     0.78278,     0.78378,     0.78478,     0.78579,     0.78679,     0.78779,     0.78879,     0.78979,     0.79079,     0.79179,\n",
      "           0.79279,     0.79379,     0.79479,      0.7958,      0.7968,      0.7978,      0.7988,      0.7998,      0.8008,      0.8018,      0.8028,      0.8038,      0.8048,     0.80581,     0.80681,     0.80781,     0.80881,     0.80981,     0.81081,     0.81181,     0.81281,     0.81381,     0.81481,     0.81582,\n",
      "           0.81682,     0.81782,     0.81882,     0.81982,     0.82082,     0.82182,     0.82282,     0.82382,     0.82482,     0.82583,     0.82683,     0.82783,     0.82883,     0.82983,     0.83083,     0.83183,     0.83283,     0.83383,     0.83483,     0.83584,     0.83684,     0.83784,     0.83884,     0.83984,\n",
      "           0.84084,     0.84184,     0.84284,     0.84384,     0.84484,     0.84585,     0.84685,     0.84785,     0.84885,     0.84985,     0.85085,     0.85185,     0.85285,     0.85385,     0.85485,     0.85586,     0.85686,     0.85786,     0.85886,     0.85986,     0.86086,     0.86186,     0.86286,     0.86386,\n",
      "           0.86486,     0.86587,     0.86687,     0.86787,     0.86887,     0.86987,     0.87087,     0.87187,     0.87287,     0.87387,     0.87487,     0.87588,     0.87688,     0.87788,     0.87888,     0.87988,     0.88088,     0.88188,     0.88288,     0.88388,     0.88488,     0.88589,     0.88689,     0.88789,\n",
      "           0.88889,     0.88989,     0.89089,     0.89189,     0.89289,     0.89389,     0.89489,      0.8959,      0.8969,      0.8979,      0.8989,      0.8999,      0.9009,      0.9019,      0.9029,      0.9039,      0.9049,     0.90591,     0.90691,     0.90791,     0.90891,     0.90991,     0.91091,     0.91191,\n",
      "           0.91291,     0.91391,     0.91491,     0.91592,     0.91692,     0.91792,     0.91892,     0.91992,     0.92092,     0.92192,     0.92292,     0.92392,     0.92492,     0.92593,     0.92693,     0.92793,     0.92893,     0.92993,     0.93093,     0.93193,     0.93293,     0.93393,     0.93493,     0.93594,\n",
      "           0.93694,     0.93794,     0.93894,     0.93994,     0.94094,     0.94194,     0.94294,     0.94394,     0.94494,     0.94595,     0.94695,     0.94795,     0.94895,     0.94995,     0.95095,     0.95195,     0.95295,     0.95395,     0.95495,     0.95596,     0.95696,     0.95796,     0.95896,     0.95996,\n",
      "           0.96096,     0.96196,     0.96296,     0.96396,     0.96496,     0.96597,     0.96697,     0.96797,     0.96897,     0.96997,     0.97097,     0.97197,     0.97297,     0.97397,     0.97497,     0.97598,     0.97698,     0.97798,     0.97898,     0.97998,     0.98098,     0.98198,     0.98298,     0.98398,\n",
      "           0.98498,     0.98599,     0.98699,     0.98799,     0.98899,     0.98999,     0.99099,     0.99199,     0.99299,     0.99399,     0.99499,       0.996,       0.997,       0.998,       0.999,           1]), array([[   0.008247,    0.008247,    0.012719,    0.030776,     0.10321,     0.21077,      0.2829,     0.32865,     0.35957,      0.3837,     0.40648,     0.42239,     0.44045,      0.4693,      0.4822,     0.49752,     0.51512,     0.53147,     0.54026,     0.54961,      0.5634,     0.56918,     0.57687,\n",
      "            0.59072,     0.59805,     0.60567,     0.60968,     0.61433,     0.62349,     0.62706,     0.62837,     0.62968,     0.63138,     0.63514,      0.6591,     0.66314,     0.66605,     0.67206,     0.67433,     0.67655,     0.68019,     0.68503,     0.69611,     0.70272,     0.70483,     0.70738,\n",
      "            0.71485,     0.71721,      0.7196,     0.72225,     0.72489,     0.73137,     0.74577,     0.74707,     0.74836,     0.74965,     0.75093,     0.75222,     0.75412,     0.75607,     0.75801,     0.76299,      0.7741,     0.77655,     0.77899,     0.78391,     0.79096,     0.79452,     0.79797,\n",
      "            0.80132,     0.80423,     0.80565,     0.80707,     0.80849,      0.8099,     0.81131,     0.81259,     0.81379,     0.81498,     0.81618,     0.81737,     0.81855,     0.81974,     0.82095,     0.82217,     0.82339,     0.82461,     0.82582,     0.82703,     0.82824,     0.83551,     0.83897,\n",
      "            0.84164,     0.84429,     0.84659,     0.84865,     0.85069,     0.85273,     0.85422,     0.85442,     0.85462,     0.85482,     0.85501,     0.85521,     0.85541,      0.8556,      0.8558,       0.856,     0.85619,     0.85639,     0.85659,     0.85678,     0.85698,     0.85717,     0.85737,\n",
      "            0.85757,     0.85776,     0.85796,     0.85815,     0.85835,     0.85855,     0.85874,     0.85894,     0.85913,     0.85933,     0.85952,     0.85972,     0.85991,     0.86011,      0.8603,      0.8605,     0.86069,     0.86089,     0.86108,     0.86128,     0.86147,     0.86167,     0.86186,\n",
      "            0.86205,     0.86225,     0.86244,     0.86264,     0.86283,     0.86302,     0.86386,     0.86611,     0.86835,     0.87059,      0.8724,     0.87268,     0.87296,     0.87324,     0.87352,      0.8738,     0.87408,     0.87436,     0.87463,     0.87491,     0.87519,     0.87547,     0.87575,\n",
      "            0.87603,      0.8763,     0.87658,     0.87686,     0.87714,     0.87741,     0.87769,     0.87797,     0.87824,     0.87852,      0.8788,     0.87907,     0.87935,     0.87963,      0.8799,     0.88018,     0.88045,     0.88073,     0.88101,     0.88128,     0.88156,      0.8917,     0.89323,\n",
      "            0.89475,     0.89626,     0.89777,     0.89928,     0.90078,     0.90119,     0.90131,     0.90143,     0.90155,     0.90167,     0.90178,      0.9019,     0.90202,     0.90214,     0.90226,     0.90238,     0.90249,     0.90261,     0.90273,     0.90285,     0.90297,     0.90309,      0.9032,\n",
      "            0.90332,     0.90344,     0.90356,     0.90368,     0.90379,     0.90391,     0.90403,     0.90415,     0.90427,     0.90438,      0.9045,     0.90462,     0.90474,     0.90485,     0.90497,     0.90509,     0.90521,     0.90532,     0.90544,     0.90556,     0.90568,     0.90579,     0.90591,\n",
      "            0.90603,     0.90615,     0.90626,     0.90638,      0.9065,     0.90662,     0.90673,     0.90685,     0.90697,     0.90708,      0.9072,     0.90732,     0.90744,     0.90755,     0.90767,     0.90779,      0.9079,     0.90802,     0.90814,     0.90826,     0.90837,     0.90849,     0.90861,\n",
      "            0.90872,     0.90884,     0.90896,     0.90907,     0.90919,     0.90931,     0.90942,     0.90954,     0.90966,     0.90977,     0.90989,     0.91001,     0.91012,     0.91024,     0.91035,     0.91047,     0.91059,      0.9107,     0.91082,     0.91094,     0.91105,     0.91115,     0.91122,\n",
      "             0.9113,     0.91138,     0.91145,     0.91153,      0.9116,     0.91168,     0.91176,     0.91183,     0.91191,     0.91198,     0.91206,     0.91213,     0.91221,     0.91229,     0.91236,     0.91244,     0.91251,     0.91259,     0.91266,     0.91274,     0.91282,     0.91289,     0.91297,\n",
      "            0.91304,     0.91312,     0.91319,     0.91327,     0.91334,     0.91342,      0.9135,     0.91357,     0.91365,     0.91372,      0.9138,     0.91387,     0.91395,     0.91402,      0.9141,     0.91417,     0.91425,     0.91433,      0.9144,     0.91448,     0.91455,     0.91463,      0.9147,\n",
      "            0.91478,     0.91485,     0.91493,       0.915,     0.91508,     0.91515,     0.91523,      0.9153,     0.91538,     0.91545,     0.91553,      0.9156,     0.91568,     0.91576,     0.91583,     0.91591,     0.91598,     0.91606,     0.91613,     0.91621,     0.91628,     0.91636,     0.91643,\n",
      "            0.91651,     0.91658,     0.91666,     0.91673,     0.91681,     0.91688,     0.91696,     0.91703,     0.91711,     0.91718,     0.91726,     0.91733,     0.91741,     0.91748,     0.91756,     0.91763,     0.91771,     0.91778,     0.91786,     0.91793,     0.91801,     0.91808,     0.91815,\n",
      "            0.91823,      0.9183,     0.91838,     0.91845,     0.91853,      0.9186,     0.91868,     0.91875,     0.91883,      0.9189,     0.91898,     0.91905,     0.91913,      0.9192,     0.91928,     0.91935,     0.91942,      0.9195,     0.91957,     0.91965,     0.91972,      0.9198,     0.91987,\n",
      "            0.91995,     0.92002,      0.9201,     0.92017,     0.92025,     0.92032,     0.92039,     0.92047,     0.92054,     0.92062,     0.92069,     0.92077,     0.92084,     0.92092,     0.92099,     0.92106,     0.92114,     0.92121,     0.92129,     0.92136,     0.92143,      0.9215,     0.92158,\n",
      "            0.92165,     0.92172,     0.92179,     0.92186,     0.92194,     0.92201,     0.92208,     0.92215,     0.92222,      0.9223,     0.92237,     0.92244,     0.92251,     0.92258,     0.92265,     0.92273,      0.9228,     0.92287,     0.92294,     0.92301,     0.92309,     0.92316,     0.92323,\n",
      "             0.9233,     0.92337,     0.92344,     0.92352,     0.92359,     0.92366,     0.92373,      0.9238,     0.92387,     0.92395,     0.92402,     0.92409,     0.92416,     0.92423,      0.9243,     0.92437,     0.92445,     0.92452,     0.92459,     0.92466,     0.92473,      0.9248,     0.92488,\n",
      "            0.92495,     0.92502,     0.92509,     0.92516,     0.92523,      0.9253,     0.92538,     0.92545,     0.92552,     0.92559,     0.92566,     0.92573,      0.9258,     0.92588,     0.92595,     0.92602,     0.92609,     0.92616,     0.92623,      0.9263,     0.92637,     0.92645,     0.92652,\n",
      "            0.92659,     0.92666,     0.92673,      0.9268,     0.92687,     0.92694,     0.92701,     0.92709,     0.92716,     0.92723,      0.9273,     0.92737,     0.92744,     0.92751,     0.92758,     0.92765,     0.92773,      0.9278,     0.92787,     0.92794,     0.92801,     0.92808,     0.92815,\n",
      "            0.92822,     0.92829,     0.92837,     0.92844,     0.92851,     0.92858,     0.92865,     0.92872,     0.92879,     0.92886,     0.92893,       0.929,     0.92907,     0.92915,     0.92922,     0.92929,     0.92936,     0.92943,      0.9295,     0.92957,     0.92964,     0.92971,     0.92978,\n",
      "            0.92985,     0.92992,     0.92999,     0.93007,     0.93014,     0.93021,     0.93028,     0.93035,     0.93042,     0.93049,     0.93056,     0.93063,      0.9307,     0.93077,     0.93084,     0.93091,     0.93098,     0.93105,     0.93112,      0.9312,     0.93127,     0.93134,     0.93141,\n",
      "            0.93148,     0.93155,     0.93162,     0.93169,     0.93176,     0.93185,     0.93204,     0.93224,     0.93243,     0.93262,     0.93282,     0.93301,      0.9332,      0.9334,     0.93359,     0.93378,     0.93397,     0.93417,     0.93436,     0.93455,     0.93474,     0.93494,     0.93513,\n",
      "            0.93532,     0.93551,     0.93571,      0.9359,     0.93609,     0.93628,     0.93647,     0.93666,     0.93686,     0.93705,     0.93724,     0.93743,     0.93762,     0.93781,       0.938,     0.93819,     0.93839,     0.93858,     0.93877,     0.93896,     0.93915,     0.93934,     0.93953,\n",
      "            0.93972,     0.93991,      0.9401,     0.94029,     0.94048,     0.94067,     0.94086,     0.94105,     0.94124,     0.94143,     0.94162,     0.94181,       0.942,     0.94219,     0.94238,      0.9425,     0.94234,     0.94218,     0.94202,     0.94186,      0.9417,     0.94154,     0.94138,\n",
      "            0.94122,     0.94106,      0.9409,     0.94074,     0.94058,     0.94041,     0.94025,     0.94009,     0.93993,     0.93977,     0.93961,     0.93945,     0.93929,     0.93913,     0.93897,     0.93881,     0.93865,     0.93849,     0.93833,     0.93816,       0.938,     0.93784,     0.93768,\n",
      "            0.93752,     0.93736,      0.9372,     0.93704,     0.93688,     0.93671,     0.93655,     0.93639,     0.93623,     0.93607,     0.93591,     0.93574,     0.93558,     0.93542,     0.93526,      0.9351,     0.93494,     0.93477,     0.93461,     0.93445,     0.93429,     0.93413,     0.93396,\n",
      "             0.9338,     0.93364,     0.93348,     0.93332,     0.93315,     0.93299,     0.93283,     0.93267,      0.9325,     0.93234,     0.93218,     0.93202,     0.93185,     0.93169,     0.93153,     0.93136,      0.9312,     0.93104,     0.93088,     0.93071,     0.93055,     0.93039,     0.93021,\n",
      "             0.9297,     0.92919,     0.92869,     0.92818,     0.92767,     0.92716,     0.92665,     0.92614,     0.92563,     0.92512,     0.92461,      0.9241,     0.92359,     0.92308,     0.92257,     0.92205,     0.92154,     0.92103,     0.92051,        0.92,     0.91948,     0.91897,     0.91845,\n",
      "            0.91793,     0.91744,     0.91697,      0.9165,     0.91603,     0.91556,     0.91509,     0.91462,     0.91415,     0.91368,     0.91321,     0.91274,     0.91227,     0.91179,     0.91132,     0.91085,     0.91038,      0.9099,     0.90943,     0.90895,     0.90848,       0.908,     0.90753,\n",
      "            0.90705,     0.90658,      0.9061,     0.90562,     0.90514,     0.90466,     0.90412,     0.90359,     0.90306,     0.90253,     0.90199,     0.90146,     0.90092,     0.90039,     0.89985,     0.89932,     0.89878,     0.89825,     0.89771,     0.89717,     0.89663,     0.89609,     0.89556,\n",
      "            0.89502,     0.89448,     0.89394,      0.8934,     0.89285,     0.89231,     0.89177,      0.8912,     0.89061,     0.89002,     0.88943,     0.88884,     0.88824,     0.88765,     0.88706,     0.88647,     0.88587,     0.88528,     0.88468,     0.88409,     0.88349,     0.88289,     0.88229,\n",
      "             0.8817,      0.8811,      0.8805,      0.8799,      0.8793,      0.8787,      0.8781,     0.87685,     0.87555,     0.87425,     0.87294,     0.87163,     0.87032,     0.86901,     0.86769,     0.86637,     0.86505,     0.86388,     0.86298,     0.86208,     0.86118,     0.86027,     0.85937,\n",
      "            0.85846,     0.85756,     0.85665,     0.85574,     0.85483,     0.85392,     0.85301,     0.85209,     0.85118,     0.85026,     0.84725,     0.84338,     0.83949,     0.83558,     0.83275,     0.82995,     0.82713,     0.82431,     0.82147,      0.8182,      0.8147,     0.81118,     0.80764,\n",
      "            0.80489,      0.8039,     0.80291,     0.80191,     0.80092,     0.79992,     0.79893,     0.79793,     0.79693,     0.79593,     0.79492,     0.79392,     0.79291,     0.79191,      0.7909,     0.78989,     0.79159,     0.79514,     0.79865,      0.7909,      0.7801,     0.77305,     0.76698,\n",
      "            0.76609,      0.7652,     0.76431,     0.76342,     0.76253,     0.76163,     0.76074,     0.75984,     0.75895,     0.75805,     0.75715,     0.75625,     0.75535,     0.75444,     0.75354,     0.75264,     0.75173,     0.75082,     0.74989,      0.7487,     0.74752,     0.74633,     0.74514,\n",
      "            0.74395,     0.74275,     0.74156,     0.74036,     0.73916,     0.73796,     0.73675,     0.73554,     0.73434,     0.73313,     0.73041,     0.72538,     0.72032,     0.71523,     0.69886,     0.69441,     0.69291,     0.69141,     0.68991,      0.6884,      0.6869,     0.68539,     0.68387,\n",
      "            0.68235,     0.68083,     0.67931,     0.67778,     0.67606,     0.67318,     0.67028,     0.66738,     0.66447,     0.66154,      0.6586,     0.65574,     0.65301,     0.65028,     0.64753,     0.64477,     0.64201,     0.63923,     0.63645,     0.63348,      0.6305,     0.62751,      0.6245,\n",
      "            0.62148,     0.61846,     0.61542,     0.56962,     0.56653,     0.56343,     0.56032,     0.55719,     0.55406,     0.55091,     0.54875,     0.55056,     0.55235,     0.55411,     0.55584,     0.55613,     0.54333,      0.5314,     0.52298,     0.51448,     0.50769,     0.50507,     0.50244,\n",
      "            0.49981,     0.49716,     0.49451,     0.49185,     0.48918,      0.4865,     0.48381,     0.46916,     0.40571,     0.39139,     0.37693,     0.36552,     0.35394,      0.3428,     0.33269,     0.32246,     0.29455,     0.27077,     0.26021,     0.24952,     0.23428,     0.21537,      0.1942,\n",
      "            0.17142,     0.14681,     0.11846,     0.08819,    0.083599,    0.078985,    0.074349,    0.069691,     0.06501,    0.060307,     0.05558,     0.05083,    0.046057,           0,           0,           0,           0,           0,           0,           0,           0,           0,           0,\n",
      "                  0,           0,           0,           0,           0,           0,           0,           0,           0,           0,           0]]), 'Confidence', 'F1'], [array([          0,    0.001001,    0.002002,    0.003003,    0.004004,    0.005005,    0.006006,    0.007007,    0.008008,    0.009009,     0.01001,    0.011011,    0.012012,    0.013013,    0.014014,    0.015015,    0.016016,    0.017017,    0.018018,    0.019019,     0.02002,    0.021021,    0.022022,    0.023023,\n",
      "          0.024024,    0.025025,    0.026026,    0.027027,    0.028028,    0.029029,     0.03003,    0.031031,    0.032032,    0.033033,    0.034034,    0.035035,    0.036036,    0.037037,    0.038038,    0.039039,     0.04004,    0.041041,    0.042042,    0.043043,    0.044044,    0.045045,    0.046046,    0.047047,\n",
      "          0.048048,    0.049049,     0.05005,    0.051051,    0.052052,    0.053053,    0.054054,    0.055055,    0.056056,    0.057057,    0.058058,    0.059059,     0.06006,    0.061061,    0.062062,    0.063063,    0.064064,    0.065065,    0.066066,    0.067067,    0.068068,    0.069069,     0.07007,    0.071071,\n",
      "          0.072072,    0.073073,    0.074074,    0.075075,    0.076076,    0.077077,    0.078078,    0.079079,     0.08008,    0.081081,    0.082082,    0.083083,    0.084084,    0.085085,    0.086086,    0.087087,    0.088088,    0.089089,     0.09009,    0.091091,    0.092092,    0.093093,    0.094094,    0.095095,\n",
      "          0.096096,    0.097097,    0.098098,    0.099099,      0.1001,      0.1011,      0.1021,      0.1031,      0.1041,     0.10511,     0.10611,     0.10711,     0.10811,     0.10911,     0.11011,     0.11111,     0.11211,     0.11311,     0.11411,     0.11512,     0.11612,     0.11712,     0.11812,     0.11912,\n",
      "           0.12012,     0.12112,     0.12212,     0.12312,     0.12412,     0.12513,     0.12613,     0.12713,     0.12813,     0.12913,     0.13013,     0.13113,     0.13213,     0.13313,     0.13413,     0.13514,     0.13614,     0.13714,     0.13814,     0.13914,     0.14014,     0.14114,     0.14214,     0.14314,\n",
      "           0.14414,     0.14515,     0.14615,     0.14715,     0.14815,     0.14915,     0.15015,     0.15115,     0.15215,     0.15315,     0.15415,     0.15516,     0.15616,     0.15716,     0.15816,     0.15916,     0.16016,     0.16116,     0.16216,     0.16316,     0.16416,     0.16517,     0.16617,     0.16717,\n",
      "           0.16817,     0.16917,     0.17017,     0.17117,     0.17217,     0.17317,     0.17417,     0.17518,     0.17618,     0.17718,     0.17818,     0.17918,     0.18018,     0.18118,     0.18218,     0.18318,     0.18418,     0.18519,     0.18619,     0.18719,     0.18819,     0.18919,     0.19019,     0.19119,\n",
      "           0.19219,     0.19319,     0.19419,      0.1952,      0.1962,      0.1972,      0.1982,      0.1992,      0.2002,      0.2012,      0.2022,      0.2032,      0.2042,     0.20521,     0.20621,     0.20721,     0.20821,     0.20921,     0.21021,     0.21121,     0.21221,     0.21321,     0.21421,     0.21522,\n",
      "           0.21622,     0.21722,     0.21822,     0.21922,     0.22022,     0.22122,     0.22222,     0.22322,     0.22422,     0.22523,     0.22623,     0.22723,     0.22823,     0.22923,     0.23023,     0.23123,     0.23223,     0.23323,     0.23423,     0.23524,     0.23624,     0.23724,     0.23824,     0.23924,\n",
      "           0.24024,     0.24124,     0.24224,     0.24324,     0.24424,     0.24525,     0.24625,     0.24725,     0.24825,     0.24925,     0.25025,     0.25125,     0.25225,     0.25325,     0.25425,     0.25526,     0.25626,     0.25726,     0.25826,     0.25926,     0.26026,     0.26126,     0.26226,     0.26326,\n",
      "           0.26426,     0.26527,     0.26627,     0.26727,     0.26827,     0.26927,     0.27027,     0.27127,     0.27227,     0.27327,     0.27427,     0.27528,     0.27628,     0.27728,     0.27828,     0.27928,     0.28028,     0.28128,     0.28228,     0.28328,     0.28428,     0.28529,     0.28629,     0.28729,\n",
      "           0.28829,     0.28929,     0.29029,     0.29129,     0.29229,     0.29329,     0.29429,      0.2953,      0.2963,      0.2973,      0.2983,      0.2993,      0.3003,      0.3013,      0.3023,      0.3033,      0.3043,     0.30531,     0.30631,     0.30731,     0.30831,     0.30931,     0.31031,     0.31131,\n",
      "           0.31231,     0.31331,     0.31431,     0.31532,     0.31632,     0.31732,     0.31832,     0.31932,     0.32032,     0.32132,     0.32232,     0.32332,     0.32432,     0.32533,     0.32633,     0.32733,     0.32833,     0.32933,     0.33033,     0.33133,     0.33233,     0.33333,     0.33433,     0.33534,\n",
      "           0.33634,     0.33734,     0.33834,     0.33934,     0.34034,     0.34134,     0.34234,     0.34334,     0.34434,     0.34535,     0.34635,     0.34735,     0.34835,     0.34935,     0.35035,     0.35135,     0.35235,     0.35335,     0.35435,     0.35536,     0.35636,     0.35736,     0.35836,     0.35936,\n",
      "           0.36036,     0.36136,     0.36236,     0.36336,     0.36436,     0.36537,     0.36637,     0.36737,     0.36837,     0.36937,     0.37037,     0.37137,     0.37237,     0.37337,     0.37437,     0.37538,     0.37638,     0.37738,     0.37838,     0.37938,     0.38038,     0.38138,     0.38238,     0.38338,\n",
      "           0.38438,     0.38539,     0.38639,     0.38739,     0.38839,     0.38939,     0.39039,     0.39139,     0.39239,     0.39339,     0.39439,      0.3954,      0.3964,      0.3974,      0.3984,      0.3994,      0.4004,      0.4014,      0.4024,      0.4034,      0.4044,     0.40541,     0.40641,     0.40741,\n",
      "           0.40841,     0.40941,     0.41041,     0.41141,     0.41241,     0.41341,     0.41441,     0.41542,     0.41642,     0.41742,     0.41842,     0.41942,     0.42042,     0.42142,     0.42242,     0.42342,     0.42442,     0.42543,     0.42643,     0.42743,     0.42843,     0.42943,     0.43043,     0.43143,\n",
      "           0.43243,     0.43343,     0.43443,     0.43544,     0.43644,     0.43744,     0.43844,     0.43944,     0.44044,     0.44144,     0.44244,     0.44344,     0.44444,     0.44545,     0.44645,     0.44745,     0.44845,     0.44945,     0.45045,     0.45145,     0.45245,     0.45345,     0.45445,     0.45546,\n",
      "           0.45646,     0.45746,     0.45846,     0.45946,     0.46046,     0.46146,     0.46246,     0.46346,     0.46446,     0.46547,     0.46647,     0.46747,     0.46847,     0.46947,     0.47047,     0.47147,     0.47247,     0.47347,     0.47447,     0.47548,     0.47648,     0.47748,     0.47848,     0.47948,\n",
      "           0.48048,     0.48148,     0.48248,     0.48348,     0.48448,     0.48549,     0.48649,     0.48749,     0.48849,     0.48949,     0.49049,     0.49149,     0.49249,     0.49349,     0.49449,      0.4955,      0.4965,      0.4975,      0.4985,      0.4995,      0.5005,      0.5015,      0.5025,      0.5035,\n",
      "            0.5045,     0.50551,     0.50651,     0.50751,     0.50851,     0.50951,     0.51051,     0.51151,     0.51251,     0.51351,     0.51451,     0.51552,     0.51652,     0.51752,     0.51852,     0.51952,     0.52052,     0.52152,     0.52252,     0.52352,     0.52452,     0.52553,     0.52653,     0.52753,\n",
      "           0.52853,     0.52953,     0.53053,     0.53153,     0.53253,     0.53353,     0.53453,     0.53554,     0.53654,     0.53754,     0.53854,     0.53954,     0.54054,     0.54154,     0.54254,     0.54354,     0.54454,     0.54555,     0.54655,     0.54755,     0.54855,     0.54955,     0.55055,     0.55155,\n",
      "           0.55255,     0.55355,     0.55455,     0.55556,     0.55656,     0.55756,     0.55856,     0.55956,     0.56056,     0.56156,     0.56256,     0.56356,     0.56456,     0.56557,     0.56657,     0.56757,     0.56857,     0.56957,     0.57057,     0.57157,     0.57257,     0.57357,     0.57457,     0.57558,\n",
      "           0.57658,     0.57758,     0.57858,     0.57958,     0.58058,     0.58158,     0.58258,     0.58358,     0.58458,     0.58559,     0.58659,     0.58759,     0.58859,     0.58959,     0.59059,     0.59159,     0.59259,     0.59359,     0.59459,      0.5956,      0.5966,      0.5976,      0.5986,      0.5996,\n",
      "            0.6006,      0.6016,      0.6026,      0.6036,      0.6046,     0.60561,     0.60661,     0.60761,     0.60861,     0.60961,     0.61061,     0.61161,     0.61261,     0.61361,     0.61461,     0.61562,     0.61662,     0.61762,     0.61862,     0.61962,     0.62062,     0.62162,     0.62262,     0.62362,\n",
      "           0.62462,     0.62563,     0.62663,     0.62763,     0.62863,     0.62963,     0.63063,     0.63163,     0.63263,     0.63363,     0.63463,     0.63564,     0.63664,     0.63764,     0.63864,     0.63964,     0.64064,     0.64164,     0.64264,     0.64364,     0.64464,     0.64565,     0.64665,     0.64765,\n",
      "           0.64865,     0.64965,     0.65065,     0.65165,     0.65265,     0.65365,     0.65465,     0.65566,     0.65666,     0.65766,     0.65866,     0.65966,     0.66066,     0.66166,     0.66266,     0.66366,     0.66466,     0.66567,     0.66667,     0.66767,     0.66867,     0.66967,     0.67067,     0.67167,\n",
      "           0.67267,     0.67367,     0.67467,     0.67568,     0.67668,     0.67768,     0.67868,     0.67968,     0.68068,     0.68168,     0.68268,     0.68368,     0.68468,     0.68569,     0.68669,     0.68769,     0.68869,     0.68969,     0.69069,     0.69169,     0.69269,     0.69369,     0.69469,      0.6957,\n",
      "            0.6967,      0.6977,      0.6987,      0.6997,      0.7007,      0.7017,      0.7027,      0.7037,      0.7047,     0.70571,     0.70671,     0.70771,     0.70871,     0.70971,     0.71071,     0.71171,     0.71271,     0.71371,     0.71471,     0.71572,     0.71672,     0.71772,     0.71872,     0.71972,\n",
      "           0.72072,     0.72172,     0.72272,     0.72372,     0.72472,     0.72573,     0.72673,     0.72773,     0.72873,     0.72973,     0.73073,     0.73173,     0.73273,     0.73373,     0.73473,     0.73574,     0.73674,     0.73774,     0.73874,     0.73974,     0.74074,     0.74174,     0.74274,     0.74374,\n",
      "           0.74474,     0.74575,     0.74675,     0.74775,     0.74875,     0.74975,     0.75075,     0.75175,     0.75275,     0.75375,     0.75475,     0.75576,     0.75676,     0.75776,     0.75876,     0.75976,     0.76076,     0.76176,     0.76276,     0.76376,     0.76476,     0.76577,     0.76677,     0.76777,\n",
      "           0.76877,     0.76977,     0.77077,     0.77177,     0.77277,     0.77377,     0.77477,     0.77578,     0.77678,     0.77778,     0.77878,     0.77978,     0.78078,     0.78178,     0.78278,     0.78378,     0.78478,     0.78579,     0.78679,     0.78779,     0.78879,     0.78979,     0.79079,     0.79179,\n",
      "           0.79279,     0.79379,     0.79479,      0.7958,      0.7968,      0.7978,      0.7988,      0.7998,      0.8008,      0.8018,      0.8028,      0.8038,      0.8048,     0.80581,     0.80681,     0.80781,     0.80881,     0.80981,     0.81081,     0.81181,     0.81281,     0.81381,     0.81481,     0.81582,\n",
      "           0.81682,     0.81782,     0.81882,     0.81982,     0.82082,     0.82182,     0.82282,     0.82382,     0.82482,     0.82583,     0.82683,     0.82783,     0.82883,     0.82983,     0.83083,     0.83183,     0.83283,     0.83383,     0.83483,     0.83584,     0.83684,     0.83784,     0.83884,     0.83984,\n",
      "           0.84084,     0.84184,     0.84284,     0.84384,     0.84484,     0.84585,     0.84685,     0.84785,     0.84885,     0.84985,     0.85085,     0.85185,     0.85285,     0.85385,     0.85485,     0.85586,     0.85686,     0.85786,     0.85886,     0.85986,     0.86086,     0.86186,     0.86286,     0.86386,\n",
      "           0.86486,     0.86587,     0.86687,     0.86787,     0.86887,     0.86987,     0.87087,     0.87187,     0.87287,     0.87387,     0.87487,     0.87588,     0.87688,     0.87788,     0.87888,     0.87988,     0.88088,     0.88188,     0.88288,     0.88388,     0.88488,     0.88589,     0.88689,     0.88789,\n",
      "           0.88889,     0.88989,     0.89089,     0.89189,     0.89289,     0.89389,     0.89489,      0.8959,      0.8969,      0.8979,      0.8989,      0.8999,      0.9009,      0.9019,      0.9029,      0.9039,      0.9049,     0.90591,     0.90691,     0.90791,     0.90891,     0.90991,     0.91091,     0.91191,\n",
      "           0.91291,     0.91391,     0.91491,     0.91592,     0.91692,     0.91792,     0.91892,     0.91992,     0.92092,     0.92192,     0.92292,     0.92392,     0.92492,     0.92593,     0.92693,     0.92793,     0.92893,     0.92993,     0.93093,     0.93193,     0.93293,     0.93393,     0.93493,     0.93594,\n",
      "           0.93694,     0.93794,     0.93894,     0.93994,     0.94094,     0.94194,     0.94294,     0.94394,     0.94494,     0.94595,     0.94695,     0.94795,     0.94895,     0.94995,     0.95095,     0.95195,     0.95295,     0.95395,     0.95495,     0.95596,     0.95696,     0.95796,     0.95896,     0.95996,\n",
      "           0.96096,     0.96196,     0.96296,     0.96396,     0.96496,     0.96597,     0.96697,     0.96797,     0.96897,     0.96997,     0.97097,     0.97197,     0.97297,     0.97397,     0.97497,     0.97598,     0.97698,     0.97798,     0.97898,     0.97998,     0.98098,     0.98198,     0.98298,     0.98398,\n",
      "           0.98498,     0.98599,     0.98699,     0.98799,     0.98899,     0.98999,     0.99099,     0.99199,     0.99299,     0.99399,     0.99499,       0.996,       0.997,       0.998,       0.999,           1]), array([[  0.0041414,   0.0041414,   0.0064022,     0.01564,    0.054557,     0.11848,     0.16609,     0.19854,     0.22156,     0.24018,     0.25829,     0.27128,     0.28637,     0.31125,      0.3227,     0.33657,     0.35288,     0.36841,     0.37691,     0.38608,     0.39982,     0.40567,     0.41353,\n",
      "            0.42791,     0.43565,     0.44379,      0.4481,     0.45314,     0.46319,     0.46713,     0.46859,     0.47004,     0.47195,     0.47616,     0.50361,     0.50834,     0.51178,      0.5189,     0.52162,     0.52428,     0.52866,     0.53453,     0.54815,     0.55639,     0.55904,     0.56226,\n",
      "            0.57175,     0.57478,     0.57785,     0.58128,      0.5847,     0.59318,     0.61237,     0.61412,     0.61586,     0.61761,     0.61936,     0.62111,     0.62371,     0.62638,     0.62904,     0.63593,     0.65152,       0.655,     0.65848,     0.66554,     0.67578,     0.68098,     0.68606,\n",
      "            0.69103,     0.69538,     0.69751,     0.69964,     0.70177,      0.7039,     0.70603,     0.70797,     0.70979,     0.71161,     0.71343,     0.71525,     0.71708,      0.7189,     0.72077,     0.72265,     0.72453,     0.72642,      0.7283,     0.73019,     0.73207,     0.74352,     0.74902,\n",
      "            0.75328,     0.75754,     0.76125,     0.76458,      0.7679,     0.77123,     0.77368,       0.774,     0.77433,     0.77465,     0.77497,      0.7753,     0.77562,     0.77594,     0.77627,     0.77659,     0.77692,     0.77724,     0.77756,     0.77789,     0.77821,     0.77853,     0.77886,\n",
      "            0.77918,      0.7795,     0.77983,     0.78015,     0.78047,      0.7808,     0.78112,     0.78144,     0.78177,     0.78209,     0.78242,     0.78274,     0.78306,     0.78339,     0.78371,     0.78403,     0.78436,     0.78468,       0.785,     0.78533,     0.78565,     0.78597,      0.7863,\n",
      "            0.78662,     0.78694,     0.78727,     0.78759,     0.78792,     0.78824,     0.78964,     0.79341,     0.79718,     0.80095,     0.80402,      0.8045,     0.80497,     0.80545,     0.80592,      0.8064,     0.80688,     0.80735,     0.80783,      0.8083,     0.80878,     0.80925,     0.80973,\n",
      "             0.8102,     0.81068,     0.81116,     0.81163,     0.81211,     0.81258,     0.81306,     0.81353,     0.81401,     0.81448,     0.81496,     0.81544,     0.81591,     0.81639,     0.81686,     0.81734,     0.81781,     0.81829,     0.81876,     0.81924,     0.81971,     0.83743,     0.84013,\n",
      "            0.84282,     0.84552,     0.84821,      0.8509,      0.8536,     0.85433,     0.85455,     0.85476,     0.85497,     0.85519,      0.8554,     0.85561,     0.85583,     0.85604,     0.85625,     0.85647,     0.85668,     0.85689,      0.8571,     0.85732,     0.85753,     0.85774,     0.85796,\n",
      "            0.85817,     0.85838,      0.8586,     0.85881,     0.85902,     0.85924,     0.85945,     0.85966,     0.85987,     0.86009,      0.8603,     0.86051,     0.86073,     0.86094,     0.86115,     0.86137,     0.86158,     0.86179,     0.86201,     0.86222,     0.86243,     0.86264,     0.86286,\n",
      "            0.86307,     0.86328,      0.8635,     0.86371,     0.86392,     0.86414,     0.86435,     0.86456,     0.86478,     0.86499,      0.8652,     0.86541,     0.86563,     0.86584,     0.86605,     0.86627,     0.86648,     0.86669,     0.86691,     0.86712,     0.86733,     0.86755,     0.86776,\n",
      "            0.86797,     0.86818,      0.8684,     0.86861,     0.86882,     0.86904,     0.86925,     0.86946,     0.86968,     0.86989,      0.8701,     0.87032,     0.87053,     0.87074,     0.87095,     0.87117,     0.87138,     0.87159,     0.87181,     0.87202,     0.87223,     0.87241,     0.87255,\n",
      "            0.87269,     0.87283,     0.87297,      0.8731,     0.87324,     0.87338,     0.87352,     0.87366,      0.8738,     0.87394,     0.87408,     0.87422,     0.87436,      0.8745,     0.87464,     0.87477,     0.87491,     0.87505,     0.87519,     0.87533,     0.87547,     0.87561,     0.87575,\n",
      "            0.87589,     0.87603,     0.87617,      0.8763,     0.87644,     0.87658,     0.87672,     0.87686,       0.877,     0.87714,     0.87728,     0.87742,     0.87756,      0.8777,     0.87783,     0.87797,     0.87811,     0.87825,     0.87839,     0.87853,     0.87867,     0.87881,     0.87895,\n",
      "            0.87909,     0.87923,     0.87936,      0.8795,     0.87964,     0.87978,     0.87992,     0.88006,      0.8802,     0.88034,     0.88048,     0.88062,     0.88076,      0.8809,     0.88103,     0.88117,     0.88131,     0.88145,     0.88159,     0.88173,     0.88187,     0.88201,     0.88215,\n",
      "            0.88229,     0.88243,     0.88256,      0.8827,     0.88284,     0.88298,     0.88312,     0.88326,      0.8834,     0.88354,     0.88368,     0.88382,     0.88396,     0.88409,     0.88423,     0.88437,     0.88451,     0.88465,     0.88479,     0.88493,     0.88507,     0.88521,     0.88535,\n",
      "            0.88549,     0.88562,     0.88576,      0.8859,     0.88604,     0.88618,     0.88632,     0.88646,      0.8866,     0.88674,     0.88688,     0.88702,     0.88716,     0.88729,     0.88743,     0.88757,     0.88771,     0.88785,     0.88799,     0.88813,     0.88827,     0.88841,     0.88855,\n",
      "            0.88869,     0.88882,     0.88896,      0.8891,     0.88924,     0.88938,     0.88952,     0.88966,      0.8898,     0.88994,     0.89008,     0.89022,     0.89035,     0.89049,     0.89063,     0.89077,     0.89091,     0.89105,     0.89119,     0.89133,     0.89146,      0.8916,     0.89173,\n",
      "            0.89187,       0.892,     0.89214,     0.89227,     0.89241,     0.89254,     0.89267,     0.89281,     0.89294,     0.89308,     0.89321,     0.89335,     0.89348,     0.89362,     0.89375,     0.89389,     0.89402,     0.89416,     0.89429,     0.89443,     0.89456,      0.8947,     0.89483,\n",
      "            0.89497,      0.8951,     0.89523,     0.89537,      0.8955,     0.89564,     0.89577,     0.89591,     0.89604,     0.89618,     0.89631,     0.89645,     0.89658,     0.89672,     0.89685,     0.89699,     0.89712,     0.89726,     0.89739,     0.89753,     0.89766,     0.89779,     0.89793,\n",
      "            0.89806,      0.8982,     0.89833,     0.89847,      0.8986,     0.89874,     0.89887,     0.89901,     0.89914,     0.89928,     0.89941,     0.89955,     0.89968,     0.89982,     0.89995,     0.90009,     0.90022,     0.90035,     0.90049,     0.90062,     0.90076,     0.90089,     0.90103,\n",
      "            0.90116,      0.9013,     0.90143,     0.90157,      0.9017,     0.90184,     0.90197,     0.90211,     0.90224,     0.90238,     0.90251,     0.90265,     0.90278,     0.90292,     0.90305,     0.90318,     0.90332,     0.90345,     0.90359,     0.90372,     0.90386,     0.90399,     0.90413,\n",
      "            0.90426,      0.9044,     0.90453,     0.90467,      0.9048,     0.90494,     0.90507,     0.90521,     0.90534,     0.90548,     0.90561,     0.90574,     0.90588,     0.90601,     0.90615,     0.90628,     0.90642,     0.90655,     0.90669,     0.90682,     0.90696,     0.90709,     0.90723,\n",
      "            0.90736,      0.9075,     0.90763,     0.90777,      0.9079,     0.90804,     0.90817,      0.9083,     0.90844,     0.90857,     0.90871,     0.90884,     0.90898,     0.90911,     0.90925,     0.90938,     0.90952,     0.90965,     0.90979,     0.90992,     0.91006,     0.91019,     0.91033,\n",
      "            0.91046,      0.9106,     0.91073,     0.91086,       0.911,     0.91117,     0.91154,     0.91191,     0.91228,     0.91265,     0.91302,     0.91339,     0.91376,     0.91413,      0.9145,     0.91487,     0.91524,     0.91561,     0.91598,     0.91635,     0.91672,     0.91709,     0.91746,\n",
      "            0.91783,      0.9182,     0.91857,     0.91894,     0.91931,     0.91968,     0.92005,     0.92042,     0.92079,     0.92116,     0.92153,      0.9219,     0.92227,     0.92264,     0.92301,     0.92338,     0.92375,     0.92412,     0.92449,     0.92486,     0.92523,      0.9256,     0.92597,\n",
      "            0.92634,     0.92671,     0.92708,     0.92745,     0.92782,     0.92819,     0.92856,     0.92893,      0.9293,     0.92967,     0.93004,     0.93041,     0.93078,     0.93115,     0.93152,     0.93181,     0.93179,     0.93177,     0.93175,     0.93173,     0.93171,     0.93169,     0.93167,\n",
      "            0.93165,     0.93163,     0.93161,     0.93158,     0.93156,     0.93154,     0.93152,      0.9315,     0.93148,     0.93146,     0.93144,     0.93142,      0.9314,     0.93138,     0.93136,     0.93134,     0.93131,     0.93129,     0.93127,     0.93125,     0.93123,     0.93121,     0.93119,\n",
      "            0.93117,     0.93115,     0.93113,     0.93111,     0.93109,     0.93106,     0.93104,     0.93102,       0.931,     0.93098,     0.93096,     0.93094,     0.93092,      0.9309,     0.93088,     0.93086,     0.93084,     0.93081,     0.93079,     0.93077,     0.93075,     0.93073,     0.93071,\n",
      "            0.93069,     0.93067,     0.93065,     0.93063,     0.93061,     0.93059,     0.93056,     0.93054,     0.93052,      0.9305,     0.93048,     0.93046,     0.93044,     0.93042,      0.9304,     0.93038,     0.93036,     0.93034,     0.93031,     0.93029,     0.93027,     0.93025,     0.93023,\n",
      "            0.93016,     0.93009,     0.93003,     0.92996,     0.92989,     0.92982,     0.92976,     0.92969,     0.92962,     0.92955,     0.92949,     0.92942,     0.92935,     0.92928,     0.92922,     0.92915,     0.92908,     0.92901,     0.92895,     0.92888,     0.92881,     0.92874,     0.92868,\n",
      "            0.92861,     0.92854,     0.92848,     0.92842,     0.92835,     0.92829,     0.92822,     0.92816,      0.9281,     0.92803,     0.92797,      0.9279,     0.92784,     0.92778,     0.92771,     0.92765,     0.92758,     0.92752,     0.92746,     0.92739,     0.92733,     0.92726,      0.9272,\n",
      "            0.92714,     0.92707,     0.92701,     0.92694,     0.92688,     0.92681,     0.92674,     0.92667,     0.92659,     0.92652,     0.92644,     0.92637,     0.92629,     0.92622,     0.92614,     0.92607,       0.926,     0.92592,     0.92585,     0.92577,      0.9257,     0.92562,     0.92555,\n",
      "            0.92547,      0.9254,     0.92533,     0.92525,     0.92518,      0.9251,     0.92503,     0.92495,     0.92486,     0.92478,     0.92469,     0.92461,     0.92452,     0.92444,     0.92435,     0.92427,     0.92418,      0.9241,     0.92402,     0.92393,     0.92385,     0.92376,     0.92368,\n",
      "            0.92359,     0.92351,     0.92342,     0.92334,     0.92325,     0.92317,     0.92308,      0.9229,     0.92271,     0.92252,     0.92233,     0.92213,     0.92194,     0.92175,     0.92156,     0.92137,     0.92118,       0.921,     0.92087,     0.92073,     0.92059,     0.92046,     0.92032,\n",
      "            0.92019,     0.92005,     0.91991,     0.91978,     0.91964,      0.9195,     0.91937,     0.91923,     0.91909,     0.91896,     0.91849,     0.91789,     0.91729,     0.91669,     0.91623,     0.91578,     0.91534,     0.91489,     0.91444,      0.9139,     0.91332,     0.91274,     0.91216,\n",
      "            0.91171,     0.91154,     0.91137,      0.9112,     0.91103,     0.91086,     0.91069,     0.91052,     0.91035,     0.91018,     0.91001,     0.90984,     0.90967,      0.9095,     0.90933,     0.90916,     0.91471,     0.92426,     0.93381,     0.93636,       0.935,     0.93409,     0.93331,\n",
      "            0.93319,     0.93307,     0.93295,     0.93283,     0.93271,     0.93259,     0.93247,     0.93235,     0.93223,     0.93211,     0.93199,     0.93187,     0.93175,     0.93163,     0.93151,     0.93138,     0.93126,     0.93114,     0.93102,     0.93085,     0.93068,     0.93052,     0.93035,\n",
      "            0.93018,     0.93001,     0.92985,     0.92968,     0.92951,     0.92934,     0.92918,     0.92901,     0.92884,     0.92867,     0.92828,     0.92754,      0.9268,     0.92606,     0.92356,     0.92288,     0.92263,     0.92239,     0.92215,     0.92191,     0.92166,     0.92142,     0.92118,\n",
      "            0.92094,     0.92069,     0.92045,     0.92021,     0.91993,     0.91944,     0.91895,     0.91846,     0.91796,     0.91747,     0.91698,     0.91649,       0.916,     0.91551,     0.91502,     0.91453,     0.91404,     0.91355,     0.91306,     0.91249,     0.91193,     0.91136,      0.9108,\n",
      "            0.91023,     0.90966,      0.9091,     0.89958,     0.89887,     0.89816,     0.89744,     0.89673,     0.89602,     0.89531,     0.89669,     0.90643,     0.91618,     0.92592,     0.93566,     0.94427,     0.94252,     0.94089,     0.93963,     0.93838,     0.93737,     0.93694,     0.93651,\n",
      "            0.93608,     0.93565,     0.93522,     0.93479,     0.93436,     0.93393,      0.9335,           1,           1,           1,           1,           1,           1,           1,           1,           1,           1,           1,           1,           1,           1,           1,           1,\n",
      "                  1,           1,           1,           1,           1,           1,           1,           1,           1,           1,           1,           1,           1,           1,           1,           1,           1,           1,           1,           1,           1,           1,           1,\n",
      "                  1,           1,           1,           1,           1,           1,           1,           1,           1,           1,           1]]), 'Confidence', 'Precision'], [array([          0,    0.001001,    0.002002,    0.003003,    0.004004,    0.005005,    0.006006,    0.007007,    0.008008,    0.009009,     0.01001,    0.011011,    0.012012,    0.013013,    0.014014,    0.015015,    0.016016,    0.017017,    0.018018,    0.019019,     0.02002,    0.021021,    0.022022,    0.023023,\n",
      "          0.024024,    0.025025,    0.026026,    0.027027,    0.028028,    0.029029,     0.03003,    0.031031,    0.032032,    0.033033,    0.034034,    0.035035,    0.036036,    0.037037,    0.038038,    0.039039,     0.04004,    0.041041,    0.042042,    0.043043,    0.044044,    0.045045,    0.046046,    0.047047,\n",
      "          0.048048,    0.049049,     0.05005,    0.051051,    0.052052,    0.053053,    0.054054,    0.055055,    0.056056,    0.057057,    0.058058,    0.059059,     0.06006,    0.061061,    0.062062,    0.063063,    0.064064,    0.065065,    0.066066,    0.067067,    0.068068,    0.069069,     0.07007,    0.071071,\n",
      "          0.072072,    0.073073,    0.074074,    0.075075,    0.076076,    0.077077,    0.078078,    0.079079,     0.08008,    0.081081,    0.082082,    0.083083,    0.084084,    0.085085,    0.086086,    0.087087,    0.088088,    0.089089,     0.09009,    0.091091,    0.092092,    0.093093,    0.094094,    0.095095,\n",
      "          0.096096,    0.097097,    0.098098,    0.099099,      0.1001,      0.1011,      0.1021,      0.1031,      0.1041,     0.10511,     0.10611,     0.10711,     0.10811,     0.10911,     0.11011,     0.11111,     0.11211,     0.11311,     0.11411,     0.11512,     0.11612,     0.11712,     0.11812,     0.11912,\n",
      "           0.12012,     0.12112,     0.12212,     0.12312,     0.12412,     0.12513,     0.12613,     0.12713,     0.12813,     0.12913,     0.13013,     0.13113,     0.13213,     0.13313,     0.13413,     0.13514,     0.13614,     0.13714,     0.13814,     0.13914,     0.14014,     0.14114,     0.14214,     0.14314,\n",
      "           0.14414,     0.14515,     0.14615,     0.14715,     0.14815,     0.14915,     0.15015,     0.15115,     0.15215,     0.15315,     0.15415,     0.15516,     0.15616,     0.15716,     0.15816,     0.15916,     0.16016,     0.16116,     0.16216,     0.16316,     0.16416,     0.16517,     0.16617,     0.16717,\n",
      "           0.16817,     0.16917,     0.17017,     0.17117,     0.17217,     0.17317,     0.17417,     0.17518,     0.17618,     0.17718,     0.17818,     0.17918,     0.18018,     0.18118,     0.18218,     0.18318,     0.18418,     0.18519,     0.18619,     0.18719,     0.18819,     0.18919,     0.19019,     0.19119,\n",
      "           0.19219,     0.19319,     0.19419,      0.1952,      0.1962,      0.1972,      0.1982,      0.1992,      0.2002,      0.2012,      0.2022,      0.2032,      0.2042,     0.20521,     0.20621,     0.20721,     0.20821,     0.20921,     0.21021,     0.21121,     0.21221,     0.21321,     0.21421,     0.21522,\n",
      "           0.21622,     0.21722,     0.21822,     0.21922,     0.22022,     0.22122,     0.22222,     0.22322,     0.22422,     0.22523,     0.22623,     0.22723,     0.22823,     0.22923,     0.23023,     0.23123,     0.23223,     0.23323,     0.23423,     0.23524,     0.23624,     0.23724,     0.23824,     0.23924,\n",
      "           0.24024,     0.24124,     0.24224,     0.24324,     0.24424,     0.24525,     0.24625,     0.24725,     0.24825,     0.24925,     0.25025,     0.25125,     0.25225,     0.25325,     0.25425,     0.25526,     0.25626,     0.25726,     0.25826,     0.25926,     0.26026,     0.26126,     0.26226,     0.26326,\n",
      "           0.26426,     0.26527,     0.26627,     0.26727,     0.26827,     0.26927,     0.27027,     0.27127,     0.27227,     0.27327,     0.27427,     0.27528,     0.27628,     0.27728,     0.27828,     0.27928,     0.28028,     0.28128,     0.28228,     0.28328,     0.28428,     0.28529,     0.28629,     0.28729,\n",
      "           0.28829,     0.28929,     0.29029,     0.29129,     0.29229,     0.29329,     0.29429,      0.2953,      0.2963,      0.2973,      0.2983,      0.2993,      0.3003,      0.3013,      0.3023,      0.3033,      0.3043,     0.30531,     0.30631,     0.30731,     0.30831,     0.30931,     0.31031,     0.31131,\n",
      "           0.31231,     0.31331,     0.31431,     0.31532,     0.31632,     0.31732,     0.31832,     0.31932,     0.32032,     0.32132,     0.32232,     0.32332,     0.32432,     0.32533,     0.32633,     0.32733,     0.32833,     0.32933,     0.33033,     0.33133,     0.33233,     0.33333,     0.33433,     0.33534,\n",
      "           0.33634,     0.33734,     0.33834,     0.33934,     0.34034,     0.34134,     0.34234,     0.34334,     0.34434,     0.34535,     0.34635,     0.34735,     0.34835,     0.34935,     0.35035,     0.35135,     0.35235,     0.35335,     0.35435,     0.35536,     0.35636,     0.35736,     0.35836,     0.35936,\n",
      "           0.36036,     0.36136,     0.36236,     0.36336,     0.36436,     0.36537,     0.36637,     0.36737,     0.36837,     0.36937,     0.37037,     0.37137,     0.37237,     0.37337,     0.37437,     0.37538,     0.37638,     0.37738,     0.37838,     0.37938,     0.38038,     0.38138,     0.38238,     0.38338,\n",
      "           0.38438,     0.38539,     0.38639,     0.38739,     0.38839,     0.38939,     0.39039,     0.39139,     0.39239,     0.39339,     0.39439,      0.3954,      0.3964,      0.3974,      0.3984,      0.3994,      0.4004,      0.4014,      0.4024,      0.4034,      0.4044,     0.40541,     0.40641,     0.40741,\n",
      "           0.40841,     0.40941,     0.41041,     0.41141,     0.41241,     0.41341,     0.41441,     0.41542,     0.41642,     0.41742,     0.41842,     0.41942,     0.42042,     0.42142,     0.42242,     0.42342,     0.42442,     0.42543,     0.42643,     0.42743,     0.42843,     0.42943,     0.43043,     0.43143,\n",
      "           0.43243,     0.43343,     0.43443,     0.43544,     0.43644,     0.43744,     0.43844,     0.43944,     0.44044,     0.44144,     0.44244,     0.44344,     0.44444,     0.44545,     0.44645,     0.44745,     0.44845,     0.44945,     0.45045,     0.45145,     0.45245,     0.45345,     0.45445,     0.45546,\n",
      "           0.45646,     0.45746,     0.45846,     0.45946,     0.46046,     0.46146,     0.46246,     0.46346,     0.46446,     0.46547,     0.46647,     0.46747,     0.46847,     0.46947,     0.47047,     0.47147,     0.47247,     0.47347,     0.47447,     0.47548,     0.47648,     0.47748,     0.47848,     0.47948,\n",
      "           0.48048,     0.48148,     0.48248,     0.48348,     0.48448,     0.48549,     0.48649,     0.48749,     0.48849,     0.48949,     0.49049,     0.49149,     0.49249,     0.49349,     0.49449,      0.4955,      0.4965,      0.4975,      0.4985,      0.4995,      0.5005,      0.5015,      0.5025,      0.5035,\n",
      "            0.5045,     0.50551,     0.50651,     0.50751,     0.50851,     0.50951,     0.51051,     0.51151,     0.51251,     0.51351,     0.51451,     0.51552,     0.51652,     0.51752,     0.51852,     0.51952,     0.52052,     0.52152,     0.52252,     0.52352,     0.52452,     0.52553,     0.52653,     0.52753,\n",
      "           0.52853,     0.52953,     0.53053,     0.53153,     0.53253,     0.53353,     0.53453,     0.53554,     0.53654,     0.53754,     0.53854,     0.53954,     0.54054,     0.54154,     0.54254,     0.54354,     0.54454,     0.54555,     0.54655,     0.54755,     0.54855,     0.54955,     0.55055,     0.55155,\n",
      "           0.55255,     0.55355,     0.55455,     0.55556,     0.55656,     0.55756,     0.55856,     0.55956,     0.56056,     0.56156,     0.56256,     0.56356,     0.56456,     0.56557,     0.56657,     0.56757,     0.56857,     0.56957,     0.57057,     0.57157,     0.57257,     0.57357,     0.57457,     0.57558,\n",
      "           0.57658,     0.57758,     0.57858,     0.57958,     0.58058,     0.58158,     0.58258,     0.58358,     0.58458,     0.58559,     0.58659,     0.58759,     0.58859,     0.58959,     0.59059,     0.59159,     0.59259,     0.59359,     0.59459,      0.5956,      0.5966,      0.5976,      0.5986,      0.5996,\n",
      "            0.6006,      0.6016,      0.6026,      0.6036,      0.6046,     0.60561,     0.60661,     0.60761,     0.60861,     0.60961,     0.61061,     0.61161,     0.61261,     0.61361,     0.61461,     0.61562,     0.61662,     0.61762,     0.61862,     0.61962,     0.62062,     0.62162,     0.62262,     0.62362,\n",
      "           0.62462,     0.62563,     0.62663,     0.62763,     0.62863,     0.62963,     0.63063,     0.63163,     0.63263,     0.63363,     0.63463,     0.63564,     0.63664,     0.63764,     0.63864,     0.63964,     0.64064,     0.64164,     0.64264,     0.64364,     0.64464,     0.64565,     0.64665,     0.64765,\n",
      "           0.64865,     0.64965,     0.65065,     0.65165,     0.65265,     0.65365,     0.65465,     0.65566,     0.65666,     0.65766,     0.65866,     0.65966,     0.66066,     0.66166,     0.66266,     0.66366,     0.66466,     0.66567,     0.66667,     0.66767,     0.66867,     0.66967,     0.67067,     0.67167,\n",
      "           0.67267,     0.67367,     0.67467,     0.67568,     0.67668,     0.67768,     0.67868,     0.67968,     0.68068,     0.68168,     0.68268,     0.68368,     0.68468,     0.68569,     0.68669,     0.68769,     0.68869,     0.68969,     0.69069,     0.69169,     0.69269,     0.69369,     0.69469,      0.6957,\n",
      "            0.6967,      0.6977,      0.6987,      0.6997,      0.7007,      0.7017,      0.7027,      0.7037,      0.7047,     0.70571,     0.70671,     0.70771,     0.70871,     0.70971,     0.71071,     0.71171,     0.71271,     0.71371,     0.71471,     0.71572,     0.71672,     0.71772,     0.71872,     0.71972,\n",
      "           0.72072,     0.72172,     0.72272,     0.72372,     0.72472,     0.72573,     0.72673,     0.72773,     0.72873,     0.72973,     0.73073,     0.73173,     0.73273,     0.73373,     0.73473,     0.73574,     0.73674,     0.73774,     0.73874,     0.73974,     0.74074,     0.74174,     0.74274,     0.74374,\n",
      "           0.74474,     0.74575,     0.74675,     0.74775,     0.74875,     0.74975,     0.75075,     0.75175,     0.75275,     0.75375,     0.75475,     0.75576,     0.75676,     0.75776,     0.75876,     0.75976,     0.76076,     0.76176,     0.76276,     0.76376,     0.76476,     0.76577,     0.76677,     0.76777,\n",
      "           0.76877,     0.76977,     0.77077,     0.77177,     0.77277,     0.77377,     0.77477,     0.77578,     0.77678,     0.77778,     0.77878,     0.77978,     0.78078,     0.78178,     0.78278,     0.78378,     0.78478,     0.78579,     0.78679,     0.78779,     0.78879,     0.78979,     0.79079,     0.79179,\n",
      "           0.79279,     0.79379,     0.79479,      0.7958,      0.7968,      0.7978,      0.7988,      0.7998,      0.8008,      0.8018,      0.8028,      0.8038,      0.8048,     0.80581,     0.80681,     0.80781,     0.80881,     0.80981,     0.81081,     0.81181,     0.81281,     0.81381,     0.81481,     0.81582,\n",
      "           0.81682,     0.81782,     0.81882,     0.81982,     0.82082,     0.82182,     0.82282,     0.82382,     0.82482,     0.82583,     0.82683,     0.82783,     0.82883,     0.82983,     0.83083,     0.83183,     0.83283,     0.83383,     0.83483,     0.83584,     0.83684,     0.83784,     0.83884,     0.83984,\n",
      "           0.84084,     0.84184,     0.84284,     0.84384,     0.84484,     0.84585,     0.84685,     0.84785,     0.84885,     0.84985,     0.85085,     0.85185,     0.85285,     0.85385,     0.85485,     0.85586,     0.85686,     0.85786,     0.85886,     0.85986,     0.86086,     0.86186,     0.86286,     0.86386,\n",
      "           0.86486,     0.86587,     0.86687,     0.86787,     0.86887,     0.86987,     0.87087,     0.87187,     0.87287,     0.87387,     0.87487,     0.87588,     0.87688,     0.87788,     0.87888,     0.87988,     0.88088,     0.88188,     0.88288,     0.88388,     0.88488,     0.88589,     0.88689,     0.88789,\n",
      "           0.88889,     0.88989,     0.89089,     0.89189,     0.89289,     0.89389,     0.89489,      0.8959,      0.8969,      0.8979,      0.8989,      0.8999,      0.9009,      0.9019,      0.9029,      0.9039,      0.9049,     0.90591,     0.90691,     0.90791,     0.90891,     0.90991,     0.91091,     0.91191,\n",
      "           0.91291,     0.91391,     0.91491,     0.91592,     0.91692,     0.91792,     0.91892,     0.91992,     0.92092,     0.92192,     0.92292,     0.92392,     0.92492,     0.92593,     0.92693,     0.92793,     0.92893,     0.92993,     0.93093,     0.93193,     0.93293,     0.93393,     0.93493,     0.93594,\n",
      "           0.93694,     0.93794,     0.93894,     0.93994,     0.94094,     0.94194,     0.94294,     0.94394,     0.94494,     0.94595,     0.94695,     0.94795,     0.94895,     0.94995,     0.95095,     0.95195,     0.95295,     0.95395,     0.95495,     0.95596,     0.95696,     0.95796,     0.95896,     0.95996,\n",
      "           0.96096,     0.96196,     0.96296,     0.96396,     0.96496,     0.96597,     0.96697,     0.96797,     0.96897,     0.96997,     0.97097,     0.97197,     0.97297,     0.97397,     0.97497,     0.97598,     0.97698,     0.97798,     0.97898,     0.97998,     0.98098,     0.98198,     0.98298,     0.98398,\n",
      "           0.98498,     0.98599,     0.98699,     0.98799,     0.98899,     0.98999,     0.99099,     0.99199,     0.99299,     0.99399,     0.99499,       0.996,       0.997,       0.998,       0.999,           1]), array([[    0.95349,     0.95349,     0.95349,     0.95349,     0.95349,     0.95349,     0.95349,     0.95349,     0.95349,     0.95349,     0.95349,     0.95349,     0.95349,     0.95349,     0.95349,     0.95349,     0.95349,     0.95349,     0.95349,     0.95349,     0.95349,     0.95349,     0.95349,\n",
      "            0.95349,     0.95349,     0.95349,     0.95349,     0.95349,     0.95349,     0.95349,     0.95349,     0.95349,     0.95349,     0.95349,     0.95349,     0.95349,     0.95349,     0.95349,     0.95349,     0.95349,     0.95349,     0.95349,     0.95349,     0.95349,     0.95349,     0.95349,\n",
      "            0.95349,     0.95349,     0.95349,     0.95349,     0.95349,     0.95349,     0.95349,     0.95349,     0.95349,     0.95349,     0.95349,     0.95349,     0.95349,     0.95349,     0.95349,     0.95349,     0.95349,     0.95349,     0.95349,     0.95349,     0.95349,     0.95349,     0.95349,\n",
      "            0.95349,     0.95349,     0.95349,     0.95349,     0.95349,     0.95349,     0.95349,     0.95349,     0.95349,     0.95349,     0.95349,     0.95349,     0.95349,     0.95349,     0.95349,     0.95349,     0.95349,     0.95349,     0.95349,     0.95349,     0.95349,     0.95349,     0.95349,\n",
      "            0.95349,     0.95349,     0.95349,     0.95349,     0.95349,     0.95349,     0.95349,     0.95349,     0.95349,     0.95349,     0.95349,     0.95349,     0.95349,     0.95349,     0.95349,     0.95349,     0.95349,     0.95349,     0.95349,     0.95349,     0.95349,     0.95349,     0.95349,\n",
      "            0.95349,     0.95349,     0.95349,     0.95349,     0.95349,     0.95349,     0.95349,     0.95349,     0.95349,     0.95349,     0.95349,     0.95349,     0.95349,     0.95349,     0.95349,     0.95349,     0.95349,     0.95349,     0.95349,     0.95349,     0.95349,     0.95349,     0.95349,\n",
      "            0.95349,     0.95349,     0.95349,     0.95349,     0.95349,     0.95349,     0.95349,     0.95349,     0.95349,     0.95349,     0.95349,     0.95349,     0.95349,     0.95349,     0.95349,     0.95349,     0.95349,     0.95349,     0.95349,     0.95349,     0.95349,     0.95349,     0.95349,\n",
      "            0.95349,     0.95349,     0.95349,     0.95349,     0.95349,     0.95349,     0.95349,     0.95349,     0.95349,     0.95349,     0.95349,     0.95349,     0.95349,     0.95349,     0.95349,     0.95349,     0.95349,     0.95349,     0.95349,     0.95349,     0.95349,     0.95349,     0.95349,\n",
      "            0.95349,     0.95349,     0.95349,     0.95349,     0.95349,     0.95349,     0.95349,     0.95349,     0.95349,     0.95349,     0.95349,     0.95349,     0.95349,     0.95349,     0.95349,     0.95349,     0.95349,     0.95349,     0.95349,     0.95349,     0.95349,     0.95349,     0.95349,\n",
      "            0.95349,     0.95349,     0.95349,     0.95349,     0.95349,     0.95349,     0.95349,     0.95349,     0.95349,     0.95349,     0.95349,     0.95349,     0.95349,     0.95349,     0.95349,     0.95349,     0.95349,     0.95349,     0.95349,     0.95349,     0.95349,     0.95349,     0.95349,\n",
      "            0.95349,     0.95349,     0.95349,     0.95349,     0.95349,     0.95349,     0.95349,     0.95349,     0.95349,     0.95349,     0.95349,     0.95349,     0.95349,     0.95349,     0.95349,     0.95349,     0.95349,     0.95349,     0.95349,     0.95349,     0.95349,     0.95349,     0.95349,\n",
      "            0.95349,     0.95349,     0.95349,     0.95349,     0.95349,     0.95349,     0.95349,     0.95349,     0.95349,     0.95349,     0.95349,     0.95349,     0.95349,     0.95349,     0.95349,     0.95349,     0.95349,     0.95349,     0.95349,     0.95349,     0.95349,     0.95349,     0.95349,\n",
      "            0.95349,     0.95349,     0.95349,     0.95349,     0.95349,     0.95349,     0.95349,     0.95349,     0.95349,     0.95349,     0.95349,     0.95349,     0.95349,     0.95349,     0.95349,     0.95349,     0.95349,     0.95349,     0.95349,     0.95349,     0.95349,     0.95349,     0.95349,\n",
      "            0.95349,     0.95349,     0.95349,     0.95349,     0.95349,     0.95349,     0.95349,     0.95349,     0.95349,     0.95349,     0.95349,     0.95349,     0.95349,     0.95349,     0.95349,     0.95349,     0.95349,     0.95349,     0.95349,     0.95349,     0.95349,     0.95349,     0.95349,\n",
      "            0.95349,     0.95349,     0.95349,     0.95349,     0.95349,     0.95349,     0.95349,     0.95349,     0.95349,     0.95349,     0.95349,     0.95349,     0.95349,     0.95349,     0.95349,     0.95349,     0.95349,     0.95349,     0.95349,     0.95349,     0.95349,     0.95349,     0.95349,\n",
      "            0.95349,     0.95349,     0.95349,     0.95349,     0.95349,     0.95349,     0.95349,     0.95349,     0.95349,     0.95349,     0.95349,     0.95349,     0.95349,     0.95349,     0.95349,     0.95349,     0.95349,     0.95349,     0.95349,     0.95349,     0.95349,     0.95349,     0.95349,\n",
      "            0.95349,     0.95349,     0.95349,     0.95349,     0.95349,     0.95349,     0.95349,     0.95349,     0.95349,     0.95349,     0.95349,     0.95349,     0.95349,     0.95349,     0.95349,     0.95349,     0.95349,     0.95349,     0.95349,     0.95349,     0.95349,     0.95349,     0.95349,\n",
      "            0.95349,     0.95349,     0.95349,     0.95349,     0.95349,     0.95349,     0.95349,     0.95349,     0.95349,     0.95349,     0.95349,     0.95349,     0.95349,     0.95349,     0.95349,     0.95349,     0.95349,     0.95349,     0.95349,     0.95349,     0.95349,     0.95349,     0.95349,\n",
      "            0.95349,     0.95349,     0.95349,     0.95349,     0.95349,     0.95349,     0.95349,     0.95349,     0.95349,     0.95349,     0.95349,     0.95349,     0.95349,     0.95349,     0.95349,     0.95349,     0.95349,     0.95349,     0.95349,     0.95349,     0.95349,     0.95349,     0.95349,\n",
      "            0.95349,     0.95349,     0.95349,     0.95349,     0.95349,     0.95349,     0.95349,     0.95349,     0.95349,     0.95349,     0.95349,     0.95349,     0.95349,     0.95349,     0.95349,     0.95349,     0.95349,     0.95349,     0.95349,     0.95349,     0.95349,     0.95349,     0.95349,\n",
      "            0.95349,     0.95349,     0.95349,     0.95349,     0.95349,     0.95349,     0.95349,     0.95349,     0.95349,     0.95349,     0.95349,     0.95349,     0.95349,     0.95349,     0.95349,     0.95349,     0.95349,     0.95349,     0.95349,     0.95349,     0.95349,     0.95349,     0.95349,\n",
      "            0.95349,     0.95349,     0.95349,     0.95349,     0.95349,     0.95349,     0.95349,     0.95349,     0.95349,     0.95349,     0.95349,     0.95349,     0.95349,     0.95349,     0.95349,     0.95349,     0.95349,     0.95349,     0.95349,     0.95349,     0.95349,     0.95349,     0.95349,\n",
      "            0.95349,     0.95349,     0.95349,     0.95349,     0.95349,     0.95349,     0.95349,     0.95349,     0.95349,     0.95349,     0.95349,     0.95349,     0.95349,     0.95349,     0.95349,     0.95349,     0.95349,     0.95349,     0.95349,     0.95349,     0.95349,     0.95349,     0.95349,\n",
      "            0.95349,     0.95349,     0.95349,     0.95349,     0.95349,     0.95349,     0.95349,     0.95349,     0.95349,     0.95349,     0.95349,     0.95349,     0.95349,     0.95349,     0.95349,     0.95349,     0.95349,     0.95349,     0.95349,     0.95349,     0.95349,     0.95349,     0.95349,\n",
      "            0.95349,     0.95349,     0.95349,     0.95349,     0.95349,     0.95349,     0.95349,     0.95349,     0.95349,     0.95349,     0.95349,     0.95349,     0.95349,     0.95349,     0.95349,     0.95349,     0.95349,     0.95349,     0.95349,     0.95349,     0.95349,     0.95349,     0.95349,\n",
      "            0.95349,     0.95349,     0.95349,     0.95349,     0.95349,     0.95349,     0.95349,     0.95349,     0.95349,     0.95349,     0.95349,     0.95349,     0.95349,     0.95349,     0.95349,     0.95349,     0.95349,     0.95349,     0.95349,     0.95349,     0.95349,     0.95349,     0.95349,\n",
      "            0.95349,     0.95349,     0.95349,     0.95349,     0.95349,     0.95349,     0.95349,     0.95349,     0.95349,     0.95349,     0.95349,     0.95349,     0.95349,     0.95349,     0.95349,     0.95343,     0.95312,     0.95282,     0.95251,     0.95221,      0.9519,     0.95159,     0.95129,\n",
      "            0.95098,     0.95068,     0.95037,     0.95007,     0.94976,     0.94946,     0.94915,     0.94885,     0.94854,     0.94824,     0.94793,     0.94762,     0.94732,     0.94701,     0.94671,      0.9464,      0.9461,     0.94579,     0.94549,     0.94518,     0.94488,     0.94457,     0.94427,\n",
      "            0.94396,     0.94365,     0.94335,     0.94304,     0.94274,     0.94243,     0.94213,     0.94182,     0.94152,     0.94121,     0.94091,      0.9406,     0.94029,     0.93999,     0.93968,     0.93938,     0.93907,     0.93877,     0.93846,     0.93816,     0.93785,     0.93755,     0.93724,\n",
      "            0.93694,     0.93663,     0.93632,     0.93602,     0.93571,     0.93541,      0.9351,      0.9348,     0.93449,     0.93419,     0.93388,     0.93358,     0.93327,     0.93297,     0.93266,     0.93235,     0.93205,     0.93174,     0.93144,     0.93113,     0.93083,     0.93052,     0.93018,\n",
      "            0.92924,     0.92829,     0.92735,      0.9264,     0.92546,     0.92451,     0.92357,     0.92262,     0.92168,     0.92073,     0.91979,     0.91884,      0.9179,     0.91695,     0.91601,     0.91506,     0.91412,     0.91317,     0.91223,     0.91128,     0.91034,     0.90939,     0.90845,\n",
      "             0.9075,      0.9066,     0.90575,     0.90489,     0.90404,     0.90318,     0.90233,     0.90148,     0.90062,     0.89977,     0.89892,     0.89806,     0.89721,     0.89636,      0.8955,     0.89465,     0.89379,     0.89294,     0.89209,     0.89123,     0.89038,     0.88953,     0.88867,\n",
      "            0.88782,     0.88697,     0.88611,     0.88526,      0.8844,     0.88353,     0.88259,     0.88164,     0.88069,     0.87975,      0.8788,     0.87785,     0.87691,     0.87596,     0.87502,     0.87407,     0.87312,     0.87218,     0.87123,     0.87028,     0.86934,     0.86839,     0.86745,\n",
      "             0.8665,     0.86555,     0.86461,     0.86366,     0.86271,     0.86177,     0.86082,     0.85983,      0.8588,     0.85778,     0.85675,     0.85573,      0.8547,     0.85368,     0.85266,     0.85163,     0.85061,     0.84958,     0.84856,     0.84753,     0.84651,     0.84549,     0.84446,\n",
      "            0.84344,     0.84241,     0.84139,     0.84036,     0.83934,     0.83831,     0.83729,     0.83518,     0.83298,     0.83078,     0.82858,     0.82638,     0.82417,     0.82197,     0.81977,     0.81757,     0.81537,     0.81342,     0.81194,     0.81045,     0.80896,     0.80748,     0.80599,\n",
      "             0.8045,     0.80302,     0.80153,     0.80004,     0.79856,     0.79707,     0.79558,      0.7941,     0.79261,     0.79112,     0.78627,     0.78007,     0.77386,     0.76766,     0.76321,     0.75882,     0.75444,     0.75005,     0.74566,     0.74064,      0.7353,     0.72996,     0.72461,\n",
      "            0.72047,     0.71899,     0.71751,     0.71603,     0.71455,     0.71308,      0.7116,     0.71012,     0.70864,     0.70716,     0.70568,      0.7042,     0.70272,     0.70124,     0.69976,     0.69828,     0.69767,     0.69767,     0.69767,     0.68455,     0.66923,     0.65937,     0.65096,\n",
      "            0.64974,     0.64852,      0.6473,     0.64608,     0.64486,     0.64364,     0.64242,      0.6412,     0.63999,     0.63877,     0.63755,     0.63633,     0.63511,     0.63389,     0.63267,     0.63145,     0.63023,     0.62901,     0.62776,     0.62618,     0.62459,     0.62301,     0.62143,\n",
      "            0.61985,     0.61826,     0.61668,      0.6151,     0.61352,     0.61193,     0.61035,     0.60877,     0.60719,     0.60561,     0.60207,     0.59558,     0.58908,     0.58259,      0.5621,     0.55661,     0.55478,     0.55295,     0.55112,     0.54928,     0.54745,     0.54562,     0.54378,\n",
      "            0.54195,     0.54012,     0.53829,     0.53645,     0.53439,     0.53096,     0.52754,     0.52411,     0.52068,     0.51725,     0.51382,      0.5105,     0.50735,      0.5042,     0.50106,     0.49791,     0.49476,     0.49162,     0.48847,     0.48514,     0.48181,     0.47848,     0.47515,\n",
      "            0.47181,     0.46848,     0.46515,     0.41675,     0.41361,     0.41046,     0.40731,     0.40416,     0.40101,     0.39786,     0.39535,     0.39535,     0.39535,     0.39535,     0.39535,     0.39413,     0.38167,     0.37026,     0.36232,     0.35439,     0.34811,     0.34572,     0.34332,\n",
      "            0.34092,     0.33852,     0.33612,     0.33372,     0.33132,     0.32892,     0.32652,     0.30647,     0.25448,     0.24331,     0.23223,     0.22363,     0.21502,     0.20685,     0.19954,     0.19222,     0.17271,     0.15658,     0.14956,     0.14255,     0.13268,     0.12068,     0.10754,\n",
      "           0.093743,    0.079222,     0.06296,    0.046129,    0.043623,    0.041116,     0.03861,    0.036104,    0.033597,    0.031091,    0.028584,    0.026078,    0.023571,           0,           0,           0,           0,           0,           0,           0,           0,           0,           0,\n",
      "                  0,           0,           0,           0,           0,           0,           0,           0,           0,           0,           0]]), 'Confidence', 'Recall']]\n",
      "fitness: 0.6947835622694023\n",
      "keys: ['metrics/precision(B)', 'metrics/recall(B)', 'metrics/mAP50(B)', 'metrics/mAP50-95(B)']\n",
      "maps: array([    0.67035])\n",
      "names: {0: 'image-segmentation'}\n",
      "plot: True\n",
      "results_dict: {'metrics/precision(B)': 0.9317306955535697, 'metrics/recall(B)': 0.9522052402120469, 'metrics/mAP50(B)': 0.9147228787878787, 'metrics/mAP50-95(B)': 0.670345860434016, 'fitness': 0.6947835622694023}\n",
      "save_dir: WindowsPath('C:/Users/adhik/runs/detect/train42')\n",
      "speed: {'preprocess': 1.3078198288426255, 'inference': 38.80471171754779, 'loss': 0.0, 'postprocess': 1.4261476921312737}\n",
      "task: 'detect'\n"
     ]
    }
   ],
   "source": [
    "metrics = model.val(data=\"C:\\\\Users\\\\adhik\\\\Downloads\\\\Lime\\\\data.yaml\")\n",
    "print(metrics)\n"
   ]
  },
  {
   "cell_type": "code",
   "execution_count": 10,
   "id": "4dc5229c-2075-4bb1-9790-fed32cc87a15",
   "metadata": {},
   "outputs": [
    {
     "name": "stdout",
     "output_type": "stream",
     "text": [
      "Ultralytics 8.3.0  Python-3.12.4 torch-2.4.1+cpu CPU (12th Gen Intel Core(TM) i7-12650H)\n"
     ]
    },
    {
     "name": "stderr",
     "output_type": "stream",
     "text": [
      "val: Scanning C:\\Users\\adhik\\Downloads\\Lime\\valid\\labels.cache... 33 images, 2 backgrounds, 0 corrupt: 100%|██████████|Scanning C:\\Users\\adhik\\Downloads\\Lime\\valid\\labels.cache... 33 images, 2 backgrounds, 0 corrupt: 100%|██████████|\n",
      "                 Class     Images  Instances      Box(P          R      mAP50  mAP50-95): 100%|██████████| 3/3 [00:03<0\n"
     ]
    },
    {
     "name": "stdout",
     "output_type": "stream",
     "text": [
      "                   all         33         43      0.932      0.952      0.933       0.73\n",
      "Speed: 2.8ms preprocess, 96.5ms inference, 0.0ms loss, 1.0ms postprocess per image\n",
      "Results saved to \u001b[1mC:\\Users\\adhik\\runs\\detect\\train48\u001b[0m\n",
      "Mean Precision: 0.9317306955535697, Mean Recall: 0.9522052402120469, Mean mAP: 0.9333891575327744\n"
     ]
    }
   ],
   "source": [
    "# Evaluate the model on the test set\n",
    "test_metrics = model.val(data=\"C:\\\\Users\\\\adhik\\\\Downloads\\\\Lime\\\\data.yaml\", conf=0.25)\n",
    "\n",
    "# Get mean results by calling the method\n",
    "mean_results = test_metrics.mean_results()\n",
    "\n",
    "# Now you can access the values\n",
    "print(f\"Mean Precision: {mean_results[0]}, Mean Recall: {mean_results[1]}, Mean mAP: {mean_results[2]}\")\n"
   ]
  },
  {
   "cell_type": "code",
   "execution_count": null,
   "id": "be357fce-d6dd-477a-ab40-7e4d3d93c7ad",
   "metadata": {},
   "outputs": [],
   "source": [
    "model.save('Lime_segm.pt')"
   ]
  }
 ],
 "metadata": {
  "kernelspec": {
   "display_name": "Python 3 (ipykernel)",
   "language": "python",
   "name": "python3"
  },
  "language_info": {
   "codemirror_mode": {
    "name": "ipython",
    "version": 3
   },
   "file_extension": ".py",
   "mimetype": "text/x-python",
   "name": "python",
   "nbconvert_exporter": "python",
   "pygments_lexer": "ipython3",
   "version": "3.12.4"
  }
 },
 "nbformat": 4,
 "nbformat_minor": 5
}
